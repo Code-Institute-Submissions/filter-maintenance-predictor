{
 "cells": [
  {
   "cell_type": "markdown",
   "metadata": {},
   "source": [
    "# CI Portfolio Project 5 - Filter Maintenance Predictor 2022\n",
    "## **ML Model - Early Filter Failure (Cluster)**"
   ]
  },
  {
   "cell_type": "markdown",
   "metadata": {},
   "source": [
    "## Objectives\n",
    "\n",
    "Answer [Business Requirement 3](https://github.com/roeszler/filter-maintenance-predictor/blob/main/README.md#business-requirements) :\n",
    "* Fit and evaluate a **k-means probabilistic cluster model** to group similar data\n",
    "* Understand the profile for each dust type being filtered\n",
    "\n",
    "## Inputs\n",
    "\n",
    "Data cleaning and feature engineering from their respective notebooks:\n",
    "* inputs/datasets/cleaned/df_train.csv\n",
    "* inputs/datasets/cleaned/df_test.csv\n",
    "* inputs/datasets/cleaned/df_validate.csv\n",
    "\n",
    "## Outputs\n",
    "\n",
    "* Cluster Pipeline\n",
    "* Train Set\n",
    "* Most important features to define a cluster plot\n",
    "* Clusters Profile Description\n",
    "* Cluster Silhouette\n"
   ]
  },
  {
   "cell_type": "markdown",
   "metadata": {},
   "source": [
    "---"
   ]
  },
  {
   "attachments": {},
   "cell_type": "markdown",
   "metadata": {},
   "source": [
    "### The major steps in this notebook\n",
    "\n",
    "1. **Fit Pipelines with all data**\n",
    "    * Pipeline to handle imbalance\n",
    "        * ML Pipeline for Data Cleaning and Feature Engineering\n",
    "        * ML Pipeline for Modelling and Hyperparameter Optimization\n",
    "        * Split the Train and Validation Set\n",
    "        * Handle Target Imbalance\n",
    "\n",
    "    * Pipeline with All Data\n",
    "        * Grid Search CV SKLearn\n",
    "        * Use standard hyperparameters to find most suitable algorithm\n",
    "        * Do an extensive search on most suitable algorithm to find the best hyperparameter configuration\n",
    "        * Assess Feature Importance\n",
    "        * Evaluate Pipeline on train and Test Sets\n",
    "\n",
    "2. **Refit Pipeline with best features**\n",
    "    * Rewrite ML Pipeline for Data Cleaning and Feature Engineering\n",
    "    * Rewrite ML Pipeline for Modelling\n",
    "    * Split Train and Validation set considering only with best features\n",
    "    * Handle Target Imbalance\n",
    "    * Grid Search CV - SKLearn: using most suitable model from all data section plus its best hyperparameter configuration\n",
    "    * Assess feature importance\n",
    "    * Evaluate Pipeline on Train, Test and Validation Sets\n",
    "\n",
    "3. **Push files to Repo**"
   ]
  },
  {
   "attachments": {},
   "cell_type": "markdown",
   "metadata": {},
   "source": [
    "4. Modelling:\n",
    "The hypothesis part of the process where you will find out whether you can answer the question.\n",
    "* Identify what techniques to use.\n",
    "* Split your data into train, validate and test sets.\n",
    "* Build and train the models with the train data set.\n",
    "* Validate Models and hyper-parameter : Trial different machine learning methods and models with the validation data set.\n",
    "* Poor Results - return to data preparation for feature engineering\n",
    "* Successful hypothesis - where the inputs from the data set are mapped to the output target / label appropriately into Evaluation\n",
    "5. Evaluation:\n",
    "Where you test whether the model can predict unseen data.\n",
    "* Test Dataset\n",
    "* Choose the model that meets the business success criteria best.\n",
    "* Review and document the work that you have done.\n",
    "* If your project meets the success metrics you defined with your customer?\n",
    "- Ready to deploy."
   ]
  },
  {
   "cell_type": "code",
   "execution_count": null,
   "metadata": {},
   "outputs": [],
   "source": []
  }
 ],
 "metadata": {
  "kernelspec": {
   "display_name": "Python 3",
   "language": "python",
   "name": "python3"
  },
  "language_info": {
   "name": "python",
   "version": "3.8.12 (default, Dec  2 2022, 16:09:02) \n[GCC 9.4.0]"
  },
  "orig_nbformat": 4,
  "vscode": {
   "interpreter": {
    "hash": "8b8334dab9339717f727a1deaf837b322d7a41c20d15cc86be99a8e69ceec8ce"
   }
  }
 },
 "nbformat": 4,
 "nbformat_minor": 2
}
