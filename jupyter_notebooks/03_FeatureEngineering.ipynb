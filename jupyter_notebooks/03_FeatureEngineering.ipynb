{
 "cells": [
  {
   "cell_type": "markdown",
   "metadata": {},
   "source": [
    "# CI Portfolio Project 5 - Filter Maintenance Predictor 2022\n",
    "## **Feature Engineering Notebook**"
   ]
  },
  {
   "attachments": {},
   "cell_type": "markdown",
   "metadata": {},
   "source": [
    "## Objectives"
   ]
  },
  {
   "attachments": {},
   "cell_type": "markdown",
   "metadata": {},
   "source": [
    "**1. Cleaning**\n",
    "\n",
    "Performed within the [data cleaning notebook](jupyter_notebooks/02_DataCleaning.ipynb).\n",
    "\n",
    "**2. Data Transformation**\n",
    "* Processing the data for the modelling stage.\n",
    "* Transform data into a format that is useful for the algorithm learn the relationship among the variables.\n",
    "* Evaluate the use of the following approaches to engineer the variables:\n",
    "    * ordinal categorical encoding\n",
    "    * numerical transformation\n",
    "    * smart correlated selection\n",
    "    \n",
    "**3. Feature Extraction**\n",
    "\n",
    "**4. Feature Selection**\n",
    "\n",
    "**5. Feature Iteration**\n"
   ]
  },
  {
   "attachments": {},
   "cell_type": "markdown",
   "metadata": {},
   "source": [
    "\n",
    "### Inputs\n",
    "\n",
    "1. Cleaned Test Dataset : `outputs/datasets/collection/dfCleanTrain.csv`\n",
    "\n",
    "2. Cleaned Train Dataset : `outputs/datasets/collection/dfCleanTrain.csv`\n",
    "\n",
    "### Outputs\n",
    "\n",
    "* Generate engineered Train and Test sets, both saved under `outputs/datasets/transformed`\n",
    "\n",
    "### Conclusions\n",
    "\n",
    "  * Best approach to engineer variables based on...\n",
    "  * Transformations that we will consider in our pipeline are..."
   ]
  },
  {
   "cell_type": "markdown",
   "metadata": {},
   "source": [
    "---"
   ]
  },
  {
   "attachments": {},
   "cell_type": "markdown",
   "metadata": {},
   "source": [
    "# Change working directory"
   ]
  },
  {
   "cell_type": "code",
   "execution_count": 1,
   "metadata": {},
   "outputs": [
    {
     "data": {
      "text/plain": [
       "'/workspace/filter-maintenance-predictor/jupyter_notebooks'"
      ]
     },
     "execution_count": 1,
     "metadata": {},
     "output_type": "execute_result"
    }
   ],
   "source": [
    "import os\n",
    "current_dir = os.getcwd()\n",
    "current_dir"
   ]
  },
  {
   "cell_type": "code",
   "execution_count": 2,
   "metadata": {},
   "outputs": [
    {
     "name": "stdout",
     "output_type": "stream",
     "text": [
      "Current directory set to new location\n"
     ]
    }
   ],
   "source": [
    "os.chdir(os.path.dirname(current_dir))\n",
    "print(\"Current directory set to new location\")"
   ]
  },
  {
   "cell_type": "code",
   "execution_count": 3,
   "metadata": {},
   "outputs": [
    {
     "data": {
      "text/plain": [
       "'/workspace/filter-maintenance-predictor'"
      ]
     },
     "execution_count": 3,
     "metadata": {},
     "output_type": "execute_result"
    }
   ],
   "source": [
    "current_dir = os.getcwd()\n",
    "current_dir"
   ]
  },
  {
   "attachments": {},
   "cell_type": "markdown",
   "metadata": {},
   "source": [
    "---"
   ]
  },
  {
   "attachments": {},
   "cell_type": "markdown",
   "metadata": {},
   "source": [
    "# Load Cleaned Data"
   ]
  },
  {
   "cell_type": "code",
   "execution_count": 4,
   "metadata": {},
   "outputs": [],
   "source": [
    "import pandas as pd\n",
    "df_train = pd.read_csv(f'outputs/datasets/cleaned/dfCleanTrain.csv')\n",
    "df_test = pd.read_csv(f'outputs/datasets/cleaned/dfCleanTest.csv')"
   ]
  },
  {
   "attachments": {},
   "cell_type": "markdown",
   "metadata": {},
   "source": [
    "---"
   ]
  },
  {
   "attachments": {},
   "cell_type": "markdown",
   "metadata": {},
   "source": [
    "# Data Transformation"
   ]
  },
  {
   "attachments": {},
   "cell_type": "markdown",
   "metadata": {},
   "source": [
    "## Ordinal Categorical encoding"
   ]
  },
  {
   "attachments": {},
   "cell_type": "markdown",
   "metadata": {},
   "source": [
    "## Numerical transformation\n",
    "\n",
    "This process can consider transformers like: \n",
    "* Logarithmic in base e\n",
    "* Logarithmic in base 10\n",
    "* Reciprocal\n",
    "* Power\n",
    "* BoxCox\n",
    "* Yeo Johnson\n"
   ]
  },
  {
   "attachments": {},
   "cell_type": "markdown",
   "metadata": {},
   "source": [
    "#### Outliers in differential pressure observations\n",
    "\n",
    "In each bin we notice that the differential_pressure and change_DP observations, the size and direction of first few observations indicated they may be outliers. Considering three main methods to deal with outliers:\n",
    "* Log transformation.\n",
    "* Dropping the outliers.\n",
    "* Winsorize method."
   ]
  },
  {
   "attachments": {},
   "cell_type": "markdown",
   "metadata": {},
   "source": [
    "### Logarithmic Transformation of Differential Pressure\n",
    "\n",
    "As seen at data collection, the original continuous `differential_pressure` data is right or **positively skewed** at 1.81 and does not follow the shape of a normally distributed bell curve."
   ]
  },
  {
   "cell_type": "code",
   "execution_count": 5,
   "metadata": {},
   "outputs": [
    {
     "data": {
      "image/png": "[encoded data removed]",
      "text/plain": [
       "<Figure size 640x480 with 1 Axes>"
      ]
     },
     "metadata": {},
     "output_type": "display_data"
    }
   ],
   "source": [
    "import numpy as np\n",
    "import seaborn as sns\n",
    "import matplotlib.pyplot as plt\n",
    "\n",
    "sns.histplot(x = df_train['Differential_pressure'])\n",
    "plt.show()"
   ]
  },
  {
   "attachments": {},
   "cell_type": "markdown",
   "metadata": {},
   "source": [
    "A log transformation of this data to make it as “normal” as possible so that the statistical analysis results from this data become more valid."
   ]
  },
  {
   "cell_type": "code",
   "execution_count": 6,
   "metadata": {},
   "outputs": [
    {
     "name": "stderr",
     "output_type": "stream",
     "text": [
      "/workspace/.pip-modules/lib/python3.8/site-packages/pandas/core/arraylike.py:402: RuntimeWarning: divide by zero encountered in log\n",
      "  result = getattr(ufunc, method)(*inputs, **kwargs)\n"
     ]
    },
    {
     "data": {
      "image/png": "[encoded data removed]",
      "text/plain": [
       "<Figure size 640x480 with 1 Axes>"
      ]
     },
     "metadata": {},
     "output_type": "display_data"
    }
   ],
   "source": [
    "df_train_log = df_train['Differential_pressure']\n",
    "log_dp = np.log(df_train_log)\n",
    "# df_train['log_DP'] = log_dp\n",
    "sns.histplot(x = log_dp)\n",
    "# sns.boxplot(x = log_dp)\n",
    "plt.title('Log_DP Histogram')\n",
    "plt.show()"
   ]
  },
  {
   "attachments": {},
   "cell_type": "markdown",
   "metadata": {},
   "source": [
    "**Observations** \n",
    "* The shape of the numerical differential_pressure data is improved by a natural logarithmic transformation\n",
    "    * Untreated values of 78.23 mean, std.deviation at 107.34 and median at 35.17, indicates the positively skewed nature of the original data\n",
    "    * Transformed the data is much improved with mean 3.18 much closer to the median 3.89\n",
    "\n",
    "The transformed data is still affected by the slight negative skew in the data:\n",
    "* Pressure measures show unusual behavior at the start of most tests, producing an unusual entry tail of values at zero or below.\n",
    "    * These can be managed by adding a constant to stop the value becoming negative, or indicate the negative as a missing number or drop the entire observation.\n",
    "    * Considering these measures indicate a zone at the beginning of the test procedure to 'equalize' the difference in pressure between the areas before and after the filter, we can treat them as outliers and confidently drop the entire row this observation sits in."
   ]
  },
  {
   "attachments": {},
   "cell_type": "markdown",
   "metadata": {},
   "source": [
    "### Dropping Outliers\n",
    "Dropping all negative numbers to reduce the noise of the data"
   ]
  },
  {
   "attachments": {},
   "cell_type": "markdown",
   "metadata": {},
   "source": [
    "#### Evaluation of detecting outliers using IQR"
   ]
  },
  {
   "cell_type": "code",
   "execution_count": 7,
   "metadata": {},
   "outputs": [
    {
     "name": "stdout",
     "output_type": "stream",
     "text": [
      "Old Shape:  (39420, 11)\n",
      "New Shape:  (29688, 11)\n"
     ]
    },
    {
     "name": "stderr",
     "output_type": "stream",
     "text": [
      "/workspace/.pip-modules/lib/python3.8/site-packages/pandas/core/arraylike.py:402: RuntimeWarning: divide by zero encountered in log\n",
      "  result = getattr(ufunc, method)(*inputs, **kwargs)\n"
     ]
    },
    {
     "data": {
      "image/png": "[encoded data removed]",
      "text/plain": [
       "<Figure size 640x480 with 1 Axes>"
      ]
     },
     "metadata": {},
     "output_type": "display_data"
    }
   ],
   "source": [
    "df_train_IQR = df_train.copy()\n",
    "\n",
    "# IQR\n",
    "Q1 = np.percentile(df_train_IQR, 25, method='midpoint')\n",
    "Q3 = np.percentile(df_train_IQR, 75,method='midpoint')\n",
    "IQR = Q3 - Q1\n",
    "print(\"Old Shape: \", df_train_IQR.shape)\n",
    " \n",
    "# Upper bound\n",
    "upper = np.where(df_train_IQR >= (Q3+1.5*IQR))\n",
    "# Lower bound\n",
    "lower = np.where(df_train_IQR <= (Q1-1.5*IQR))\n",
    " \n",
    "''' Removing the Outliers '''\n",
    "df_train_IQR.drop(upper[0], inplace = True)\n",
    "df_train_IQR.drop(lower[0], inplace = True)\n",
    " \n",
    "print(\"New Shape: \", df_train_IQR.shape)\n",
    "\n",
    "df_train_log_IQR = df_train_IQR['Differential_pressure']\n",
    "log_dp_IQR = np.log(df_train_log_IQR)\n",
    "# df_train_IQR['log_DP'] = log_dp\n",
    "sns.histplot(x = log_dp_IQR)\n",
    "plt.title('IQR Histogram')\n",
    "plt.show()"
   ]
  },
  {
   "attachments": {},
   "cell_type": "markdown",
   "metadata": {},
   "source": [
    "IQR transformation is not particularly effective on this data. We can observe that it has made the log data more negatively skewed, in the exact opposite direction we started with. We will not apply this method and proceed with other techniques."
   ]
  },
  {
   "attachments": {},
   "cell_type": "markdown",
   "metadata": {},
   "source": [
    "#### The Winsorize Method\n",
    "Winsorization is the process of replacing the extreme values of statistical data in order to limit the effect of the outliers on the calculations or the results obtained by using that data. To apply this to a our `differential_pressure` variable, where outliers are present only at one end of the data:\n",
    "* The lower 10% values of the data will have their values set equal to the value of the data point at the 10th percentile."
   ]
  },
  {
   "cell_type": "code",
   "execution_count": 8,
   "metadata": {},
   "outputs": [
    {
     "data": {
      "image/png": "[encoded data removed]",
      "text/plain": [
       "<Figure size 640x480 with 1 Axes>"
      ]
     },
     "metadata": {},
     "output_type": "display_data"
    },
    {
     "name": "stdout",
     "output_type": "stream",
     "text": [
      "Old Mean:  78.23205031458396\n",
      "New Mean:  65.76584999494926\n"
     ]
    }
   ],
   "source": [
    "from scipy.stats.mstats import winsorize\n",
    "\n",
    "WinsorizedArrayMean = np.mean(df_train['Differential_pressure'])\n",
    "df_train['winz_Mean'] = winsorize(df_train['Differential_pressure'],(0.1,0.1))\n",
    "WinsorizedArray = df_train['winz_Mean']\n",
    "plt.boxplot(WinsorizedArray)\n",
    "plt.title('Winsorized array')\n",
    "plt.show()\n",
    "WinsorizedArrayNewMean = np.mean(WinsorizedArray)\n",
    "print('Old Mean: ', WinsorizedArrayMean)\n",
    "print('New Mean: ', WinsorizedArrayNewMean)"
   ]
  },
  {
   "cell_type": "code",
   "execution_count": 9,
   "metadata": {},
   "outputs": [
    {
     "data": {
      "text/html": [
       "<div>\n",
       "<style scoped>\n",
       "    .dataframe tbody tr th:only-of-type {\n",
       "        vertical-align: middle;\n",
       "    }\n",
       "\n",
       "    .dataframe tbody tr th {\n",
       "        vertical-align: top;\n",
       "    }\n",
       "\n",
       "    .dataframe thead th {\n",
       "        text-align: right;\n",
       "    }\n",
       "</style>\n",
       "<table border=\"1\" class=\"dataframe\">\n",
       "  <thead>\n",
       "    <tr style=\"text-align: right;\">\n",
       "      <th></th>\n",
       "      <th>Data_No</th>\n",
       "      <th>Differential_pressure</th>\n",
       "      <th>Flow_rate</th>\n",
       "      <th>Time</th>\n",
       "      <th>Dust_feed</th>\n",
       "      <th>Dust</th>\n",
       "      <th>change_DP</th>\n",
       "      <th>Mass_g</th>\n",
       "      <th>Cumulative_Mass_g</th>\n",
       "      <th>Tt</th>\n",
       "      <th>Filter_Balance</th>\n",
       "      <th>winz_Mean</th>\n",
       "    </tr>\n",
       "  </thead>\n",
       "  <tbody>\n",
       "    <tr>\n",
       "      <th>0</th>\n",
       "      <td>1</td>\n",
       "      <td>0.0000</td>\n",
       "      <td>0.000000</td>\n",
       "      <td>0.1</td>\n",
       "      <td>236.428943</td>\n",
       "      <td>1.025</td>\n",
       "      <td>0.0000</td>\n",
       "      <td>0.242340</td>\n",
       "      <td>0.242340</td>\n",
       "      <td>44.9</td>\n",
       "      <td>100.00</td>\n",
       "      <td>0.0000</td>\n",
       "    </tr>\n",
       "    <tr>\n",
       "      <th>1</th>\n",
       "      <td>1</td>\n",
       "      <td>0.0000</td>\n",
       "      <td>0.000000</td>\n",
       "      <td>0.2</td>\n",
       "      <td>236.428943</td>\n",
       "      <td>1.025</td>\n",
       "      <td>0.0000</td>\n",
       "      <td>0.242340</td>\n",
       "      <td>0.484679</td>\n",
       "      <td>44.9</td>\n",
       "      <td>100.00</td>\n",
       "      <td>0.0000</td>\n",
       "    </tr>\n",
       "    <tr>\n",
       "      <th>2</th>\n",
       "      <td>1</td>\n",
       "      <td>0.0000</td>\n",
       "      <td>0.000000</td>\n",
       "      <td>0.3</td>\n",
       "      <td>236.428943</td>\n",
       "      <td>1.025</td>\n",
       "      <td>0.0000</td>\n",
       "      <td>0.242340</td>\n",
       "      <td>0.727019</td>\n",
       "      <td>44.9</td>\n",
       "      <td>100.00</td>\n",
       "      <td>0.0000</td>\n",
       "    </tr>\n",
       "    <tr>\n",
       "      <th>3</th>\n",
       "      <td>1</td>\n",
       "      <td>0.0000</td>\n",
       "      <td>0.000000</td>\n",
       "      <td>0.4</td>\n",
       "      <td>236.428943</td>\n",
       "      <td>1.025</td>\n",
       "      <td>0.0000</td>\n",
       "      <td>0.242340</td>\n",
       "      <td>0.969359</td>\n",
       "      <td>44.9</td>\n",
       "      <td>100.00</td>\n",
       "      <td>0.0000</td>\n",
       "    </tr>\n",
       "    <tr>\n",
       "      <th>4</th>\n",
       "      <td>1</td>\n",
       "      <td>0.0000</td>\n",
       "      <td>0.000000</td>\n",
       "      <td>0.5</td>\n",
       "      <td>236.428943</td>\n",
       "      <td>1.025</td>\n",
       "      <td>0.0000</td>\n",
       "      <td>0.242340</td>\n",
       "      <td>1.211698</td>\n",
       "      <td>44.9</td>\n",
       "      <td>100.00</td>\n",
       "      <td>0.0000</td>\n",
       "    </tr>\n",
       "    <tr>\n",
       "      <th>...</th>\n",
       "      <td>...</td>\n",
       "      <td>...</td>\n",
       "      <td>...</td>\n",
       "      <td>...</td>\n",
       "      <td>...</td>\n",
       "      <td>...</td>\n",
       "      <td>...</td>\n",
       "      <td>...</td>\n",
       "      <td>...</td>\n",
       "      <td>...</td>\n",
       "      <td>...</td>\n",
       "      <td>...</td>\n",
       "    </tr>\n",
       "    <tr>\n",
       "      <th>39415</th>\n",
       "      <td>50</td>\n",
       "      <td>359.9718</td>\n",
       "      <td>58.721877</td>\n",
       "      <td>59.4</td>\n",
       "      <td>177.321707</td>\n",
       "      <td>1.200</td>\n",
       "      <td>1.6276</td>\n",
       "      <td>0.212786</td>\n",
       "      <td>126.394913</td>\n",
       "      <td>59.8</td>\n",
       "      <td>40.00</td>\n",
       "      <td>218.7319</td>\n",
       "    </tr>\n",
       "    <tr>\n",
       "      <th>39416</th>\n",
       "      <td>50</td>\n",
       "      <td>360.7856</td>\n",
       "      <td>58.699919</td>\n",
       "      <td>59.5</td>\n",
       "      <td>177.321707</td>\n",
       "      <td>1.200</td>\n",
       "      <td>0.8138</td>\n",
       "      <td>0.212786</td>\n",
       "      <td>126.607699</td>\n",
       "      <td>59.8</td>\n",
       "      <td>39.87</td>\n",
       "      <td>218.7319</td>\n",
       "    </tr>\n",
       "    <tr>\n",
       "      <th>39417</th>\n",
       "      <td>50</td>\n",
       "      <td>361.5090</td>\n",
       "      <td>58.743820</td>\n",
       "      <td>59.6</td>\n",
       "      <td>177.321707</td>\n",
       "      <td>1.200</td>\n",
       "      <td>0.7234</td>\n",
       "      <td>0.212786</td>\n",
       "      <td>126.820485</td>\n",
       "      <td>59.8</td>\n",
       "      <td>39.75</td>\n",
       "      <td>218.7319</td>\n",
       "    </tr>\n",
       "    <tr>\n",
       "      <th>39418</th>\n",
       "      <td>50</td>\n",
       "      <td>362.0515</td>\n",
       "      <td>58.601152</td>\n",
       "      <td>59.7</td>\n",
       "      <td>177.321707</td>\n",
       "      <td>1.200</td>\n",
       "      <td>0.5425</td>\n",
       "      <td>0.212786</td>\n",
       "      <td>127.033271</td>\n",
       "      <td>59.8</td>\n",
       "      <td>39.66</td>\n",
       "      <td>218.7319</td>\n",
       "    </tr>\n",
       "    <tr>\n",
       "      <th>39419</th>\n",
       "      <td>50</td>\n",
       "      <td>366.4822</td>\n",
       "      <td>58.612131</td>\n",
       "      <td>59.8</td>\n",
       "      <td>177.321707</td>\n",
       "      <td>1.200</td>\n",
       "      <td>4.4307</td>\n",
       "      <td>0.212786</td>\n",
       "      <td>127.246057</td>\n",
       "      <td>59.8</td>\n",
       "      <td>38.92</td>\n",
       "      <td>218.7319</td>\n",
       "    </tr>\n",
       "  </tbody>\n",
       "</table>\n",
       "<p>39420 rows × 12 columns</p>\n",
       "</div>"
      ],
      "text/plain": [
       "       Data_No  Differential_pressure  Flow_rate  Time   Dust_feed   Dust  \\\n",
       "0            1                 0.0000   0.000000   0.1  236.428943  1.025   \n",
       "1            1                 0.0000   0.000000   0.2  236.428943  1.025   \n",
       "2            1                 0.0000   0.000000   0.3  236.428943  1.025   \n",
       "3            1                 0.0000   0.000000   0.4  236.428943  1.025   \n",
       "4            1                 0.0000   0.000000   0.5  236.428943  1.025   \n",
       "...        ...                    ...        ...   ...         ...    ...   \n",
       "39415       50               359.9718  58.721877  59.4  177.321707  1.200   \n",
       "39416       50               360.7856  58.699919  59.5  177.321707  1.200   \n",
       "39417       50               361.5090  58.743820  59.6  177.321707  1.200   \n",
       "39418       50               362.0515  58.601152  59.7  177.321707  1.200   \n",
       "39419       50               366.4822  58.612131  59.8  177.321707  1.200   \n",
       "\n",
       "       change_DP    Mass_g  Cumulative_Mass_g    Tt  Filter_Balance  winz_Mean  \n",
       "0         0.0000  0.242340           0.242340  44.9          100.00     0.0000  \n",
       "1         0.0000  0.242340           0.484679  44.9          100.00     0.0000  \n",
       "2         0.0000  0.242340           0.727019  44.9          100.00     0.0000  \n",
       "3         0.0000  0.242340           0.969359  44.9          100.00     0.0000  \n",
       "4         0.0000  0.242340           1.211698  44.9          100.00     0.0000  \n",
       "...          ...       ...                ...   ...             ...        ...  \n",
       "39415     1.6276  0.212786         126.394913  59.8           40.00   218.7319  \n",
       "39416     0.8138  0.212786         126.607699  59.8           39.87   218.7319  \n",
       "39417     0.7234  0.212786         126.820485  59.8           39.75   218.7319  \n",
       "39418     0.5425  0.212786         127.033271  59.8           39.66   218.7319  \n",
       "39419     4.4307  0.212786         127.246057  59.8           38.92   218.7319  \n",
       "\n",
       "[39420 rows x 12 columns]"
      ]
     },
     "execution_count": 9,
     "metadata": {},
     "output_type": "execute_result"
    }
   ],
   "source": [
    "df_train"
   ]
  },
  {
   "attachments": {},
   "cell_type": "markdown",
   "metadata": {},
   "source": [
    "### Remove rows with negative numbers"
   ]
  },
  {
   "cell_type": "code",
   "execution_count": 10,
   "metadata": {},
   "outputs": [
    {
     "data": {
      "text/html": [
       "<div>\n",
       "<style scoped>\n",
       "    .dataframe tbody tr th:only-of-type {\n",
       "        vertical-align: middle;\n",
       "    }\n",
       "\n",
       "    .dataframe tbody tr th {\n",
       "        vertical-align: top;\n",
       "    }\n",
       "\n",
       "    .dataframe thead th {\n",
       "        text-align: right;\n",
       "    }\n",
       "</style>\n",
       "<table border=\"1\" class=\"dataframe\">\n",
       "  <thead>\n",
       "    <tr style=\"text-align: right;\">\n",
       "      <th></th>\n",
       "      <th>Data_No</th>\n",
       "      <th>Differential_pressure</th>\n",
       "      <th>Flow_rate</th>\n",
       "      <th>Time</th>\n",
       "      <th>Dust_feed</th>\n",
       "      <th>Dust</th>\n",
       "      <th>change_DP</th>\n",
       "      <th>Mass_g</th>\n",
       "      <th>Cumulative_Mass_g</th>\n",
       "      <th>Tt</th>\n",
       "      <th>Filter_Balance</th>\n",
       "      <th>winz_Mean</th>\n",
       "      <th>log_DP</th>\n",
       "    </tr>\n",
       "  </thead>\n",
       "  <tbody>\n",
       "    <tr>\n",
       "      <th>53</th>\n",
       "      <td>1</td>\n",
       "      <td>1.537182</td>\n",
       "      <td>51.827014</td>\n",
       "      <td>5.4</td>\n",
       "      <td>236.428943</td>\n",
       "      <td>1.025</td>\n",
       "      <td>1.265915</td>\n",
       "      <td>0.242340</td>\n",
       "      <td>13.086342</td>\n",
       "      <td>44.9</td>\n",
       "      <td>99.74</td>\n",
       "      <td>1.537182</td>\n",
       "      <td>0.429951</td>\n",
       "    </tr>\n",
       "    <tr>\n",
       "      <th>54</th>\n",
       "      <td>1</td>\n",
       "      <td>1.537182</td>\n",
       "      <td>54.143527</td>\n",
       "      <td>5.5</td>\n",
       "      <td>236.428943</td>\n",
       "      <td>1.025</td>\n",
       "      <td>0.000000</td>\n",
       "      <td>0.242340</td>\n",
       "      <td>13.328682</td>\n",
       "      <td>44.9</td>\n",
       "      <td>99.74</td>\n",
       "      <td>1.537182</td>\n",
       "      <td>0.429951</td>\n",
       "    </tr>\n",
       "    <tr>\n",
       "      <th>55</th>\n",
       "      <td>1</td>\n",
       "      <td>1.537182</td>\n",
       "      <td>54.518255</td>\n",
       "      <td>5.6</td>\n",
       "      <td>236.428943</td>\n",
       "      <td>1.025</td>\n",
       "      <td>0.000000</td>\n",
       "      <td>0.242340</td>\n",
       "      <td>13.571021</td>\n",
       "      <td>44.9</td>\n",
       "      <td>99.74</td>\n",
       "      <td>1.537182</td>\n",
       "      <td>0.429951</td>\n",
       "    </tr>\n",
       "    <tr>\n",
       "      <th>56</th>\n",
       "      <td>1</td>\n",
       "      <td>1.537182</td>\n",
       "      <td>54.658781</td>\n",
       "      <td>5.7</td>\n",
       "      <td>236.428943</td>\n",
       "      <td>1.025</td>\n",
       "      <td>0.000000</td>\n",
       "      <td>0.242340</td>\n",
       "      <td>13.813361</td>\n",
       "      <td>44.9</td>\n",
       "      <td>99.74</td>\n",
       "      <td>1.537182</td>\n",
       "      <td>0.429951</td>\n",
       "    </tr>\n",
       "    <tr>\n",
       "      <th>57</th>\n",
       "      <td>1</td>\n",
       "      <td>3.345631</td>\n",
       "      <td>54.780562</td>\n",
       "      <td>5.8</td>\n",
       "      <td>236.428943</td>\n",
       "      <td>1.025</td>\n",
       "      <td>1.808449</td>\n",
       "      <td>0.242340</td>\n",
       "      <td>14.055701</td>\n",
       "      <td>44.9</td>\n",
       "      <td>99.44</td>\n",
       "      <td>3.345631</td>\n",
       "      <td>1.207655</td>\n",
       "    </tr>\n",
       "    <tr>\n",
       "      <th>...</th>\n",
       "      <td>...</td>\n",
       "      <td>...</td>\n",
       "      <td>...</td>\n",
       "      <td>...</td>\n",
       "      <td>...</td>\n",
       "      <td>...</td>\n",
       "      <td>...</td>\n",
       "      <td>...</td>\n",
       "      <td>...</td>\n",
       "      <td>...</td>\n",
       "      <td>...</td>\n",
       "      <td>...</td>\n",
       "      <td>...</td>\n",
       "    </tr>\n",
       "    <tr>\n",
       "      <th>39415</th>\n",
       "      <td>50</td>\n",
       "      <td>359.971800</td>\n",
       "      <td>58.721877</td>\n",
       "      <td>59.4</td>\n",
       "      <td>177.321707</td>\n",
       "      <td>1.200</td>\n",
       "      <td>1.627600</td>\n",
       "      <td>0.212786</td>\n",
       "      <td>126.394913</td>\n",
       "      <td>59.8</td>\n",
       "      <td>40.00</td>\n",
       "      <td>218.731900</td>\n",
       "      <td>5.886026</td>\n",
       "    </tr>\n",
       "    <tr>\n",
       "      <th>39416</th>\n",
       "      <td>50</td>\n",
       "      <td>360.785600</td>\n",
       "      <td>58.699919</td>\n",
       "      <td>59.5</td>\n",
       "      <td>177.321707</td>\n",
       "      <td>1.200</td>\n",
       "      <td>0.813800</td>\n",
       "      <td>0.212786</td>\n",
       "      <td>126.607699</td>\n",
       "      <td>59.8</td>\n",
       "      <td>39.87</td>\n",
       "      <td>218.731900</td>\n",
       "      <td>5.888284</td>\n",
       "    </tr>\n",
       "    <tr>\n",
       "      <th>39417</th>\n",
       "      <td>50</td>\n",
       "      <td>361.509000</td>\n",
       "      <td>58.743820</td>\n",
       "      <td>59.6</td>\n",
       "      <td>177.321707</td>\n",
       "      <td>1.200</td>\n",
       "      <td>0.723400</td>\n",
       "      <td>0.212786</td>\n",
       "      <td>126.820485</td>\n",
       "      <td>59.8</td>\n",
       "      <td>39.75</td>\n",
       "      <td>218.731900</td>\n",
       "      <td>5.890287</td>\n",
       "    </tr>\n",
       "    <tr>\n",
       "      <th>39418</th>\n",
       "      <td>50</td>\n",
       "      <td>362.051500</td>\n",
       "      <td>58.601152</td>\n",
       "      <td>59.7</td>\n",
       "      <td>177.321707</td>\n",
       "      <td>1.200</td>\n",
       "      <td>0.542500</td>\n",
       "      <td>0.212786</td>\n",
       "      <td>127.033271</td>\n",
       "      <td>59.8</td>\n",
       "      <td>39.66</td>\n",
       "      <td>218.731900</td>\n",
       "      <td>5.891786</td>\n",
       "    </tr>\n",
       "    <tr>\n",
       "      <th>39419</th>\n",
       "      <td>50</td>\n",
       "      <td>366.482200</td>\n",
       "      <td>58.612131</td>\n",
       "      <td>59.8</td>\n",
       "      <td>177.321707</td>\n",
       "      <td>1.200</td>\n",
       "      <td>4.430700</td>\n",
       "      <td>0.212786</td>\n",
       "      <td>127.246057</td>\n",
       "      <td>59.8</td>\n",
       "      <td>38.92</td>\n",
       "      <td>218.731900</td>\n",
       "      <td>5.903950</td>\n",
       "    </tr>\n",
       "  </tbody>\n",
       "</table>\n",
       "<p>23964 rows × 13 columns</p>\n",
       "</div>"
      ],
      "text/plain": [
       "       Data_No  Differential_pressure  Flow_rate  Time   Dust_feed   Dust  \\\n",
       "53           1               1.537182  51.827014   5.4  236.428943  1.025   \n",
       "54           1               1.537182  54.143527   5.5  236.428943  1.025   \n",
       "55           1               1.537182  54.518255   5.6  236.428943  1.025   \n",
       "56           1               1.537182  54.658781   5.7  236.428943  1.025   \n",
       "57           1               3.345631  54.780562   5.8  236.428943  1.025   \n",
       "...        ...                    ...        ...   ...         ...    ...   \n",
       "39415       50             359.971800  58.721877  59.4  177.321707  1.200   \n",
       "39416       50             360.785600  58.699919  59.5  177.321707  1.200   \n",
       "39417       50             361.509000  58.743820  59.6  177.321707  1.200   \n",
       "39418       50             362.051500  58.601152  59.7  177.321707  1.200   \n",
       "39419       50             366.482200  58.612131  59.8  177.321707  1.200   \n",
       "\n",
       "       change_DP    Mass_g  Cumulative_Mass_g    Tt  Filter_Balance  \\\n",
       "53      1.265915  0.242340          13.086342  44.9           99.74   \n",
       "54      0.000000  0.242340          13.328682  44.9           99.74   \n",
       "55      0.000000  0.242340          13.571021  44.9           99.74   \n",
       "56      0.000000  0.242340          13.813361  44.9           99.74   \n",
       "57      1.808449  0.242340          14.055701  44.9           99.44   \n",
       "...          ...       ...                ...   ...             ...   \n",
       "39415   1.627600  0.212786         126.394913  59.8           40.00   \n",
       "39416   0.813800  0.212786         126.607699  59.8           39.87   \n",
       "39417   0.723400  0.212786         126.820485  59.8           39.75   \n",
       "39418   0.542500  0.212786         127.033271  59.8           39.66   \n",
       "39419   4.430700  0.212786         127.246057  59.8           38.92   \n",
       "\n",
       "        winz_Mean    log_DP  \n",
       "53       1.537182  0.429951  \n",
       "54       1.537182  0.429951  \n",
       "55       1.537182  0.429951  \n",
       "56       1.537182  0.429951  \n",
       "57       3.345631  1.207655  \n",
       "...           ...       ...  \n",
       "39415  218.731900  5.886026  \n",
       "39416  218.731900  5.888284  \n",
       "39417  218.731900  5.890287  \n",
       "39418  218.731900  5.891786  \n",
       "39419  218.731900  5.903950  \n",
       "\n",
       "[23964 rows x 13 columns]"
      ]
     },
     "execution_count": 10,
     "metadata": {},
     "output_type": "execute_result"
    }
   ],
   "source": [
    "df_train.loc[:,'log_DP'] = log_dp\n",
    "df_train = df_train[df_train.select_dtypes(include=[np.number]).ge(0).all(1)]\n",
    "df_train"
   ]
  },
  {
   "cell_type": "code",
   "execution_count": 13,
   "metadata": {},
   "outputs": [
    {
     "data": {
      "image/png": "[encoded data removed]",
      "text/plain": [
       "<Figure size 640x480 with 1 Axes>"
      ]
     },
     "metadata": {},
     "output_type": "display_data"
    },
    {
     "name": "stdout",
     "output_type": "stream",
     "text": [
      "Old Shape:  (39420, 13)\n",
      "New Shape:  (23964, 13)\n"
     ]
    }
   ],
   "source": [
    "old_shape = pd.read_csv(f'outputs/datasets/cleaned/dfCleanTrain.csv')\n",
    "old_shape['winz_Mean'] = WinsorizedArray\n",
    "old_shape['log_DP'] = np.log(df_train['Differential_pressure'])\n",
    "sns.histplot(x = df_train['log_DP'])\n",
    "plt.title('Log_DP Histogram')\n",
    "plt.show()\n",
    "print(\"Old Shape: \", old_shape.shape)\n",
    "print(\"New Shape: \", df_train.shape)"
   ]
  },
  {
   "attachments": {},
   "cell_type": "markdown",
   "metadata": {},
   "source": [
    "## Smart correlated selection"
   ]
  },
  {
   "attachments": {},
   "cell_type": "markdown",
   "metadata": {},
   "source": [
    "---"
   ]
  },
  {
   "attachments": {},
   "cell_type": "markdown",
   "metadata": {},
   "source": [
    "## Save Datasets"
   ]
  },
  {
   "attachments": {},
   "cell_type": "markdown",
   "metadata": {},
   "source": [
    "Save the files to /transformed folder"
   ]
  },
  {
   "cell_type": "code",
   "execution_count": null,
   "metadata": {},
   "outputs": [],
   "source": [
    "import os\n",
    "try:\n",
    "  os.makedirs(name='outputs/datasets/transformed')\n",
    "except Exception as e:\n",
    "  print(e)\n",
    "\n",
    "df_train.to_csv(f'outputs/datasets/transformed/dfTransformedTrain.csv',index=False)\n",
    "df_test.to_csv(f'outputs/datasets/transformed/dfTransformedTest.csv',index=False)"
   ]
  },
  {
   "attachments": {},
   "cell_type": "markdown",
   "metadata": {},
   "source": [
    "---"
   ]
  },
  {
   "cell_type": "markdown",
   "metadata": {},
   "source": [
    "# Conclusions and Next steps"
   ]
  },
  {
   "cell_type": "markdown",
   "metadata": {},
   "source": [
    "#### Conclusions: \n",
    "* \n",
    "\n",
    "#### Next Steps:\n",
    "* Regression Model\n",
    "* Classification Model\n",
    "* Cluster Model\n",
    "* Correlation Study"
   ]
  }
 ],
 "metadata": {
  "kernelspec": {
   "display_name": "Python 3",
   "language": "python",
   "name": "python3"
  },
  "language_info": {
   "codemirror_mode": {
    "name": "ipython",
    "version": 3
   },
   "file_extension": ".py",
   "mimetype": "text/x-python",
   "name": "python",
   "nbconvert_exporter": "python",
   "pygments_lexer": "ipython3",
   "version": "3.8.12"
  },
  "orig_nbformat": 4,
  "vscode": {
   "interpreter": {
    "hash": "8b8334dab9339717f727a1deaf837b322d7a41c20d15cc86be99a8e69ceec8ce"
   }
  }
 },
 "nbformat": 4,
 "nbformat_minor": 2
}
