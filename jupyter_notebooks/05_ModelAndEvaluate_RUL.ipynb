{
 "cells": [
  {
   "cell_type": "markdown",
   "metadata": {},
   "source": [
    "# CI Portfolio Project 5 - Filter Maintenance Predictor 2022\n",
    "## **ML Model - Predict Remaining Useful Life (RUL)**"
   ]
  },
  {
   "attachments": {},
   "cell_type": "markdown",
   "metadata": {},
   "source": [
    "## Objectives\n",
    "\n",
    "Answer [Business Requirement 1](https://github.com/roeszler/filter-maintenance-predictor/blob/main/README.md#business-requirements) :\n",
    "*   Fit and evaluate a **regression model** to predict the Remaining Useful Life of a replaceable part\n",
    "*   Fit and evaluate a **classification model** to predict the Remaining Useful Life of a replaceable part should the regressor not perform well.\n",
    "\n",
    "## Inputs\n",
    "\n",
    "Data cleaning:\n",
    "* outputs/datasets/cleaned/dfCleanTotal.csv\n",
    "\n",
    "## Outputs\n",
    "\n",
    "* Train set (features and target)\n",
    "* Test set (features and target)\n",
    "* Validation set (features and target)\n",
    "* ML pipeline to predict RUL\n",
    "* A map of the labels\n",
    "* Feature Importance Plot\n",
    "\n"
   ]
  },
  {
   "attachments": {},
   "cell_type": "markdown",
   "metadata": {},
   "source": [
    "---"
   ]
  },
  {
   "attachments": {},
   "cell_type": "markdown",
   "metadata": {},
   "source": [
    "### Change working directory"
   ]
  },
  {
   "cell_type": "code",
   "execution_count": null,
   "metadata": {},
   "outputs": [],
   "source": [
    "import os\n",
    "current_dir = os.getcwd()\n",
    "current_dir"
   ]
  },
  {
   "cell_type": "code",
   "execution_count": null,
   "metadata": {},
   "outputs": [],
   "source": [
    "os.chdir(os.path.dirname(current_dir))\n",
    "print(\"Current directory set to new location\")"
   ]
  },
  {
   "cell_type": "code",
   "execution_count": null,
   "metadata": {},
   "outputs": [],
   "source": [
    "current_dir = os.getcwd()\n",
    "current_dir"
   ]
  },
  {
   "cell_type": "markdown",
   "metadata": {},
   "source": [
    "---"
   ]
  },
  {
   "attachments": {},
   "cell_type": "markdown",
   "metadata": {},
   "source": [
    "## The major steps in this Regressor Pipeline\n",
    "\n",
    "<details>\n",
    "<summary style=\"font-size: 0.9rem;\"><strong>1. ML Pipeline: Regressor</strong> (Dropdown List)</summary>\n",
    "\n",
    "* Create Regressor Pipeline\n",
    "* Split the train set\n",
    "* Grid Search CV SKLearn\n",
    "    * Use standard hyperparameters to find most suitable algorithm\n",
    "    * Extensive search on most suitable algorithm to find the best hyperparameter configuration\n",
    "* Assess Feature Performance\n",
    "* Evaluate Regressor\n",
    "* Create Train, Test, Validation Sets\n",
    "</details></br>\n",
    "\n",
    "\n",
    "<details>\n",
    "<summary style=\"font-size: 0.9rem;\"><strong>2. ML Pipeline: Regressor + Principal Component Analysis</strong> (PCA)</summary>\n",
    "\n",
    "* Prepare the Data for the Pipeline\n",
    "* Create Regressor + PCA Pipeline\n",
    "* Split the train and validation sets\n",
    "* Grid Search CV SKLearn\n",
    "    * Use standard hyperparameters to find most suitable algorithm\n",
    "    * Do an extensive search on most suitable algorithm to find the best hyperparameter configuration\n",
    "* Assess Feature Performance\n",
    "* Evaluate Regressor\n",
    "* Create Train, Test, Validation Sets\n",
    "</details></br>\n",
    "\n",
    "<details>\n",
    "<summary style=\"font-size: 0.9rem;\"><strong>3. Convert Regression to Classification</strong> (Optionally)</summary>\n",
    "\n",
    "* Convert numerical target to bins, and check if it is balanced\n",
    "* Rewrite Pipeline for ML Modelling\n",
    "* Load Algorithms For Classification\n",
    "* Split the Train Test sets:\n",
    "* Grid Search CV SKLearn:\n",
    "    * Use standard hyper parameters to find most suitable model\n",
    "    * Grid Search CV\n",
    "    * Check Result\n",
    "* Do an extensive search on the most suitable model to find the best hyperparameter configuration.\n",
    "    * Define Model Parameters\n",
    "    * Extensive Grid Search CV                             \n",
    "    * Check Results\n",
    "    * Check Best Model\n",
    "    * Parameters for best model\n",
    "    * Define the best clf_pipeline\n",
    "* Assess Feature Importance\n",
    "* Evaluate Classifier on Train and Test Sets\n",
    "    * Custom Function\n",
    "    * List that relates the classes and tenure interval\n",
    "</details></br>\n",
    "\n",
    "<details><summary style=\"font-size: 0.9rem;\"><strong>4. Decide which pipeline to use</strong></summary></details></br>\n",
    "\n",
    "<details>\n",
    "<summary style=\"font-size: 0.9rem;\"><strong>5. Refit with the best features</strong></summary>\n",
    "\n",
    "* Rewrite Pipeline\n",
    "* Split Train Test Set with only best features\n",
    "* Subset best features\n",
    "* Grid Search CV SKLearn\n",
    "* Best Parameters\n",
    "    * Manually\n",
    "* Grid Search CV\n",
    "* Check Results\n",
    "* Check Best Model\n",
    "* Define the best pipeline\n",
    "</details></br>\n",
    "\n",
    "<details><summary style=\"font-size: 0.9rem;\"><strong>6. Assess Feature Importance</strong></summary></details></br>\n",
    "\n",
    "<details><summary style=\"font-size: 0.9rem;\"><strong>7. Push Files to Repo</strong></summary></details>"
   ]
  },
  {
   "attachments": {},
   "cell_type": "markdown",
   "metadata": {},
   "source": [
    "<!-- Modelling:\n",
    "The hypothesis part of the process where you will find out whether you can answer the question.\n",
    "* Identify what techniques to use.\n",
    "* Split your data into train, validate and test sets.\n",
    "* Build and train the models with the train data set.\n",
    "* Validate Models and hyper-parameter : Trial different machine learning methods and models with the validation data set.\n",
    "* Poor Results - return to data preparation for feature engineering\n",
    "* Successful hypothesis - where the inputs from the data set are mapped to the output target / label appropriately to evaluate.\n",
    "\n",
    "5. Evaluation:\n",
    "Where you test whether the model can predict unseen data.\n",
    "* Test Dataset\n",
    "* Choose the model that meets the business success criteria best.\n",
    "* Review and document the work that you have done.\n",
    "* If your project meets the success metrics you defined with your customer?\n",
    "- Ready to deploy. -->"
   ]
  },
  {
   "attachments": {},
   "cell_type": "markdown",
   "metadata": {},
   "source": [
    "---"
   ]
  },
  {
   "attachments": {},
   "cell_type": "markdown",
   "metadata": {},
   "source": [
    "### Load Cleaned Data\n",
    "Target variable for regressor, remove from classifier and drop other variables not required"
   ]
  },
  {
   "cell_type": "code",
   "execution_count": null,
   "metadata": {},
   "outputs": [],
   "source": [
    "import numpy as np\n",
    "import pandas as pd\n",
    "\n",
    "df_total = pd.read_csv(f'outputs/datasets/transformed/dfTransformedTotal.csv') # data with all negative log_EWM values removed\n",
    "df_total_model = (pd.read_csv('outputs/datasets/transformed/dfTransformedTotal.csv')\n",
    "        .drop(labels=['4point_EWM', 'change_DP', 'change_EWM'], axis=1)\n",
    "    )\n",
    "df_train_even_dist = (pd.read_csv(f'outputs/datasets/transformed/dfTransformedTrain.csv')\n",
    "        .drop(labels=['4point_EWM', 'change_DP', 'change_EWM', 'std_DP', 'median_DP', 'bin_size'], axis=1)\n",
    "    )\n",
    "print(df_total.shape, '= df_total')\n",
    "print(df_total_model.shape, '= df_total_model')\n",
    "print(df_train_even_dist.shape, '= df_train_even_dist')\n",
    "df_total"
   ]
  },
  {
   "cell_type": "code",
   "execution_count": null,
   "metadata": {},
   "outputs": [],
   "source": [
    "df_total_model"
   ]
  },
  {
   "attachments": {},
   "cell_type": "markdown",
   "metadata": {},
   "source": [
    "# ML Pipeline : Regressor\n",
    "## Create Regressor Pipeline\n",
    "### Set the Transformations\n",
    "* Smart correlation\n",
    "* feat_scaling\n",
    "* feat_selection\n",
    "* Modelling\n",
    "* Model as variable\n",
    "\n",
    "Note: Numerical Transformation not required as data supplied as integers"
   ]
  },
  {
   "attachments": {},
   "cell_type": "markdown",
   "metadata": {},
   "source": [
    "#### ML Pipeline for **Fitting Models** (regression)\n",
    "Modelling and Hyperparameter Optimization"
   ]
  },
  {
   "cell_type": "code",
   "execution_count": null,
   "metadata": {},
   "outputs": [],
   "source": [
    "# # Feature Management\n",
    "# from sklearn.pipeline import Pipeline\n",
    "# from feature_engine.encoding import OrdinalEncoder\n",
    "# from feature_engine.selection import SmartCorrelatedSelection\n",
    "# from sklearn.preprocessing import StandardScaler, Normalizer\n",
    "# from sklearn.feature_selection import SelectFromModel\n",
    "\n",
    "# # ML regression algorithms\n",
    "# from sklearn.tree import DecisionTreeRegressor\n",
    "# from xgboost import XGBRegressor\n",
    "# from sklearn.ensemble import GradientBoostingRegressor, RandomForestRegressor, AdaBoostRegressor, ExtraTreesRegressor\n",
    "# from sklearn.linear_model import LogisticRegression, LinearRegression\n",
    "\n",
    "# # # ML classification algorithms\n",
    "# # from sklearn.tree import DecisionTreeClassifier\n",
    "# # from sklearn.ensemble import RandomForestClassifier, GradientBoostingClassifier, ExtraTreesClassifier, AdaBoostClassifier\n",
    "# # from xgboost import XGBClassifier\n",
    "\n",
    "# def PipelineOptimization(model):\n",
    "#     pipeline_base = Pipeline([\n",
    "#         # (\"OrdinalCategoricalEncoder\", OrdinalEncoder(encoding_method='arbitrary',\n",
    "#         #                                              variables=['Differential_pressure', 'Flow_rate',\n",
    "#         #                                                         # 'log_EWM', 'Time', 'mass_g', 'Tt', 'filter_balance'\n",
    "#         #                                                         'Dust_feed', 'Dust', 'cumulative_mass_g'])),\n",
    "#         ('SmartCorrelatedSelection', SmartCorrelatedSelection(variables=None, method=\"spearman\", threshold=0.6, selection_method=\"variance\")),\n",
    "#         ('feat_scaling', StandardScaler()),\n",
    "#         ('feat_selection', SelectFromModel(model)),\n",
    "#         ('model', model),])\n",
    "#     return pipeline_base"
   ]
  },
  {
   "cell_type": "code",
   "execution_count": null,
   "metadata": {},
   "outputs": [],
   "source": [
    "df_total_model"
   ]
  },
  {
   "cell_type": "code",
   "execution_count": null,
   "metadata": {},
   "outputs": [],
   "source": [
    "# model = PipelineOptimization(self.models[key])"
   ]
  },
  {
   "attachments": {},
   "cell_type": "markdown",
   "metadata": {},
   "source": [
    "#### **Custom Class** to fit a set of algorithms, each with its own set of hyperparameters"
   ]
  },
  {
   "cell_type": "code",
   "execution_count": null,
   "metadata": {},
   "outputs": [],
   "source": [
    "# from sklearn.model_selection import GridSearchCV\n",
    "\n",
    "\n",
    "# class HyperparameterOptimizationSearch:\n",
    "\n",
    "#     def __init__(self, models, params):\n",
    "#         self.models = models\n",
    "#         self.params = params\n",
    "#         self.keys = models.keys()\n",
    "#         self.grid_searches = {}\n",
    "\n",
    "#     def fit(self, X, y, cv, n_jobs, verbose=1, scoring=None, refit=False):\n",
    "#         for key in self.keys:\n",
    "#             model = PipelineOptimization(self.models[key])\n",
    "#             print(f\"\\nRunning GridSearchCV for {key} \\n\")\n",
    "\n",
    "#             params = self.params[key]\n",
    "#             gs = GridSearchCV(model, params, cv=cv, n_jobs=n_jobs,\n",
    "#                               verbose=verbose, scoring=scoring)\n",
    "#             gs.fit(X, y)\n",
    "#             self.grid_searches[key] = gs\n",
    "\n",
    "#     def score_summary(self, sort_by='mean_score'):\n",
    "#         def row(key, scores, params):\n",
    "#             d = {\n",
    "#                 'estimator': key,\n",
    "#                 'min_score': min(scores),\n",
    "#                 'max_score': max(scores),\n",
    "#                 'mean_score': np.mean(scores),\n",
    "#                 'std_score': np.std(scores),\n",
    "#             }\n",
    "#             return pd.Series({**params, **d})\n",
    "\n",
    "#         rows = []\n",
    "#         for k in self.grid_searches:\n",
    "#             params = self.grid_searches[k].cv_results_['params']\n",
    "#             scores = []\n",
    "#             for i in range(self.grid_searches[k].cv):\n",
    "#                 key = \"split{}_test_score\".format(i)\n",
    "#                 r = self.grid_searches[k].cv_results_[key]\n",
    "#                 scores.append(r.reshape(len(params), 1))\n",
    "\n",
    "#             all_scores = np.hstack(scores)\n",
    "#             for p, s in zip(params, all_scores):\n",
    "#                 rows.append((row(k, s, p)))\n",
    "\n",
    "#         df = pd.concat(rows, axis=1).T.sort_values([sort_by], ascending=False)\n",
    "\n",
    "#         columns = ['estimator', 'min_score',\n",
    "#                    'mean_score', 'max_score', 'std_score']\n",
    "#         columns = columns + [c for c in df.columns if c not in columns]\n",
    "\n",
    "#         return df[columns], self.grid_searches"
   ]
  },
  {
   "attachments": {},
   "cell_type": "markdown",
   "metadata": {},
   "source": [
    "## Split the data into Train, Test, Validate"
   ]
  },
  {
   "attachments": {},
   "cell_type": "markdown",
   "metadata": {},
   "source": [
    "Data is discrete however in bins, so:\n",
    "#### Define Cleaned **Train** & **Test** Datasets"
   ]
  },
  {
   "cell_type": "code",
   "execution_count": null,
   "metadata": {},
   "outputs": [],
   "source": [
    "df_total_model"
   ]
  },
  {
   "cell_type": "code",
   "execution_count": null,
   "metadata": {},
   "outputs": [],
   "source": [
    "n = df_total_model['Data_No'].iloc[0:len(df_total)]\n",
    "# df_train = df_total_model[n < 51].reset_index(drop=True)\n",
    "df_test = df_total_model[n > 50].reset_index(drop=True)\n",
    "df_train = df_train_even_dist\n",
    "df_train_model = df_train_even_dist\n",
    "df_train"
   ]
  },
  {
   "cell_type": "code",
   "execution_count": null,
   "metadata": {},
   "outputs": [],
   "source": [
    "df_test"
   ]
  },
  {
   "attachments": {},
   "cell_type": "markdown",
   "metadata": {},
   "source": [
    "#### Engineer Even Distribution of `Dust` in **Train** dataset"
   ]
  },
  {
   "cell_type": "code",
   "execution_count": null,
   "metadata": {},
   "outputs": [],
   "source": [
    "# df_train_copy = df_train.copy()\n",
    "\n",
    "# bin_sum = df_train_copy.groupby('Data_No')['Data_No'].count().reset_index(name='bin_tot')\n",
    "# map_bin = df_train_copy['Data_No'].map(bin_sum.set_index('Data_No')['bin_tot'])\n",
    "# df_train_copy.loc[:, 'bin_size'] = map_bin\n",
    "\n",
    "# dust_A2 = df_train_copy[df_train_copy['Dust'] == 0.900]\n",
    "# filter_A2 = dust_A2[dust_A2.Data_No != dust_A2.Data_No.shift(-1)]\n",
    "# df_train_A2 = filter_A2.sort_values(by='filter_balance', ascending=True)\n",
    "# df_train_A2['c_sum'] = df_train_A2['bin_size'].cumsum()\n",
    "# # df_train_A2.head(13).style.hide(['Time', 'Dust_feed', 'Flow_rate', 'Dust', 'mass_g', 'cumulative_mass_g', 'Tt'], axis=\"columns\")\n",
    "\n",
    "# dust_A3 = df_train_copy[df_train_copy['Dust'] == 1.025]\n",
    "# filter_A3 = dust_A3[dust_A3.Data_No != dust_A3.Data_No.shift(-1)]\n",
    "# df_train_A3 = filter_A3.sort_values(by='filter_balance', ascending=True)\n",
    "# df_train_A3['c_sum'] = df_train_A3['bin_size'].cumsum()\n",
    "# # dn_fb = df_train_A3.loc[:, 'Data_No'].head(14).sort_values(ascending=True).reset_index(drop=True)\n",
    "# # df_train_A3.head(14).style.hide(['Time', 'Dust_feed', 'Flow_rate', 'Dust', 'mass_g', 'cumulative_mass_g', 'Tt'], axis=\"columns\")\n",
    "\n",
    "# A2_bin = df_train_A2['Data_No'].head(9)\n",
    "# A3_bin = df_train_A3['Data_No'].head(9)\n",
    "\n",
    "# df_train_cleaned_A1 = df_train_copy[df_train_copy['Dust'] == 1.200]\n",
    "# df_train_cleaned_A2 = df_train_copy[df_train_copy['Data_No'].isin(A2_bin)]\n",
    "# df_train_cleaned_A3 = df_train_copy[df_train_copy['Data_No'].isin(A3_bin)]\n",
    "\n",
    "# df_train_concat = pd.concat([df_train_cleaned_A1, df_train_cleaned_A2, df_train_cleaned_A3], ignore_index = True)\n",
    "# df_train_model = df_train_concat.sort_values(by='Data_No', ascending=True)\n",
    "\n",
    "# print('A1 Dust_train :', df_train_cleaned_A1.shape)\n",
    "# print('A2 Dust_train :', df_train_cleaned_A2.shape)\n",
    "# print('A3 Dust_train :', df_train_cleaned_A3.shape)\n",
    "# print('\\nTotal df_train :', df_train_model.shape)"
   ]
  },
  {
   "attachments": {},
   "cell_type": "markdown",
   "metadata": {},
   "source": [
    "#### Determine **Target** and **Independent** Variables and Extract **Validation** Dataset\n",
    "\n",
    "As discussed in the readme, this data has been supplied pre-split into **train** and **test** within unique **data bins**. \n",
    "We extract random observations from the **test** dataset to create a **validation** set, in a 70:30 split.\n"
   ]
  },
  {
   "cell_type": "code",
   "execution_count": null,
   "metadata": {},
   "outputs": [],
   "source": [
    "df_test"
   ]
  },
  {
   "cell_type": "code",
   "execution_count": null,
   "metadata": {},
   "outputs": [],
   "source": [
    "# from feature_engine.selection import SmartCorrelatedSelection\n",
    "# corr_sel = SmartCorrelatedSelection(variables=None, method=\"spearman\", threshold=0.6, selection_method=\"variance\")\n",
    "\n",
    "# df_engineering = df_test.copy()\n",
    "# corr_sel.fit_transform(df_engineering)\n",
    "# print('Correlated Variables :\\n', corr_sel.correlated_feature_sets_)\n",
    "# print('\\nFeatures to Drop :\\n', corr_sel.features_to_drop_)"
   ]
  },
  {
   "attachments": {},
   "cell_type": "markdown",
   "metadata": {},
   "source": [
    "Review correlations, Drop Features and Split into **70% test** and **30% validate**. "
   ]
  },
  {
   "cell_type": "code",
   "execution_count": null,
   "metadata": {},
   "outputs": [],
   "source": [
    "from sklearn.model_selection import train_test_split\n",
    "from feature_engine.selection import SmartCorrelatedSelection\n",
    "\n",
    "corr_sel = SmartCorrelatedSelection(variables=None, method=\"spearman\", threshold=0.6, selection_method=\"variance\")\n",
    "df_engineering = df_test.copy()\n",
    "corr_sel.fit_transform(df_engineering)\n",
    "\n",
    "X = df_test.drop(corr_sel.features_to_drop_,axis=1)\n",
    "y = df_test['Differential_pressure']\n",
    "\n",
    "X_test, X_validate, y_test, y_validate = train_test_split(X,y,test_size=0.30, random_state=0)\n",
    "\n",
    "print(X_test.shape, 'X_test')\n",
    "print(X_validate.shape, 'X_validate')\n",
    "print(y_test.shape, 'y_test')\n",
    "print(y_validate.shape, 'y_validate')\n",
    "print('\\nFeatures Dropped :\\n', corr_sel.features_to_drop_)"
   ]
  },
  {
   "cell_type": "code",
   "execution_count": null,
   "metadata": {},
   "outputs": [],
   "source": [
    "X_test"
   ]
  },
  {
   "attachments": {},
   "cell_type": "markdown",
   "metadata": {},
   "source": [
    "#### Define **X_train**, **y_train** variables"
   ]
  },
  {
   "cell_type": "code",
   "execution_count": null,
   "metadata": {},
   "outputs": [],
   "source": [
    "df_train"
   ]
  },
  {
   "cell_type": "code",
   "execution_count": null,
   "metadata": {},
   "outputs": [],
   "source": [
    "corr_sel = SmartCorrelatedSelection(variables=None, method=\"spearman\", threshold=0.6, selection_method=\"variance\")\n",
    "df_engineering = df_train.copy()\n",
    "corr_sel.fit_transform(df_engineering)\n",
    "\n",
    "X_train = df_train.drop(corr_sel.features_to_drop_,axis=1)\n",
    "y_train = df_train['Differential_pressure']\n",
    "\n",
    "print(X_train.shape, 'X_train')\n",
    "print(y_train.shape, 'y_train')\n",
    "print('\\nFeatures Dropped :\\n', corr_sel.features_to_drop_)"
   ]
  },
  {
   "cell_type": "code",
   "execution_count": null,
   "metadata": {},
   "outputs": [],
   "source": [
    "X_train"
   ]
  },
  {
   "cell_type": "code",
   "execution_count": null,
   "metadata": {},
   "outputs": [],
   "source": [
    "y_train"
   ]
  },
  {
   "attachments": {},
   "cell_type": "markdown",
   "metadata": {},
   "source": [
    "## Handling Target Imbalance\n",
    "### No need to handle target imbalance in this **regression model**.\n",
    "* Typically we only need to create a single pipeline for Classification or Regression task. \n",
    "* The exception occurs when we need to handle a **classification target imbalance**, which requires more than one model to process "
   ]
  },
  {
   "attachments": {},
   "cell_type": "markdown",
   "metadata": {},
   "source": [
    "## Fit the pipeline with Data\n",
    "* Prepare the data for handling the train set and\n",
    "* ~~Fix the target imbalance~~\n",
    "* Feature scaling\n",
    "* Feature selection\n",
    "* Modelling\n",
    "* Custom Python class for **hyperparameter optimization**\n",
    "\n",
    "### Use standard hyperparameters to find most suitable algorithm for the data"
   ]
  },
  {
   "cell_type": "code",
   "execution_count": null,
   "metadata": {},
   "outputs": [],
   "source": [
    "# Feature Management\n",
    "from sklearn.pipeline import Pipeline\n",
    "from feature_engine.encoding import OrdinalEncoder\n",
    "from feature_engine.selection import SmartCorrelatedSelection\n",
    "from sklearn.preprocessing import StandardScaler, Normalizer\n",
    "from sklearn.feature_selection import SelectFromModel\n",
    "\n",
    "# ML regression algorithms\n",
    "from sklearn.tree import DecisionTreeRegressor\n",
    "from xgboost import XGBRegressor\n",
    "from sklearn.ensemble import GradientBoostingRegressor, RandomForestRegressor, AdaBoostRegressor, ExtraTreesRegressor\n",
    "from sklearn.linear_model import LinearRegression\n",
    "# from sklearn.linear_model import LogisticRegression"
   ]
  },
  {
   "cell_type": "code",
   "execution_count": null,
   "metadata": {},
   "outputs": [],
   "source": [
    "models_quick_search = {\n",
    "    'LinearRegression': LinearRegression(),\n",
    "    # 'LogisticRegression': LogisticRegression(),\n",
    "    'DecisionTreeRegressor': DecisionTreeRegressor(random_state=0),\n",
    "    'RandomForestRegressor': RandomForestRegressor(random_state=0),\n",
    "    'ExtraTreesRegressor': ExtraTreesRegressor(random_state=0),\n",
    "    'AdaBoostRegressor': AdaBoostRegressor(random_state=0),\n",
    "    'GradientBoostingRegressor': GradientBoostingRegressor(random_state=0),\n",
    "    'XGBRegressor': XGBRegressor(random_state=0),\n",
    "}\n",
    "\n",
    "params_quick_search = {\n",
    "    'LinearRegression': {},\n",
    "    # 'LogisticRegression': {},\n",
    "    'DecisionTreeRegressor': {},\n",
    "    'RandomForestRegressor': {},\n",
    "    'ExtraTreesRegressor': {},\n",
    "    'AdaBoostRegressor': {},\n",
    "    'GradientBoostingRegressor': {},\n",
    "    'XGBRegressor': {},\n",
    "}"
   ]
  },
  {
   "attachments": {},
   "cell_type": "markdown",
   "metadata": {},
   "source": [
    "#### Fit the pipelines, using the above models with **default hyperparameters**\n",
    "* Parsed the train set\n",
    "* Set the performance metric as an R2 score (Regression: described in our ML business case)\n",
    "* Cross validation as 5 (rule of thumb)"
   ]
  },
  {
   "cell_type": "code",
   "execution_count": null,
   "metadata": {},
   "outputs": [],
   "source": [
    "# def PipelineOptimization(model):\n",
    "#     pipeline_base = Pipeline([\n",
    "#         (\"OrdinalCategoricalEncoder\", OrdinalEncoder(encoding_method='arbitrary',\n",
    "#                                                     variables=['Differential_pressure', 'Flow_rate',\n",
    "#                                                                 # 'log_EWM', 'Time', 'mass_g', 'Tt', 'filter_balance',\n",
    "#                                                                 'Dust_feed', 'Dust', 'cumulative_mass_g'])),\n",
    "#         ('SmartCorrelatedSelection', SmartCorrelatedSelection(variables=None, method=\"spearman\", threshold=0.6, selection_method=\"variance\")),\n",
    "#         ('feat_scaling', StandardScaler()),\n",
    "#         ('feat_selection', SelectFromModel(model)),\n",
    "#         ('model', model),])\n",
    "#     return pipeline_base"
   ]
  },
  {
   "cell_type": "code",
   "execution_count": null,
   "metadata": {},
   "outputs": [],
   "source": [
    "def PipelineOptimization(model):\n",
    "    pipeline_base = Pipeline([\n",
    "        # (\"OrdinalCategoricalEncoder\", OrdinalEncoder(encoding_method='arbitrary',\n",
    "        #                                              variables=['Differential_pressure', 'Flow_rate',\n",
    "        #                                                         # 'log_EWM', 'Time', 'mass_g', 'Tt', 'filter_balance',\n",
    "        #                                                         'Dust_feed', 'Dust', 'cumulative_mass_g'])),\n",
    "        (\"SmartCorrelatedSelection\", SmartCorrelatedSelection(variables=None, method=\"spearman\", threshold=0.6, selection_method=\"variance\")),\n",
    "        (\"feat_scaling\", StandardScaler()),\n",
    "        (\"feat_selection\",  SelectFromModel(model)),\n",
    "        (\"model\", model),\n",
    "    ])\n",
    "    return pipeline_base"
   ]
  },
  {
   "cell_type": "code",
   "execution_count": null,
   "metadata": {},
   "outputs": [],
   "source": [
    "from sklearn.model_selection import GridSearchCV\n",
    "\n",
    "\n",
    "class HyperparameterOptimizationSearch:\n",
    "\n",
    "    def __init__(self, models, params):\n",
    "        self.models = models\n",
    "        self.params = params\n",
    "        self.keys = models.keys()\n",
    "        self.grid_searches = {}\n",
    "\n",
    "    def fit(self, X, y, cv, n_jobs, verbose=1, scoring=None, refit=False):\n",
    "        for key in self.keys:\n",
    "            print(f\"\\nRunning GridSearchCV for {key} \\n\")\n",
    "            model = PipelineOptimization(self.models[key]) # the model\n",
    "\n",
    "            params = self.params[key]\n",
    "            gs = GridSearchCV(model, params, cv=cv, n_jobs=n_jobs,\n",
    "                              verbose=verbose, scoring=scoring)\n",
    "            gs.fit(X, y)\n",
    "            self.grid_searches[key] = gs\n",
    "\n",
    "    def score_summary(self, sort_by='mean_score (R²)'):\n",
    "        def row(key, scores, params):\n",
    "            d = {\n",
    "                'estimator': key,\n",
    "                'min_score': min(scores),\n",
    "                'max_score': max(scores),\n",
    "                'mean_score (R²)': np.mean(scores),\n",
    "                'std_score': np.std(scores),\n",
    "            }\n",
    "            return pd.Series({**params, **d})\n",
    "\n",
    "        rows = []\n",
    "        for k in self.grid_searches:\n",
    "            params = self.grid_searches[k].cv_results_['params']\n",
    "            scores = []\n",
    "            for i in range(self.grid_searches[k].cv):\n",
    "                key = \"split{}_test_score\".format(i)\n",
    "                r = self.grid_searches[k].cv_results_[key]\n",
    "                scores.append(r.reshape(len(params), 1))\n",
    "\n",
    "            all_scores = np.hstack(scores)\n",
    "            for p, s in zip(params, all_scores):\n",
    "                rows.append((row(k, s, p)))\n",
    "\n",
    "        df = pd.concat(rows, axis=1).T.sort_values([sort_by], ascending=False)\n",
    "\n",
    "        columns = ['estimator', 'min_score',\n",
    "                   'mean_score (R²)', 'max_score', 'std_score']\n",
    "        columns = columns + [c for c in df.columns if c not in columns]\n",
    "\n",
    "        return df[columns], self.grid_searches\n"
   ]
  },
  {
   "cell_type": "code",
   "execution_count": null,
   "metadata": {},
   "outputs": [],
   "source": [
    "search = HyperparameterOptimizationSearch(models=models_quick_search, params=params_quick_search)\n",
    "search.fit(X_train, y_train, scoring='r2', n_jobs=-1, cv=5)"
   ]
  },
  {
   "attachments": {},
   "cell_type": "markdown",
   "metadata": {},
   "source": [
    "Check results"
   ]
  },
  {
   "cell_type": "code",
   "execution_count": null,
   "metadata": {},
   "outputs": [],
   "source": [
    "grid_search_summary, grid_search_pipelines = search.score_summary(sort_by='mean_score (R²)')\n",
    "grid_search_summary"
   ]
  },
  {
   "attachments": {},
   "cell_type": "markdown",
   "metadata": {},
   "source": [
    "#### Observations\n",
    "\n",
    "* The average **R² score** (mean_score) ranges from **0.98 to 1**, which is exceptional. This indicates well a model of data fits the data, and represents a perfect fit. \n",
    "* This is much higher than the **0.7** tolerance we decided in the business case.\n",
    "* The best result is **LinearRegression** and/or **ExtraTreesRegressor**, however all algorithms can be confidently used to train a model.\n",
    "<!-- * We will perform an extensive search to hopefully improve performance. -->"
   ]
  },
  {
   "cell_type": "code",
   "execution_count": null,
   "metadata": {},
   "outputs": [],
   "source": [
    "X_train"
   ]
  },
  {
   "cell_type": "code",
   "execution_count": null,
   "metadata": {},
   "outputs": [],
   "source": [
    "y_train"
   ]
  },
  {
   "cell_type": "code",
   "execution_count": null,
   "metadata": {},
   "outputs": [],
   "source": [
    "df_stop"
   ]
  },
  {
   "attachments": {},
   "cell_type": "markdown",
   "metadata": {},
   "source": [
    "### Train the Model\n",
    "\n",
    "Multiple regression and classification models under consideration \n",
    "\n",
    "* sklearn.linear_model.**LinearRegression**(*, fit_intercept=True, copy_X=True, n_jobs=None, positive=False)\n",
    "* sklearn.linear_model.**LogisticRegression**(*, fit_intercept=True, copy_X=True, n_jobs=None, positive=False)\n",
    "    * *.predict_proba(X)*\n",
    "* sklearn.linear_model.**SGDRegressor**(*, fit_intercept=True, copy_X=True, n_jobs=None, positive=False)\n",
    "    * *.SGDClassifier()*\n",
    "\n",
    "List full of available and under consideration can be seen at scikitlearn [linear models](https://scikit-learn.org/stable/modules/linear_model.html#)\n",
    "\n",
    "* No one optimal model. the most appropriate seems .LogisticRegression()\n",
    "<!-- \n",
    "**.LinearRegression()** - Ordinary Least Squares\n",
    "**.SGDClassifier()** and **.SGDRegressor()** - Stochastic Gradient Descent - SGD\n",
    ".Ridge() \n",
    ".Lasso()\n",
    ".MultiTaskLasso()\n",
    ".ElasticNet()\n",
    ".MultiTaskElasticNet()\n",
    ".Lars() - Least Angle Regression\n",
    ".LassoLars()\n",
    ".OrthogonalMatchingPursuit() and orthogonal_mp()\n",
    ".BayesianRidge() - Bayesian Regression\n",
    ".ARDRegression() - Automatic Relevance Determination\n",
    "Generalized Linear Models\n",
    "**.LogisticRegression()** + **.predict_proba(X)**\n",
    ".TweedieRegressor()\n",
    ".Perceptron()\n",
    ".PassiveAggressiveClassifier() and .PassiveAggressiveRegressor()\n",
    "Robustness regression: outliers and modeling errors\n",
    ".RANSACRegressor()\n",
    ".TheilSenRegressor() and \n",
    ".HuberRegressor()\n",
    ".QuantileRegressor()\n",
    "Polynomial regression: extending linear models with basis functions\n",
    ".PolynomialFeatures() transformer -->\n"
   ]
  },
  {
   "cell_type": "code",
   "execution_count": null,
   "metadata": {},
   "outputs": [],
   "source": [
    "from sklearn.linear_model import LogisticRegression\n",
    "logreg = LogisticRegression()\n",
    "logreg.fit(X_train,y_train)"
   ]
  },
  {
   "cell_type": "code",
   "execution_count": null,
   "metadata": {},
   "outputs": [],
   "source": [
    "from sklearn.linear_model import LinearRegression\n",
    "linreg = LinearRegression()\n",
    "linreg.fit(X_train,y_train)"
   ]
  },
  {
   "cell_type": "code",
   "execution_count": null,
   "metadata": {},
   "outputs": [],
   "source": [
    "from sklearn.linear_model import SGDRegressor\n",
    "SGDreg = SGDRegressor()\n",
    "SGDreg.fit(X_train,y_train)"
   ]
  },
  {
   "attachments": {},
   "cell_type": "markdown",
   "metadata": {},
   "source": [
    "### Predictions and Model Evaluation"
   ]
  },
  {
   "cell_type": "code",
   "execution_count": null,
   "metadata": {},
   "outputs": [],
   "source": [
    "from sklearn.metrics import classification_report\n",
    "\n",
    "prediction = logrig.predict(X_test)\n",
    "print(classification_report(y_test,prediction))"
   ]
  }
 ],
 "metadata": {
  "kernelspec": {
   "display_name": "Python 3",
   "language": "python",
   "name": "python3"
  },
  "language_info": {
   "codemirror_mode": {
    "name": "ipython",
    "version": 3
   },
   "file_extension": ".py",
   "mimetype": "text/x-python",
   "name": "python",
   "nbconvert_exporter": "python",
   "pygments_lexer": "ipython3",
   "version": "3.8.12"
  },
  "orig_nbformat": 4,
  "vscode": {
   "interpreter": {
    "hash": "8b8334dab9339717f727a1deaf837b322d7a41c20d15cc86be99a8e69ceec8ce"
   }
  }
 },
 "nbformat": 4,
 "nbformat_minor": 2
}
