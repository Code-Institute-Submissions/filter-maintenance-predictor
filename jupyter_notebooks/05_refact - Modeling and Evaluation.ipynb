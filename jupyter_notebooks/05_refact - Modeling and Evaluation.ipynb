{
  "cells": [
    {
      "cell_type": "markdown",
      "metadata": {
        "id": "0aStgWSO0E0E"
      },
      "source": [
        "# Regression"
      ]
    },
    {
      "cell_type": "markdown",
      "metadata": {
        "id": "1eLEkw5O0ECa"
      },
      "source": [
        "## Objectives\n",
        "\n",
        "*   Fit and evaluate a regression model to predict tenure levels for a prospect that will likely churn\n",
        "\n",
        "\n",
        "## Inputs\n",
        "\n",
        "* outputs/datasets/collection/TelcoCustomerChurn.csv\n",
        "* Instructions on which variables to use for data cleaning and feature engineering. They are found in their respective notebooks.\n",
        "\n",
        "## Outputs\n",
        "\n",
        "* Train set (features and target)\n",
        "* Test set (features and target)\n",
        "* ML pipeline to predict tenure\n",
        "* labels map\n",
        "* Feature Importance Plot\n",
        "\n"
      ]
    },
    {
      "cell_type": "markdown",
      "metadata": {
        "id": "9uWZXH9LwoQg"
      },
      "source": [
        "---"
      ]
    },
    {
      "cell_type": "markdown",
      "metadata": {},
      "source": [
        "# Change working directory"
      ]
    },
    {
      "cell_type": "markdown",
      "metadata": {},
      "source": [
        "We need to change the working directory from its current folder to its parent folder\n",
        "* We access the current directory with os.getcwd()"
      ]
    },
    {
      "cell_type": "code",
      "execution_count": 1,
      "metadata": {},
      "outputs": [
        {
          "data": {
            "text/plain": [
              "'/workspace/filter-maintenance-predictor/jupyter_notebooks'"
            ]
          },
          "execution_count": 1,
          "metadata": {},
          "output_type": "execute_result"
        }
      ],
      "source": [
        "import os\n",
        "current_dir = os.getcwd()\n",
        "current_dir"
      ]
    },
    {
      "cell_type": "markdown",
      "metadata": {},
      "source": [
        "We want to make the parent of the current directory the new current directory\n",
        "* os.path.dirname() gets the parent directory\n",
        "* os.chir() defines the new current directory"
      ]
    },
    {
      "cell_type": "code",
      "execution_count": 2,
      "metadata": {},
      "outputs": [
        {
          "name": "stdout",
          "output_type": "stream",
          "text": [
            "You set a new current directory\n"
          ]
        }
      ],
      "source": [
        "os.chdir(os.path.dirname(current_dir))\n",
        "print(\"You set a new current directory\")"
      ]
    },
    {
      "cell_type": "markdown",
      "metadata": {},
      "source": [
        "Confirm the new current directory"
      ]
    },
    {
      "cell_type": "code",
      "execution_count": 3,
      "metadata": {},
      "outputs": [
        {
          "data": {
            "text/plain": [
              "'/workspace/filter-maintenance-predictor'"
            ]
          },
          "execution_count": 3,
          "metadata": {},
          "output_type": "execute_result"
        }
      ],
      "source": [
        "current_dir = os.getcwd()\n",
        "current_dir"
      ]
    },
    {
      "cell_type": "markdown",
      "metadata": {
        "id": "pXKlJFX0iuM5"
      },
      "source": [
        "---"
      ]
    },
    {
      "cell_type": "markdown",
      "metadata": {
        "id": "-mavJ8DibrcQ"
      },
      "source": [
        "# Load Data"
      ]
    },
    {
      "cell_type": "code",
      "execution_count": 5,
      "metadata": {
        "id": "Xk7DU_ekbtX8"
      },
      "outputs": [
        {
          "data": {
            "text/html": [
              "<div>\n",
              "<style scoped>\n",
              "    .dataframe tbody tr th:only-of-type {\n",
              "        vertical-align: middle;\n",
              "    }\n",
              "\n",
              "    .dataframe tbody tr th {\n",
              "        vertical-align: top;\n",
              "    }\n",
              "\n",
              "    .dataframe thead th {\n",
              "        text-align: right;\n",
              "    }\n",
              "</style>\n",
              "<table border=\"1\" class=\"dataframe\">\n",
              "  <thead>\n",
              "    <tr style=\"text-align: right;\">\n",
              "      <th></th>\n",
              "      <th>Data_No</th>\n",
              "      <th>Differential_pressure</th>\n",
              "      <th>4point_EWM</th>\n",
              "      <th>log_EWM</th>\n",
              "      <th>Flow_rate</th>\n",
              "      <th>Time</th>\n",
              "      <th>Dust_feed</th>\n",
              "      <th>Dust</th>\n",
              "      <th>RUL</th>\n",
              "      <th>change_DP</th>\n",
              "      <th>change_EWM</th>\n",
              "      <th>mass_g</th>\n",
              "      <th>cumulative_mass_g</th>\n",
              "      <th>Tt</th>\n",
              "      <th>filter_balance</th>\n",
              "    </tr>\n",
              "  </thead>\n",
              "  <tbody>\n",
              "    <tr>\n",
              "      <th>0</th>\n",
              "      <td>1</td>\n",
              "      <td>1.537182</td>\n",
              "      <td>1.046296</td>\n",
              "      <td>0.045257</td>\n",
              "      <td>54.143527</td>\n",
              "      <td>5.5</td>\n",
              "      <td>236.428943</td>\n",
              "      <td>1.025</td>\n",
              "      <td>39.4</td>\n",
              "      <td>0.000000</td>\n",
              "      <td>0.327257</td>\n",
              "      <td>0.242340</td>\n",
              "      <td>13.328682</td>\n",
              "      <td>44.9</td>\n",
              "      <td>99.74</td>\n",
              "    </tr>\n",
              "    <tr>\n",
              "      <th>1</th>\n",
              "      <td>1</td>\n",
              "      <td>1.537182</td>\n",
              "      <td>1.242651</td>\n",
              "      <td>0.217247</td>\n",
              "      <td>54.518255</td>\n",
              "      <td>5.6</td>\n",
              "      <td>236.428943</td>\n",
              "      <td>1.025</td>\n",
              "      <td>39.3</td>\n",
              "      <td>0.000000</td>\n",
              "      <td>0.196354</td>\n",
              "      <td>0.242340</td>\n",
              "      <td>13.571021</td>\n",
              "      <td>44.9</td>\n",
              "      <td>99.74</td>\n",
              "    </tr>\n",
              "    <tr>\n",
              "      <th>2</th>\n",
              "      <td>1</td>\n",
              "      <td>1.537182</td>\n",
              "      <td>1.360463</td>\n",
              "      <td>0.307825</td>\n",
              "      <td>54.658781</td>\n",
              "      <td>5.7</td>\n",
              "      <td>236.428943</td>\n",
              "      <td>1.025</td>\n",
              "      <td>39.2</td>\n",
              "      <td>0.000000</td>\n",
              "      <td>0.117813</td>\n",
              "      <td>0.242340</td>\n",
              "      <td>13.813361</td>\n",
              "      <td>44.9</td>\n",
              "      <td>99.74</td>\n",
              "    </tr>\n",
              "    <tr>\n",
              "      <th>3</th>\n",
              "      <td>1</td>\n",
              "      <td>3.345631</td>\n",
              "      <td>2.154530</td>\n",
              "      <td>0.767573</td>\n",
              "      <td>54.780562</td>\n",
              "      <td>5.8</td>\n",
              "      <td>236.428943</td>\n",
              "      <td>1.025</td>\n",
              "      <td>39.1</td>\n",
              "      <td>1.808449</td>\n",
              "      <td>0.794067</td>\n",
              "      <td>0.242340</td>\n",
              "      <td>14.055701</td>\n",
              "      <td>44.9</td>\n",
              "      <td>99.44</td>\n",
              "    </tr>\n",
              "    <tr>\n",
              "      <th>4</th>\n",
              "      <td>1</td>\n",
              "      <td>5.244502</td>\n",
              "      <td>3.390519</td>\n",
              "      <td>1.220983</td>\n",
              "      <td>54.574466</td>\n",
              "      <td>5.9</td>\n",
              "      <td>236.428943</td>\n",
              "      <td>1.025</td>\n",
              "      <td>39.0</td>\n",
              "      <td>1.898871</td>\n",
              "      <td>1.235989</td>\n",
              "      <td>0.242340</td>\n",
              "      <td>14.298040</td>\n",
              "      <td>44.9</td>\n",
              "      <td>99.13</td>\n",
              "    </tr>\n",
              "    <tr>\n",
              "      <th>...</th>\n",
              "      <td>...</td>\n",
              "      <td>...</td>\n",
              "      <td>...</td>\n",
              "      <td>...</td>\n",
              "      <td>...</td>\n",
              "      <td>...</td>\n",
              "      <td>...</td>\n",
              "      <td>...</td>\n",
              "      <td>...</td>\n",
              "      <td>...</td>\n",
              "      <td>...</td>\n",
              "      <td>...</td>\n",
              "      <td>...</td>\n",
              "      <td>...</td>\n",
              "      <td>...</td>\n",
              "    </tr>\n",
              "    <tr>\n",
              "      <th>69681</th>\n",
              "      <td>100</td>\n",
              "      <td>465.494800</td>\n",
              "      <td>457.888170</td>\n",
              "      <td>6.126625</td>\n",
              "      <td>82.675521</td>\n",
              "      <td>52.0</td>\n",
              "      <td>316.985065</td>\n",
              "      <td>1.200</td>\n",
              "      <td>8.2</td>\n",
              "      <td>6.329500</td>\n",
              "      <td>5.071087</td>\n",
              "      <td>0.380382</td>\n",
              "      <td>197.798681</td>\n",
              "      <td>52.4</td>\n",
              "      <td>22.42</td>\n",
              "    </tr>\n",
              "    <tr>\n",
              "      <th>69682</th>\n",
              "      <td>100</td>\n",
              "      <td>464.228900</td>\n",
              "      <td>460.424462</td>\n",
              "      <td>6.132149</td>\n",
              "      <td>82.421873</td>\n",
              "      <td>52.1</td>\n",
              "      <td>316.985065</td>\n",
              "      <td>1.200</td>\n",
              "      <td>8.1</td>\n",
              "      <td>-1.265900</td>\n",
              "      <td>2.536292</td>\n",
              "      <td>0.380382</td>\n",
              "      <td>198.179063</td>\n",
              "      <td>52.4</td>\n",
              "      <td>22.63</td>\n",
              "    </tr>\n",
              "    <tr>\n",
              "      <th>69683</th>\n",
              "      <td>100</td>\n",
              "      <td>466.037300</td>\n",
              "      <td>462.669597</td>\n",
              "      <td>6.137013</td>\n",
              "      <td>82.743156</td>\n",
              "      <td>52.2</td>\n",
              "      <td>316.985065</td>\n",
              "      <td>1.200</td>\n",
              "      <td>8.0</td>\n",
              "      <td>1.808400</td>\n",
              "      <td>2.245135</td>\n",
              "      <td>0.380382</td>\n",
              "      <td>198.559445</td>\n",
              "      <td>52.4</td>\n",
              "      <td>22.33</td>\n",
              "    </tr>\n",
              "    <tr>\n",
              "      <th>69684</th>\n",
              "      <td>100</td>\n",
              "      <td>472.276500</td>\n",
              "      <td>466.512358</td>\n",
              "      <td>6.145285</td>\n",
              "      <td>82.785427</td>\n",
              "      <td>52.3</td>\n",
              "      <td>316.985065</td>\n",
              "      <td>1.200</td>\n",
              "      <td>7.9</td>\n",
              "      <td>6.239200</td>\n",
              "      <td>3.842761</td>\n",
              "      <td>0.380382</td>\n",
              "      <td>198.939827</td>\n",
              "      <td>52.4</td>\n",
              "      <td>21.29</td>\n",
              "    </tr>\n",
              "    <tr>\n",
              "      <th>69685</th>\n",
              "      <td>100</td>\n",
              "      <td>474.175400</td>\n",
              "      <td>469.577575</td>\n",
              "      <td>6.151834</td>\n",
              "      <td>83.013710</td>\n",
              "      <td>52.4</td>\n",
              "      <td>316.985065</td>\n",
              "      <td>1.200</td>\n",
              "      <td>7.8</td>\n",
              "      <td>1.898900</td>\n",
              "      <td>3.065217</td>\n",
              "      <td>0.380382</td>\n",
              "      <td>199.320209</td>\n",
              "      <td>52.4</td>\n",
              "      <td>20.97</td>\n",
              "    </tr>\n",
              "  </tbody>\n",
              "</table>\n",
              "<p>69686 rows × 15 columns</p>\n",
              "</div>"
            ],
            "text/plain": [
              "       Data_No  Differential_pressure  4point_EWM   log_EWM  Flow_rate  Time  \\\n",
              "0            1               1.537182    1.046296  0.045257  54.143527   5.5   \n",
              "1            1               1.537182    1.242651  0.217247  54.518255   5.6   \n",
              "2            1               1.537182    1.360463  0.307825  54.658781   5.7   \n",
              "3            1               3.345631    2.154530  0.767573  54.780562   5.8   \n",
              "4            1               5.244502    3.390519  1.220983  54.574466   5.9   \n",
              "...        ...                    ...         ...       ...        ...   ...   \n",
              "69681      100             465.494800  457.888170  6.126625  82.675521  52.0   \n",
              "69682      100             464.228900  460.424462  6.132149  82.421873  52.1   \n",
              "69683      100             466.037300  462.669597  6.137013  82.743156  52.2   \n",
              "69684      100             472.276500  466.512358  6.145285  82.785427  52.3   \n",
              "69685      100             474.175400  469.577575  6.151834  83.013710  52.4   \n",
              "\n",
              "        Dust_feed   Dust   RUL  change_DP  change_EWM    mass_g  \\\n",
              "0      236.428943  1.025  39.4   0.000000    0.327257  0.242340   \n",
              "1      236.428943  1.025  39.3   0.000000    0.196354  0.242340   \n",
              "2      236.428943  1.025  39.2   0.000000    0.117813  0.242340   \n",
              "3      236.428943  1.025  39.1   1.808449    0.794067  0.242340   \n",
              "4      236.428943  1.025  39.0   1.898871    1.235989  0.242340   \n",
              "...           ...    ...   ...        ...         ...       ...   \n",
              "69681  316.985065  1.200   8.2   6.329500    5.071087  0.380382   \n",
              "69682  316.985065  1.200   8.1  -1.265900    2.536292  0.380382   \n",
              "69683  316.985065  1.200   8.0   1.808400    2.245135  0.380382   \n",
              "69684  316.985065  1.200   7.9   6.239200    3.842761  0.380382   \n",
              "69685  316.985065  1.200   7.8   1.898900    3.065217  0.380382   \n",
              "\n",
              "       cumulative_mass_g    Tt  filter_balance  \n",
              "0              13.328682  44.9           99.74  \n",
              "1              13.571021  44.9           99.74  \n",
              "2              13.813361  44.9           99.74  \n",
              "3              14.055701  44.9           99.44  \n",
              "4              14.298040  44.9           99.13  \n",
              "...                  ...   ...             ...  \n",
              "69681         197.798681  52.4           22.42  \n",
              "69682         198.179063  52.4           22.63  \n",
              "69683         198.559445  52.4           22.33  \n",
              "69684         198.939827  52.4           21.29  \n",
              "69685         199.320209  52.4           20.97  \n",
              "\n",
              "[69686 rows x 15 columns]"
            ]
          },
          "execution_count": 5,
          "metadata": {},
          "output_type": "execute_result"
        }
      ],
      "source": [
        "import numpy as np\n",
        "import pandas as pd\n",
        "import matplotlib.pyplot as plt\n",
        "import seaborn as sns\n",
        "import xgboost as xgb\n",
        "\n",
        "# Feature Engineering\n",
        "from feature_engine.encoding import OrdinalEncoder\n",
        "from feature_engine.selection import SmartCorrelatedSelection\n",
        "from sklearn.model_selection import train_test_split\n",
        "\n",
        "# Feat Scaling\n",
        "from sklearn.preprocessing import StandardScaler\n",
        "\n",
        "# Feat Selection\n",
        "from sklearn.feature_selection import SelectFromModel\n",
        "from sklearn.model_selection import GridSearchCV\n",
        "from sklearn.decomposition import PCA\n",
        "from sklearn.metrics import (\n",
        "    r2_score, mean_squared_error, mean_absolute_error,\n",
        "    median_absolute_error\n",
        "    )\n",
        "\n",
        "# ML algorithms\n",
        "from sklearn.pipeline import Pipeline\n",
        "from sklearn.preprocessing import MinMaxScaler\n",
        "from sklearn.tree import DecisionTreeRegressor\n",
        "from xgboost import XGBRegressor\n",
        "from sklearn.ensemble import GradientBoostingRegressor, RandomForestRegressor\n",
        "from sklearn.linear_model import LinearRegression, SGDRegressor\n",
        "from sklearn.ensemble import AdaBoostRegressor\n",
        "from sklearn.ensemble import ExtraTreesRegressor\n",
        "\n",
        "# df = pd.read_csv(f'outputs/datasets/transformed/dfTransformedTotal.csv')\n",
        "df_total = pd.read_csv(f'outputs/datasets/transformed/dfTransformedTotal.csv')\n",
        "# RUL_additional = pd.read_csv(f'outputs/datasets/transformed/dfRulAdditional.csv') # extra available RUL calculations\n",
        "# df_total_model = (pd.read_csv('outputs/datasets/transformed/dfTransformedTotal.csv')\n",
        "#         .drop(labels=['4point_EWM', 'change_DP', 'change_EWM'], axis=1)\n",
        "#     )\n",
        "# df_train_even_dist = (pd.read_csv(f'outputs/datasets/transformed/dfTransformedTrain.csv')\n",
        "#         .drop(labels=['4point_EWM', 'change_DP', 'change_EWM', 'std_DP', 'median_DP', 'bin_size'], axis=1)\n",
        "#     )\n",
        "# print(df_total.shape, '= df_total')\n",
        "# print(df.shape, '= df')\n",
        "# print(df_total_model.shape, '= df_total_model')\n",
        "# print(df_train_even_dist.shape, '= df_train_even_dist')\n",
        "n = df_total['Data_No'].iloc[0:len(df_total)]\n",
        "df_train = df_total[n < 51].reset_index(drop=True) # larger dataset\n",
        "df_test = df_total[n > 50].reset_index(drop=True)\n",
        "df_total\n"
      ]
    },
    {
      "attachments": {},
      "cell_type": "markdown",
      "metadata": {},
      "source": [
        "Extract bins that reach **600 pa** of differential pressure or more in **df_train** dataset"
      ]
    },
    {
      "cell_type": "code",
      "execution_count": 6,
      "metadata": {},
      "outputs": [
        {
          "data": {
            "text/html": [
              "<div>\n",
              "<style scoped>\n",
              "    .dataframe tbody tr th:only-of-type {\n",
              "        vertical-align: middle;\n",
              "    }\n",
              "\n",
              "    .dataframe tbody tr th {\n",
              "        vertical-align: top;\n",
              "    }\n",
              "\n",
              "    .dataframe thead th {\n",
              "        text-align: right;\n",
              "    }\n",
              "</style>\n",
              "<table border=\"1\" class=\"dataframe\">\n",
              "  <thead>\n",
              "    <tr style=\"text-align: right;\">\n",
              "      <th></th>\n",
              "      <th>Data_No</th>\n",
              "      <th>Differential_pressure</th>\n",
              "      <th>4point_EWM</th>\n",
              "      <th>log_EWM</th>\n",
              "      <th>Flow_rate</th>\n",
              "      <th>Time</th>\n",
              "      <th>Dust_feed</th>\n",
              "      <th>Dust</th>\n",
              "      <th>RUL</th>\n",
              "      <th>change_DP</th>\n",
              "      <th>change_EWM</th>\n",
              "      <th>mass_g</th>\n",
              "      <th>cumulative_mass_g</th>\n",
              "      <th>Tt</th>\n",
              "      <th>filter_balance</th>\n",
              "    </tr>\n",
              "  </thead>\n",
              "  <tbody>\n",
              "    <tr>\n",
              "      <th>8821</th>\n",
              "      <td>11</td>\n",
              "      <td>14.3772</td>\n",
              "      <td>14.377170</td>\n",
              "      <td>2.665642</td>\n",
              "      <td>57.083999</td>\n",
              "      <td>0.1</td>\n",
              "      <td>158.492533</td>\n",
              "      <td>0.9</td>\n",
              "      <td>62.2</td>\n",
              "      <td>14.37717</td>\n",
              "      <td>14.377170</td>\n",
              "      <td>0.142643</td>\n",
              "      <td>0.142643</td>\n",
              "      <td>62.3</td>\n",
              "      <td>97.60</td>\n",
              "    </tr>\n",
              "    <tr>\n",
              "      <th>8822</th>\n",
              "      <td>11</td>\n",
              "      <td>13.1113</td>\n",
              "      <td>13.870806</td>\n",
              "      <td>2.629786</td>\n",
              "      <td>56.964773</td>\n",
              "      <td>0.2</td>\n",
              "      <td>158.492533</td>\n",
              "      <td>0.9</td>\n",
              "      <td>62.1</td>\n",
              "      <td>-1.26591</td>\n",
              "      <td>-0.506364</td>\n",
              "      <td>0.142643</td>\n",
              "      <td>0.285287</td>\n",
              "      <td>62.3</td>\n",
              "      <td>97.81</td>\n",
              "    </tr>\n",
              "    <tr>\n",
              "      <th>8823</th>\n",
              "      <td>11</td>\n",
              "      <td>15.0101</td>\n",
              "      <td>14.326536</td>\n",
              "      <td>2.662113</td>\n",
              "      <td>57.093926</td>\n",
              "      <td>0.3</td>\n",
              "      <td>158.492533</td>\n",
              "      <td>0.9</td>\n",
              "      <td>62.0</td>\n",
              "      <td>1.89887</td>\n",
              "      <td>0.455730</td>\n",
              "      <td>0.142643</td>\n",
              "      <td>0.427930</td>\n",
              "      <td>62.3</td>\n",
              "      <td>97.50</td>\n",
              "    </tr>\n",
              "    <tr>\n",
              "      <th>8824</th>\n",
              "      <td>11</td>\n",
              "      <td>16.2760</td>\n",
              "      <td>15.106337</td>\n",
              "      <td>2.715114</td>\n",
              "      <td>57.252899</td>\n",
              "      <td>0.4</td>\n",
              "      <td>158.492533</td>\n",
              "      <td>0.9</td>\n",
              "      <td>61.9</td>\n",
              "      <td>1.26591</td>\n",
              "      <td>0.779802</td>\n",
              "      <td>0.142643</td>\n",
              "      <td>0.570573</td>\n",
              "      <td>62.3</td>\n",
              "      <td>97.29</td>\n",
              "    </tr>\n",
              "    <tr>\n",
              "      <th>8825</th>\n",
              "      <td>11</td>\n",
              "      <td>16.1856</td>\n",
              "      <td>15.538050</td>\n",
              "      <td>2.743292</td>\n",
              "      <td>57.153539</td>\n",
              "      <td>0.5</td>\n",
              "      <td>158.492533</td>\n",
              "      <td>0.9</td>\n",
              "      <td>61.8</td>\n",
              "      <td>-0.09042</td>\n",
              "      <td>0.431713</td>\n",
              "      <td>0.142643</td>\n",
              "      <td>0.713216</td>\n",
              "      <td>62.3</td>\n",
              "      <td>97.30</td>\n",
              "    </tr>\n",
              "    <tr>\n",
              "      <th>...</th>\n",
              "      <td>...</td>\n",
              "      <td>...</td>\n",
              "      <td>...</td>\n",
              "      <td>...</td>\n",
              "      <td>...</td>\n",
              "      <td>...</td>\n",
              "      <td>...</td>\n",
              "      <td>...</td>\n",
              "      <td>...</td>\n",
              "      <td>...</td>\n",
              "      <td>...</td>\n",
              "      <td>...</td>\n",
              "      <td>...</td>\n",
              "      <td>...</td>\n",
              "      <td>...</td>\n",
              "    </tr>\n",
              "    <tr>\n",
              "      <th>32279</th>\n",
              "      <td>47</td>\n",
              "      <td>594.5276</td>\n",
              "      <td>588.377825</td>\n",
              "      <td>6.377369</td>\n",
              "      <td>59.103897</td>\n",
              "      <td>104.2</td>\n",
              "      <td>79.246266</td>\n",
              "      <td>0.9</td>\n",
              "      <td>0.4</td>\n",
              "      <td>4.34020</td>\n",
              "      <td>4.099850</td>\n",
              "      <td>0.071322</td>\n",
              "      <td>74.317149</td>\n",
              "      <td>104.6</td>\n",
              "      <td>0.91</td>\n",
              "    </tr>\n",
              "    <tr>\n",
              "      <th>32280</th>\n",
              "      <td>47</td>\n",
              "      <td>596.4265</td>\n",
              "      <td>591.597295</td>\n",
              "      <td>6.382826</td>\n",
              "      <td>59.377463</td>\n",
              "      <td>104.3</td>\n",
              "      <td>79.246266</td>\n",
              "      <td>0.9</td>\n",
              "      <td>0.3</td>\n",
              "      <td>1.89890</td>\n",
              "      <td>3.219470</td>\n",
              "      <td>0.071322</td>\n",
              "      <td>74.388470</td>\n",
              "      <td>104.6</td>\n",
              "      <td>0.60</td>\n",
              "    </tr>\n",
              "    <tr>\n",
              "      <th>32281</th>\n",
              "      <td>47</td>\n",
              "      <td>598.3254</td>\n",
              "      <td>594.288537</td>\n",
              "      <td>6.387365</td>\n",
              "      <td>59.281707</td>\n",
              "      <td>104.4</td>\n",
              "      <td>79.246266</td>\n",
              "      <td>0.9</td>\n",
              "      <td>0.2</td>\n",
              "      <td>1.89890</td>\n",
              "      <td>2.691242</td>\n",
              "      <td>0.071322</td>\n",
              "      <td>74.459792</td>\n",
              "      <td>104.6</td>\n",
              "      <td>0.28</td>\n",
              "    </tr>\n",
              "    <tr>\n",
              "      <th>32282</th>\n",
              "      <td>47</td>\n",
              "      <td>599.6817</td>\n",
              "      <td>596.445802</td>\n",
              "      <td>6.390988</td>\n",
              "      <td>58.996220</td>\n",
              "      <td>104.5</td>\n",
              "      <td>79.246266</td>\n",
              "      <td>0.9</td>\n",
              "      <td>0.1</td>\n",
              "      <td>1.35630</td>\n",
              "      <td>2.157265</td>\n",
              "      <td>0.071322</td>\n",
              "      <td>74.531113</td>\n",
              "      <td>104.6</td>\n",
              "      <td>0.05</td>\n",
              "    </tr>\n",
              "    <tr>\n",
              "      <th>32283</th>\n",
              "      <td>47</td>\n",
              "      <td>600.2242</td>\n",
              "      <td>597.957161</td>\n",
              "      <td>6.393519</td>\n",
              "      <td>59.281707</td>\n",
              "      <td>104.6</td>\n",
              "      <td>79.246266</td>\n",
              "      <td>0.9</td>\n",
              "      <td>0.0</td>\n",
              "      <td>0.54250</td>\n",
              "      <td>1.511359</td>\n",
              "      <td>0.071322</td>\n",
              "      <td>74.602435</td>\n",
              "      <td>104.6</td>\n",
              "      <td>-0.04</td>\n",
              "    </tr>\n",
              "  </tbody>\n",
              "</table>\n",
              "<p>3750 rows × 15 columns</p>\n",
              "</div>"
            ],
            "text/plain": [
              "       Data_No  Differential_pressure  4point_EWM   log_EWM  Flow_rate   Time  \\\n",
              "8821        11                14.3772   14.377170  2.665642  57.083999    0.1   \n",
              "8822        11                13.1113   13.870806  2.629786  56.964773    0.2   \n",
              "8823        11                15.0101   14.326536  2.662113  57.093926    0.3   \n",
              "8824        11                16.2760   15.106337  2.715114  57.252899    0.4   \n",
              "8825        11                16.1856   15.538050  2.743292  57.153539    0.5   \n",
              "...        ...                    ...         ...       ...        ...    ...   \n",
              "32279       47               594.5276  588.377825  6.377369  59.103897  104.2   \n",
              "32280       47               596.4265  591.597295  6.382826  59.377463  104.3   \n",
              "32281       47               598.3254  594.288537  6.387365  59.281707  104.4   \n",
              "32282       47               599.6817  596.445802  6.390988  58.996220  104.5   \n",
              "32283       47               600.2242  597.957161  6.393519  59.281707  104.6   \n",
              "\n",
              "        Dust_feed  Dust   RUL  change_DP  change_EWM    mass_g  \\\n",
              "8821   158.492533   0.9  62.2   14.37717   14.377170  0.142643   \n",
              "8822   158.492533   0.9  62.1   -1.26591   -0.506364  0.142643   \n",
              "8823   158.492533   0.9  62.0    1.89887    0.455730  0.142643   \n",
              "8824   158.492533   0.9  61.9    1.26591    0.779802  0.142643   \n",
              "8825   158.492533   0.9  61.8   -0.09042    0.431713  0.142643   \n",
              "...           ...   ...   ...        ...         ...       ...   \n",
              "32279   79.246266   0.9   0.4    4.34020    4.099850  0.071322   \n",
              "32280   79.246266   0.9   0.3    1.89890    3.219470  0.071322   \n",
              "32281   79.246266   0.9   0.2    1.89890    2.691242  0.071322   \n",
              "32282   79.246266   0.9   0.1    1.35630    2.157265  0.071322   \n",
              "32283   79.246266   0.9   0.0    0.54250    1.511359  0.071322   \n",
              "\n",
              "       cumulative_mass_g     Tt  filter_balance  \n",
              "8821            0.142643   62.3           97.60  \n",
              "8822            0.285287   62.3           97.81  \n",
              "8823            0.427930   62.3           97.50  \n",
              "8824            0.570573   62.3           97.29  \n",
              "8825            0.713216   62.3           97.30  \n",
              "...                  ...    ...             ...  \n",
              "32279          74.317149  104.6            0.91  \n",
              "32280          74.388470  104.6            0.60  \n",
              "32281          74.459792  104.6            0.28  \n",
              "32282          74.531113  104.6            0.05  \n",
              "32283          74.602435  104.6           -0.04  \n",
              "\n",
              "[3750 rows x 15 columns]"
            ]
          },
          "execution_count": 6,
          "metadata": {},
          "output_type": "execute_result"
        }
      ],
      "source": [
        "dp_total = df_train['Differential_pressure'].map(float).round(decimals=4)\n",
        "df_train['Differential_pressure'] = dp_total\n",
        "n = df_train['Differential_pressure'][0:len(df_train)]\n",
        "df_train_dp = df_train[n >= 600].reset_index(drop=True)\n",
        "RUL_extract = df_train_dp['Data_No']\n",
        "RUL_additional = df_train.loc[df_train['Data_No'].isin(RUL_extract)]\n",
        "RUL_additional"
      ]
    },
    {
      "attachments": {},
      "cell_type": "markdown",
      "metadata": {},
      "source": [
        "Include **additional RUL** variables that have a fully completed test cycle to **increase the total data in the modelling dataframe**\n",
        "Remove NaN Values"
      ]
    },
    {
      "cell_type": "code",
      "execution_count": 7,
      "metadata": {},
      "outputs": [
        {
          "name": "stdout",
          "output_type": "stream",
          "text": [
            "(33324, 15) = df_train\n",
            "(36362, 15) = df_test\n",
            "(40112, 15) = df\n"
          ]
        },
        {
          "data": {
            "text/html": [
              "<div>\n",
              "<style scoped>\n",
              "    .dataframe tbody tr th:only-of-type {\n",
              "        vertical-align: middle;\n",
              "    }\n",
              "\n",
              "    .dataframe tbody tr th {\n",
              "        vertical-align: top;\n",
              "    }\n",
              "\n",
              "    .dataframe thead th {\n",
              "        text-align: right;\n",
              "    }\n",
              "</style>\n",
              "<table border=\"1\" class=\"dataframe\">\n",
              "  <thead>\n",
              "    <tr style=\"text-align: right;\">\n",
              "      <th></th>\n",
              "      <th>Data_No</th>\n",
              "      <th>Differential_pressure</th>\n",
              "      <th>4point_EWM</th>\n",
              "      <th>log_EWM</th>\n",
              "      <th>Flow_rate</th>\n",
              "      <th>Time</th>\n",
              "      <th>Dust_feed</th>\n",
              "      <th>Dust</th>\n",
              "      <th>RUL</th>\n",
              "      <th>change_DP</th>\n",
              "      <th>change_EWM</th>\n",
              "      <th>mass_g</th>\n",
              "      <th>cumulative_mass_g</th>\n",
              "      <th>Tt</th>\n",
              "      <th>filter_balance</th>\n",
              "    </tr>\n",
              "  </thead>\n",
              "  <tbody>\n",
              "    <tr>\n",
              "      <th>36362</th>\n",
              "      <td>11</td>\n",
              "      <td>14.37720</td>\n",
              "      <td>14.377170</td>\n",
              "      <td>2.665642</td>\n",
              "      <td>57.083999</td>\n",
              "      <td>0.1</td>\n",
              "      <td>158.492533</td>\n",
              "      <td>0.9</td>\n",
              "      <td>62.2</td>\n",
              "      <td>14.37717</td>\n",
              "      <td>14.377170</td>\n",
              "      <td>0.142643</td>\n",
              "      <td>0.142643</td>\n",
              "      <td>62.3</td>\n",
              "      <td>97.60</td>\n",
              "    </tr>\n",
              "    <tr>\n",
              "      <th>36774</th>\n",
              "      <td>11</td>\n",
              "      <td>256.52850</td>\n",
              "      <td>259.896386</td>\n",
              "      <td>5.560283</td>\n",
              "      <td>57.558630</td>\n",
              "      <td>41.3</td>\n",
              "      <td>158.492533</td>\n",
              "      <td>0.9</td>\n",
              "      <td>21.0</td>\n",
              "      <td>-7.50510</td>\n",
              "      <td>-2.245258</td>\n",
              "      <td>0.142643</td>\n",
              "      <td>58.911674</td>\n",
              "      <td>62.3</td>\n",
              "      <td>57.25</td>\n",
              "    </tr>\n",
              "    <tr>\n",
              "      <th>36775</th>\n",
              "      <td>11</td>\n",
              "      <td>258.42740</td>\n",
              "      <td>259.308792</td>\n",
              "      <td>5.558020</td>\n",
              "      <td>57.723242</td>\n",
              "      <td>41.4</td>\n",
              "      <td>158.492533</td>\n",
              "      <td>0.9</td>\n",
              "      <td>20.9</td>\n",
              "      <td>1.89890</td>\n",
              "      <td>-0.587595</td>\n",
              "      <td>0.142643</td>\n",
              "      <td>59.054318</td>\n",
              "      <td>62.3</td>\n",
              "      <td>56.93</td>\n",
              "    </tr>\n",
              "    <tr>\n",
              "      <th>36776</th>\n",
              "      <td>11</td>\n",
              "      <td>260.32620</td>\n",
              "      <td>259.715755</td>\n",
              "      <td>5.559588</td>\n",
              "      <td>57.481806</td>\n",
              "      <td>41.5</td>\n",
              "      <td>158.492533</td>\n",
              "      <td>0.9</td>\n",
              "      <td>20.8</td>\n",
              "      <td>1.89880</td>\n",
              "      <td>0.406963</td>\n",
              "      <td>0.142643</td>\n",
              "      <td>59.196961</td>\n",
              "      <td>62.3</td>\n",
              "      <td>56.61</td>\n",
              "    </tr>\n",
              "    <tr>\n",
              "      <th>36777</th>\n",
              "      <td>11</td>\n",
              "      <td>264.03360</td>\n",
              "      <td>261.442893</td>\n",
              "      <td>5.566216</td>\n",
              "      <td>57.448899</td>\n",
              "      <td>41.6</td>\n",
              "      <td>158.492533</td>\n",
              "      <td>0.9</td>\n",
              "      <td>20.7</td>\n",
              "      <td>3.70740</td>\n",
              "      <td>1.727138</td>\n",
              "      <td>0.142643</td>\n",
              "      <td>59.339604</td>\n",
              "      <td>62.3</td>\n",
              "      <td>55.99</td>\n",
              "    </tr>\n",
              "    <tr>\n",
              "      <th>...</th>\n",
              "      <td>...</td>\n",
              "      <td>...</td>\n",
              "      <td>...</td>\n",
              "      <td>...</td>\n",
              "      <td>...</td>\n",
              "      <td>...</td>\n",
              "      <td>...</td>\n",
              "      <td>...</td>\n",
              "      <td>...</td>\n",
              "      <td>...</td>\n",
              "      <td>...</td>\n",
              "      <td>...</td>\n",
              "      <td>...</td>\n",
              "      <td>...</td>\n",
              "      <td>...</td>\n",
              "    </tr>\n",
              "    <tr>\n",
              "      <th>36059</th>\n",
              "      <td>100</td>\n",
              "      <td>35.71687</td>\n",
              "      <td>34.417504</td>\n",
              "      <td>3.538565</td>\n",
              "      <td>82.979898</td>\n",
              "      <td>22.2</td>\n",
              "      <td>316.985065</td>\n",
              "      <td>1.2</td>\n",
              "      <td>38.0</td>\n",
              "      <td>0.18085</td>\n",
              "      <td>0.866244</td>\n",
              "      <td>0.380382</td>\n",
              "      <td>84.444821</td>\n",
              "      <td>52.4</td>\n",
              "      <td>94.05</td>\n",
              "    </tr>\n",
              "    <tr>\n",
              "      <th>36058</th>\n",
              "      <td>100</td>\n",
              "      <td>35.53602</td>\n",
              "      <td>33.551260</td>\n",
              "      <td>3.513074</td>\n",
              "      <td>82.937616</td>\n",
              "      <td>22.1</td>\n",
              "      <td>316.985065</td>\n",
              "      <td>1.2</td>\n",
              "      <td>38.1</td>\n",
              "      <td>1.71802</td>\n",
              "      <td>1.323173</td>\n",
              "      <td>0.380382</td>\n",
              "      <td>84.064439</td>\n",
              "      <td>52.4</td>\n",
              "      <td>94.08</td>\n",
              "    </tr>\n",
              "    <tr>\n",
              "      <th>36057</th>\n",
              "      <td>100</td>\n",
              "      <td>33.81800</td>\n",
              "      <td>32.228087</td>\n",
              "      <td>3.472838</td>\n",
              "      <td>82.717792</td>\n",
              "      <td>22.0</td>\n",
              "      <td>316.985065</td>\n",
              "      <td>1.2</td>\n",
              "      <td>38.2</td>\n",
              "      <td>1.26592</td>\n",
              "      <td>1.059942</td>\n",
              "      <td>0.380382</td>\n",
              "      <td>83.684057</td>\n",
              "      <td>52.4</td>\n",
              "      <td>94.36</td>\n",
              "    </tr>\n",
              "    <tr>\n",
              "      <th>36068</th>\n",
              "      <td>100</td>\n",
              "      <td>36.98278</td>\n",
              "      <td>36.914036</td>\n",
              "      <td>3.608592</td>\n",
              "      <td>82.650156</td>\n",
              "      <td>23.1</td>\n",
              "      <td>316.985065</td>\n",
              "      <td>1.2</td>\n",
              "      <td>37.1</td>\n",
              "      <td>1.26591</td>\n",
              "      <td>0.045829</td>\n",
              "      <td>0.380382</td>\n",
              "      <td>87.868260</td>\n",
              "      <td>52.4</td>\n",
              "      <td>93.84</td>\n",
              "    </tr>\n",
              "    <tr>\n",
              "      <th>36140</th>\n",
              "      <td>100</td>\n",
              "      <td>86.62470</td>\n",
              "      <td>85.797313</td>\n",
              "      <td>4.451988</td>\n",
              "      <td>82.421873</td>\n",
              "      <td>30.3</td>\n",
              "      <td>316.985065</td>\n",
              "      <td>1.2</td>\n",
              "      <td>29.9</td>\n",
              "      <td>0.63295</td>\n",
              "      <td>0.551592</td>\n",
              "      <td>0.380382</td>\n",
              "      <td>115.255770</td>\n",
              "      <td>52.4</td>\n",
              "      <td>85.56</td>\n",
              "    </tr>\n",
              "  </tbody>\n",
              "</table>\n",
              "<p>40112 rows × 15 columns</p>\n",
              "</div>"
            ],
            "text/plain": [
              "       Data_No  Differential_pressure  4point_EWM   log_EWM  Flow_rate  Time  \\\n",
              "36362       11               14.37720   14.377170  2.665642  57.083999   0.1   \n",
              "36774       11              256.52850  259.896386  5.560283  57.558630  41.3   \n",
              "36775       11              258.42740  259.308792  5.558020  57.723242  41.4   \n",
              "36776       11              260.32620  259.715755  5.559588  57.481806  41.5   \n",
              "36777       11              264.03360  261.442893  5.566216  57.448899  41.6   \n",
              "...        ...                    ...         ...       ...        ...   ...   \n",
              "36059      100               35.71687   34.417504  3.538565  82.979898  22.2   \n",
              "36058      100               35.53602   33.551260  3.513074  82.937616  22.1   \n",
              "36057      100               33.81800   32.228087  3.472838  82.717792  22.0   \n",
              "36068      100               36.98278   36.914036  3.608592  82.650156  23.1   \n",
              "36140      100               86.62470   85.797313  4.451988  82.421873  30.3   \n",
              "\n",
              "        Dust_feed  Dust   RUL  change_DP  change_EWM    mass_g  \\\n",
              "36362  158.492533   0.9  62.2   14.37717   14.377170  0.142643   \n",
              "36774  158.492533   0.9  21.0   -7.50510   -2.245258  0.142643   \n",
              "36775  158.492533   0.9  20.9    1.89890   -0.587595  0.142643   \n",
              "36776  158.492533   0.9  20.8    1.89880    0.406963  0.142643   \n",
              "36777  158.492533   0.9  20.7    3.70740    1.727138  0.142643   \n",
              "...           ...   ...   ...        ...         ...       ...   \n",
              "36059  316.985065   1.2  38.0    0.18085    0.866244  0.380382   \n",
              "36058  316.985065   1.2  38.1    1.71802    1.323173  0.380382   \n",
              "36057  316.985065   1.2  38.2    1.26592    1.059942  0.380382   \n",
              "36068  316.985065   1.2  37.1    1.26591    0.045829  0.380382   \n",
              "36140  316.985065   1.2  29.9    0.63295    0.551592  0.380382   \n",
              "\n",
              "       cumulative_mass_g    Tt  filter_balance  \n",
              "36362           0.142643  62.3           97.60  \n",
              "36774          58.911674  62.3           57.25  \n",
              "36775          59.054318  62.3           56.93  \n",
              "36776          59.196961  62.3           56.61  \n",
              "36777          59.339604  62.3           55.99  \n",
              "...                  ...   ...             ...  \n",
              "36059          84.444821  52.4           94.05  \n",
              "36058          84.064439  52.4           94.08  \n",
              "36057          83.684057  52.4           94.36  \n",
              "36068          87.868260  52.4           93.84  \n",
              "36140         115.255770  52.4           85.56  \n",
              "\n",
              "[40112 rows x 15 columns]"
            ]
          },
          "execution_count": 7,
          "metadata": {},
          "output_type": "execute_result"
        }
      ],
      "source": [
        "# n = df_total['Data_No'].iloc[0:len(df_total)]\n",
        "# df_train = df_total[n < 51].reset_index(drop=True) # larger dataset\n",
        "# df_test = df_total[n > 50].reset_index(drop=True)\n",
        "df = pd.concat([df_test, RUL_additional], ignore_index=True)\n",
        "\n",
        "print(df_train.shape, '= df_train')\n",
        "print(df_test.shape, '= df_test')\n",
        "print(df.shape, '= df')\n",
        "df.sort_values('Data_No', ascending=True)"
      ]
    },
    {
      "cell_type": "markdown",
      "metadata": {
        "id": "krjAk78Tbyhv"
      },
      "source": [
        "# MP Pipeline: Regressor"
      ]
    },
    {
      "cell_type": "markdown",
      "metadata": {},
      "source": [
        "## Create ML pipeline"
      ]
    },
    {
      "attachments": {},
      "cell_type": "markdown",
      "metadata": {},
      "source": [
        "The target and all requirements are already in a numerical format (float and integer)"
      ]
    },
    {
      "cell_type": "code",
      "execution_count": 8,
      "metadata": {
        "id": "C6keis6ao8LA"
      },
      "outputs": [],
      "source": [
        "\n",
        "\n",
        "def PipelineOptimization(model):\n",
        "    pipeline_base = Pipeline([\n",
        "\n",
        "        # (\"OrdinalCategoricalEncoder\", OrdinalEncoder(encoding_method='arbitrary',\n",
        "        #                                              variables=['Data_No', '4point_EWM', 'log_EWM',\n",
        "        #                                                         'Flow_rate', 'Time', 'Dust_feed', 'Dust', 'RUL',\n",
        "        #                                                         'change_DP', 'change_EWM', 'mass_g',\n",
        "        #                                                         'cumulative_mass_g', 'Tt','filter_balance'])),\n",
        "\n",
        "        # (\"SmartCorrelatedSelection\", SmartCorrelatedSelection(variables=None,\n",
        "        #  method=\"spearman\", threshold=0.6, selection_method=\"variance\")),\n",
        "\n",
        "        (\"SmartCorrelatedSelection\", SmartCorrelatedSelection(\n",
        "                                                        variables=['Data_No', 'Differential_pressure', '4point_EWM', 'log_EWM',\n",
        "                                                                'Flow_rate', 'Time', 'Dust_feed', 'Dust',\n",
        "                                                                'change_DP', 'change_EWM', 'mass_g',\n",
        "                                                                'cumulative_mass_g', 'Tt','filter_balance'],\n",
        "                                                        method=\"spearman\",\n",
        "                                                        threshold=0.6,\n",
        "                                                        selection_method=\"variance\")),\n",
        "\n",
        "        (\"feat_scaling\", StandardScaler()),\n",
        "\n",
        "        (\"feat_selection\",  SelectFromModel(model)),\n",
        "\n",
        "        (\"model\", model),\n",
        "\n",
        "    ])\n",
        "\n",
        "    return pipeline_base\n"
      ]
    },
    {
      "cell_type": "markdown",
      "metadata": {
        "id": "lDmjjF3tHuCU"
      },
      "source": [
        "Custom Class for hyperparameter optimisation"
      ]
    },
    {
      "cell_type": "code",
      "execution_count": 9,
      "metadata": {
        "id": "NpTcVDtQ5RMc"
      },
      "outputs": [],
      "source": [
        "# from sklearn.model_selection import GridSearchCV\n",
        "\n",
        "\n",
        "class HyperparameterOptimizationSearch:\n",
        "\n",
        "    def __init__(self, models, params):\n",
        "        self.models = models\n",
        "        self.params = params\n",
        "        self.keys = models.keys()\n",
        "        self.grid_searches = {}\n",
        "\n",
        "    def fit(self, X, y, cv, n_jobs, verbose=1, scoring=None, refit=False):\n",
        "        for key in self.keys:\n",
        "            print(f\"\\nRunning GridSearchCV for {key} \\n\")\n",
        "            model = PipelineOptimization(self.models[key])\n",
        "\n",
        "            params = self.params[key]\n",
        "            gs = GridSearchCV(model, params, cv=cv, n_jobs=n_jobs,\n",
        "                              verbose=verbose, scoring=scoring)\n",
        "            gs.fit(X, y)\n",
        "            self.grid_searches[key] = gs\n",
        "\n",
        "    def score_summary(self, sort_by='mean_score (R²)'):\n",
        "        def row(key, scores, params):\n",
        "            d = {\n",
        "                'estimator': key,\n",
        "                'min_score': min(scores),\n",
        "                'max_score': max(scores),\n",
        "                'mean_score (R²)': np.mean(scores),\n",
        "                'std_score': np.std(scores),\n",
        "            }\n",
        "            return pd.Series({**params, **d})\n",
        "\n",
        "        rows = []\n",
        "        for k in self.grid_searches:\n",
        "            params = self.grid_searches[k].cv_results_['params']\n",
        "            scores = []\n",
        "            for i in range(self.grid_searches[k].cv):\n",
        "                key = \"split{}_test_score\".format(i)\n",
        "                r = self.grid_searches[k].cv_results_[key]\n",
        "                scores.append(r.reshape(len(params), 1))\n",
        "\n",
        "            all_scores = np.hstack(scores)\n",
        "            for p, s in zip(params, all_scores):\n",
        "                rows.append((row(k, s, p)))\n",
        "\n",
        "        df = pd.concat(rows, axis=1).T.sort_values([sort_by], ascending=False)\n",
        "\n",
        "        columns = ['estimator', 'min_score',\n",
        "                   'mean_score (R²)', 'max_score', 'std_score']\n",
        "        columns = columns + [c for c in df.columns if c not in columns]\n",
        "\n",
        "        return df[columns], self.grid_searches\n"
      ]
    },
    {
      "cell_type": "markdown",
      "metadata": {
        "id": "LD6B3CuhiDMT"
      },
      "source": [
        "## Split Train Test Set"
      ]
    },
    {
      "cell_type": "code",
      "execution_count": 10,
      "metadata": {
        "id": "-pFzP2iGiIk1"
      },
      "outputs": [
        {
          "name": "stdout",
          "output_type": "stream",
          "text": [
            "\n",
            " (22563, 14) (22563,) = Train set\n",
            " (7521, 14) (7521,) = Validate set\n",
            " (10028, 14) (10028,) = Test set\n",
            " ===========\n",
            " 40112 = Total Observations\n",
            "\n"
          ]
        }
      ],
      "source": [
        "# from sklearn.model_selection import train_test_split\n",
        "\n",
        "X_working, X_test, y_working, y_test = train_test_split(\n",
        "    # df.drop(['Differential_pressure'], axis=1),\n",
        "    df.drop(['RUL'], axis=1),\n",
        "    # df['Differential_pressure'],\n",
        "    df['RUL'],\n",
        "    test_size=0.25,\n",
        "    random_state=8,\n",
        "    shuffle=True\n",
        ")\n",
        "\n",
        "X_train, X_validate, y_train, y_validate = train_test_split(\n",
        "    # df.drop(['Differential_pressure'], axis=1),\n",
        "    # df.drop(['RUL'], axis=1),\n",
        "    X_working,\n",
        "    # df['Differential_pressure'],\n",
        "    # df['RUL'],\n",
        "    y_working,\n",
        "    test_size=0.25,\n",
        "    random_state=8,\n",
        "    shuffle=True\n",
        ")\n",
        "\n",
        "print('\\n', X_train.shape, y_train.shape, '= Train set\\n',\n",
        "      X_validate.shape, y_validate.shape, '= Validate set\\n',\n",
        "      X_test.shape, y_test.shape, '= Test set\\n',\n",
        "      '===========\\n',\n",
        "      df.shape[0], '= Total Observations\\n')\n"
      ]
    },
    {
      "cell_type": "code",
      "execution_count": 11,
      "metadata": {},
      "outputs": [
        {
          "data": {
            "text/html": [
              "<div>\n",
              "<style scoped>\n",
              "    .dataframe tbody tr th:only-of-type {\n",
              "        vertical-align: middle;\n",
              "    }\n",
              "\n",
              "    .dataframe tbody tr th {\n",
              "        vertical-align: top;\n",
              "    }\n",
              "\n",
              "    .dataframe thead th {\n",
              "        text-align: right;\n",
              "    }\n",
              "</style>\n",
              "<table border=\"1\" class=\"dataframe\">\n",
              "  <thead>\n",
              "    <tr style=\"text-align: right;\">\n",
              "      <th></th>\n",
              "      <th>Data_No</th>\n",
              "      <th>Differential_pressure</th>\n",
              "      <th>4point_EWM</th>\n",
              "      <th>log_EWM</th>\n",
              "      <th>Flow_rate</th>\n",
              "      <th>Time</th>\n",
              "      <th>Dust_feed</th>\n",
              "      <th>Dust</th>\n",
              "      <th>change_DP</th>\n",
              "      <th>change_EWM</th>\n",
              "      <th>mass_g</th>\n",
              "      <th>cumulative_mass_g</th>\n",
              "      <th>Tt</th>\n",
              "      <th>filter_balance</th>\n",
              "    </tr>\n",
              "  </thead>\n",
              "  <tbody>\n",
              "    <tr>\n",
              "      <th>24462</th>\n",
              "      <td>79</td>\n",
              "      <td>133.734800</td>\n",
              "      <td>134.331774</td>\n",
              "      <td>4.900313</td>\n",
              "      <td>81.043738</td>\n",
              "      <td>186.8</td>\n",
              "      <td>59.107236</td>\n",
              "      <td>1.200</td>\n",
              "      <td>-1.26590</td>\n",
              "      <td>-0.397982</td>\n",
              "      <td>0.070929</td>\n",
              "      <td>132.494780</td>\n",
              "      <td>258.1</td>\n",
              "      <td>77.71</td>\n",
              "    </tr>\n",
              "    <tr>\n",
              "      <th>3544</th>\n",
              "      <td>58</td>\n",
              "      <td>10.760270</td>\n",
              "      <td>10.869038</td>\n",
              "      <td>2.385918</td>\n",
              "      <td>58.458498</td>\n",
              "      <td>21.6</td>\n",
              "      <td>158.492533</td>\n",
              "      <td>1.025</td>\n",
              "      <td>0.00000</td>\n",
              "      <td>-0.072512</td>\n",
              "      <td>0.162455</td>\n",
              "      <td>35.090247</td>\n",
              "      <td>114.5</td>\n",
              "      <td>98.21</td>\n",
              "    </tr>\n",
              "    <tr>\n",
              "      <th>35991</th>\n",
              "      <td>100</td>\n",
              "      <td>10.579430</td>\n",
              "      <td>10.427003</td>\n",
              "      <td>2.344399</td>\n",
              "      <td>82.624780</td>\n",
              "      <td>15.4</td>\n",
              "      <td>316.985065</td>\n",
              "      <td>1.200</td>\n",
              "      <td>0.00000</td>\n",
              "      <td>0.101618</td>\n",
              "      <td>0.380382</td>\n",
              "      <td>58.578840</td>\n",
              "      <td>52.4</td>\n",
              "      <td>98.24</td>\n",
              "    </tr>\n",
              "    <tr>\n",
              "      <th>14097</th>\n",
              "      <td>68</td>\n",
              "      <td>132.468900</td>\n",
              "      <td>132.970680</td>\n",
              "      <td>4.890129</td>\n",
              "      <td>81.551023</td>\n",
              "      <td>140.9</td>\n",
              "      <td>59.107236</td>\n",
              "      <td>1.025</td>\n",
              "      <td>-1.26590</td>\n",
              "      <td>-0.334520</td>\n",
              "      <td>0.060585</td>\n",
              "      <td>85.364148</td>\n",
              "      <td>257.9</td>\n",
              "      <td>77.92</td>\n",
              "    </tr>\n",
              "    <tr>\n",
              "      <th>21472</th>\n",
              "      <td>78</td>\n",
              "      <td>50.636570</td>\n",
              "      <td>48.466935</td>\n",
              "      <td>3.880882</td>\n",
              "      <td>83.137331</td>\n",
              "      <td>103.5</td>\n",
              "      <td>59.107236</td>\n",
              "      <td>1.200</td>\n",
              "      <td>2.89352</td>\n",
              "      <td>1.446423</td>\n",
              "      <td>0.070929</td>\n",
              "      <td>73.411187</td>\n",
              "      <td>243.8</td>\n",
              "      <td>91.56</td>\n",
              "    </tr>\n",
              "    <tr>\n",
              "      <th>...</th>\n",
              "      <td>...</td>\n",
              "      <td>...</td>\n",
              "      <td>...</td>\n",
              "      <td>...</td>\n",
              "      <td>...</td>\n",
              "      <td>...</td>\n",
              "      <td>...</td>\n",
              "      <td>...</td>\n",
              "      <td>...</td>\n",
              "      <td>...</td>\n",
              "      <td>...</td>\n",
              "      <td>...</td>\n",
              "      <td>...</td>\n",
              "      <td>...</td>\n",
              "    </tr>\n",
              "    <tr>\n",
              "      <th>15672</th>\n",
              "      <td>69</td>\n",
              "      <td>37.073210</td>\n",
              "      <td>39.693105</td>\n",
              "      <td>3.681177</td>\n",
              "      <td>81.483387</td>\n",
              "      <td>41.2</td>\n",
              "      <td>59.107236</td>\n",
              "      <td>0.900</td>\n",
              "      <td>-4.34027</td>\n",
              "      <td>-1.746596</td>\n",
              "      <td>0.053197</td>\n",
              "      <td>21.916963</td>\n",
              "      <td>145.7</td>\n",
              "      <td>93.82</td>\n",
              "    </tr>\n",
              "    <tr>\n",
              "      <th>20659</th>\n",
              "      <td>78</td>\n",
              "      <td>2.260561</td>\n",
              "      <td>1.741581</td>\n",
              "      <td>0.554793</td>\n",
              "      <td>82.548697</td>\n",
              "      <td>22.2</td>\n",
              "      <td>59.107236</td>\n",
              "      <td>1.200</td>\n",
              "      <td>0.00000</td>\n",
              "      <td>0.345987</td>\n",
              "      <td>0.070929</td>\n",
              "      <td>15.746168</td>\n",
              "      <td>243.8</td>\n",
              "      <td>99.62</td>\n",
              "    </tr>\n",
              "    <tr>\n",
              "      <th>7457</th>\n",
              "      <td>63</td>\n",
              "      <td>7.414641</td>\n",
              "      <td>7.121340</td>\n",
              "      <td>1.963096</td>\n",
              "      <td>58.151218</td>\n",
              "      <td>48.0</td>\n",
              "      <td>79.246266</td>\n",
              "      <td>1.025</td>\n",
              "      <td>0.00000</td>\n",
              "      <td>0.195534</td>\n",
              "      <td>0.081227</td>\n",
              "      <td>38.989163</td>\n",
              "      <td>115.1</td>\n",
              "      <td>98.76</td>\n",
              "    </tr>\n",
              "    <tr>\n",
              "      <th>24256</th>\n",
              "      <td>79</td>\n",
              "      <td>100.368900</td>\n",
              "      <td>100.519461</td>\n",
              "      <td>4.610351</td>\n",
              "      <td>81.491846</td>\n",
              "      <td>166.2</td>\n",
              "      <td>59.107236</td>\n",
              "      <td>1.200</td>\n",
              "      <td>0.00000</td>\n",
              "      <td>-0.100374</td>\n",
              "      <td>0.070929</td>\n",
              "      <td>117.883471</td>\n",
              "      <td>258.1</td>\n",
              "      <td>83.27</td>\n",
              "    </tr>\n",
              "    <tr>\n",
              "      <th>29287</th>\n",
              "      <td>83</td>\n",
              "      <td>25.318280</td>\n",
              "      <td>25.001823</td>\n",
              "      <td>3.218949</td>\n",
              "      <td>82.227413</td>\n",
              "      <td>26.6</td>\n",
              "      <td>158.492533</td>\n",
              "      <td>1.200</td>\n",
              "      <td>0.00000</td>\n",
              "      <td>0.210971</td>\n",
              "      <td>0.190191</td>\n",
              "      <td>50.590816</td>\n",
              "      <td>78.5</td>\n",
              "      <td>95.78</td>\n",
              "    </tr>\n",
              "  </tbody>\n",
              "</table>\n",
              "<p>22563 rows × 14 columns</p>\n",
              "</div>"
            ],
            "text/plain": [
              "       Data_No  Differential_pressure  4point_EWM   log_EWM  Flow_rate   Time  \\\n",
              "24462       79             133.734800  134.331774  4.900313  81.043738  186.8   \n",
              "3544        58              10.760270   10.869038  2.385918  58.458498   21.6   \n",
              "35991      100              10.579430   10.427003  2.344399  82.624780   15.4   \n",
              "14097       68             132.468900  132.970680  4.890129  81.551023  140.9   \n",
              "21472       78              50.636570   48.466935  3.880882  83.137331  103.5   \n",
              "...        ...                    ...         ...       ...        ...    ...   \n",
              "15672       69              37.073210   39.693105  3.681177  81.483387   41.2   \n",
              "20659       78               2.260561    1.741581  0.554793  82.548697   22.2   \n",
              "7457        63               7.414641    7.121340  1.963096  58.151218   48.0   \n",
              "24256       79             100.368900  100.519461  4.610351  81.491846  166.2   \n",
              "29287       83              25.318280   25.001823  3.218949  82.227413   26.6   \n",
              "\n",
              "        Dust_feed   Dust  change_DP  change_EWM    mass_g  cumulative_mass_g  \\\n",
              "24462   59.107236  1.200   -1.26590   -0.397982  0.070929         132.494780   \n",
              "3544   158.492533  1.025    0.00000   -0.072512  0.162455          35.090247   \n",
              "35991  316.985065  1.200    0.00000    0.101618  0.380382          58.578840   \n",
              "14097   59.107236  1.025   -1.26590   -0.334520  0.060585          85.364148   \n",
              "21472   59.107236  1.200    2.89352    1.446423  0.070929          73.411187   \n",
              "...           ...    ...        ...         ...       ...                ...   \n",
              "15672   59.107236  0.900   -4.34027   -1.746596  0.053197          21.916963   \n",
              "20659   59.107236  1.200    0.00000    0.345987  0.070929          15.746168   \n",
              "7457    79.246266  1.025    0.00000    0.195534  0.081227          38.989163   \n",
              "24256   59.107236  1.200    0.00000   -0.100374  0.070929         117.883471   \n",
              "29287  158.492533  1.200    0.00000    0.210971  0.190191          50.590816   \n",
              "\n",
              "          Tt  filter_balance  \n",
              "24462  258.1           77.71  \n",
              "3544   114.5           98.21  \n",
              "35991   52.4           98.24  \n",
              "14097  257.9           77.92  \n",
              "21472  243.8           91.56  \n",
              "...      ...             ...  \n",
              "15672  145.7           93.82  \n",
              "20659  243.8           99.62  \n",
              "7457   115.1           98.76  \n",
              "24256  258.1           83.27  \n",
              "29287   78.5           95.78  \n",
              "\n",
              "[22563 rows x 14 columns]"
            ]
          },
          "execution_count": 11,
          "metadata": {},
          "output_type": "execute_result"
        }
      ],
      "source": [
        "X_train"
      ]
    },
    {
      "cell_type": "markdown",
      "metadata": {
        "id": "-15-sWUST6XX"
      },
      "source": [
        "## Grid Search CV - Sklearn"
      ]
    },
    {
      "cell_type": "markdown",
      "metadata": {
        "id": "KTFXq-ieogBj"
      },
      "source": [
        "### Use default hyperparameters to find most suitable algorithm"
      ]
    },
    {
      "cell_type": "code",
      "execution_count": 12,
      "metadata": {
        "id": "XZKV86gsPw8c"
      },
      "outputs": [],
      "source": [
        "models_quick_search = {\n",
        "    \"AdaBoostRegressor\": AdaBoostRegressor(random_state=0),\n",
        "    \"DecisionTreeRegressor\": DecisionTreeRegressor(random_state=0),\n",
        "    \"ExtraTreesRegressor\": ExtraTreesRegressor(random_state=0),\n",
        "    \"GradientBoostingRegressor\": GradientBoostingRegressor(random_state=0),\n",
        "    'LinearRegression': LinearRegression(),\n",
        "    \"RandomForestRegressor\": RandomForestRegressor(random_state=0),\n",
        "    \"SGDRegressor\": SGDRegressor(random_state=0),\n",
        "    \"XGBRegressor\": XGBRegressor(random_state=0),\n",
        "}\n",
        "\n",
        "params_quick_search = {\n",
        "    \"AdaBoostRegressor\": {},\n",
        "    \"DecisionTreeRegressor\": {},\n",
        "    \"ExtraTreesRegressor\": {},\n",
        "    \"GradientBoostingRegressor\": {},\n",
        "    'LinearRegression': {},\n",
        "    \"RandomForestRegressor\": {},\n",
        "    \"SGDRegressor\": {},\n",
        "    \"XGBRegressor\": {},\n",
        "}"
      ]
    },
    {
      "cell_type": "markdown",
      "metadata": {
        "id": "jGABtSoSLP9u"
      },
      "source": [
        "Do a hyperparameter optimisation search using default hyperparameters"
      ]
    },
    {
      "cell_type": "code",
      "execution_count": 13,
      "metadata": {
        "id": "-_q-ru92GiBb"
      },
      "outputs": [
        {
          "name": "stdout",
          "output_type": "stream",
          "text": [
            "\n",
            "Running GridSearchCV for AdaBoostRegressor \n",
            "\n",
            "Fitting 5 folds for each of 1 candidates, totalling 5 fits\n",
            "\n",
            "Running GridSearchCV for DecisionTreeRegressor \n",
            "\n",
            "Fitting 5 folds for each of 1 candidates, totalling 5 fits\n",
            "\n",
            "Running GridSearchCV for ExtraTreesRegressor \n",
            "\n",
            "Fitting 5 folds for each of 1 candidates, totalling 5 fits\n",
            "\n",
            "Running GridSearchCV for GradientBoostingRegressor \n",
            "\n",
            "Fitting 5 folds for each of 1 candidates, totalling 5 fits\n",
            "\n",
            "Running GridSearchCV for LinearRegression \n",
            "\n",
            "Fitting 5 folds for each of 1 candidates, totalling 5 fits\n",
            "\n",
            "Running GridSearchCV for RandomForestRegressor \n",
            "\n",
            "Fitting 5 folds for each of 1 candidates, totalling 5 fits\n",
            "\n",
            "Running GridSearchCV for SGDRegressor \n",
            "\n",
            "Fitting 5 folds for each of 1 candidates, totalling 5 fits\n",
            "\n",
            "Running GridSearchCV for XGBRegressor \n",
            "\n",
            "Fitting 5 folds for each of 1 candidates, totalling 5 fits\n"
          ]
        }
      ],
      "source": [
        "search = HyperparameterOptimizationSearch(models=models_quick_search, params=params_quick_search)\n",
        "search.fit(X_train, y_train, scoring='r2', n_jobs=-1, cv=5)"
      ]
    },
    {
      "cell_type": "markdown",
      "metadata": {
        "id": "c7p56nXeoqWo"
      },
      "source": [
        "Check results"
      ]
    },
    {
      "cell_type": "code",
      "execution_count": 14,
      "metadata": {},
      "outputs": [
        {
          "data": {
            "image/png": "[encoded data removed]",
            "text/plain": [
              "<Figure size 640x480 with 1 Axes>"
            ]
          },
          "metadata": {},
          "output_type": "display_data"
        },
        {
          "data": {
            "text/html": [
              "<div>\n",
              "<style scoped>\n",
              "    .dataframe tbody tr th:only-of-type {\n",
              "        vertical-align: middle;\n",
              "    }\n",
              "\n",
              "    .dataframe tbody tr th {\n",
              "        vertical-align: top;\n",
              "    }\n",
              "\n",
              "    .dataframe thead th {\n",
              "        text-align: right;\n",
              "    }\n",
              "</style>\n",
              "<table border=\"1\" class=\"dataframe\">\n",
              "  <thead>\n",
              "    <tr style=\"text-align: right;\">\n",
              "      <th></th>\n",
              "      <th>estimator</th>\n",
              "      <th>min_score</th>\n",
              "      <th>mean_score (R²)</th>\n",
              "      <th>max_score</th>\n",
              "      <th>std_score</th>\n",
              "    </tr>\n",
              "  </thead>\n",
              "  <tbody>\n",
              "    <tr>\n",
              "      <th>5</th>\n",
              "      <td>RandomForestRegressor</td>\n",
              "      <td>0.997664</td>\n",
              "      <td>0.997743</td>\n",
              "      <td>0.997813</td>\n",
              "      <td>0.000052</td>\n",
              "    </tr>\n",
              "    <tr>\n",
              "      <th>7</th>\n",
              "      <td>XGBRegressor</td>\n",
              "      <td>0.997578</td>\n",
              "      <td>0.997652</td>\n",
              "      <td>0.997732</td>\n",
              "      <td>0.000059</td>\n",
              "    </tr>\n",
              "    <tr>\n",
              "      <th>2</th>\n",
              "      <td>ExtraTreesRegressor</td>\n",
              "      <td>0.99751</td>\n",
              "      <td>0.997609</td>\n",
              "      <td>0.997669</td>\n",
              "      <td>0.00006</td>\n",
              "    </tr>\n",
              "    <tr>\n",
              "      <th>1</th>\n",
              "      <td>DecisionTreeRegressor</td>\n",
              "      <td>0.997327</td>\n",
              "      <td>0.997464</td>\n",
              "      <td>0.997516</td>\n",
              "      <td>0.000069</td>\n",
              "    </tr>\n",
              "    <tr>\n",
              "      <th>3</th>\n",
              "      <td>GradientBoostingRegressor</td>\n",
              "      <td>0.982152</td>\n",
              "      <td>0.983226</td>\n",
              "      <td>0.984276</td>\n",
              "      <td>0.000744</td>\n",
              "    </tr>\n",
              "    <tr>\n",
              "      <th>0</th>\n",
              "      <td>AdaBoostRegressor</td>\n",
              "      <td>0.908245</td>\n",
              "      <td>0.9126</td>\n",
              "      <td>0.915833</td>\n",
              "      <td>0.002687</td>\n",
              "    </tr>\n",
              "    <tr>\n",
              "      <th>4</th>\n",
              "      <td>LinearRegression</td>\n",
              "      <td>0.745012</td>\n",
              "      <td>0.746857</td>\n",
              "      <td>0.750444</td>\n",
              "      <td>0.002034</td>\n",
              "    </tr>\n",
              "    <tr>\n",
              "      <th>6</th>\n",
              "      <td>SGDRegressor</td>\n",
              "      <td>0.745002</td>\n",
              "      <td>0.746738</td>\n",
              "      <td>0.750485</td>\n",
              "      <td>0.002029</td>\n",
              "    </tr>\n",
              "  </tbody>\n",
              "</table>\n",
              "</div>"
            ],
            "text/plain": [
              "                   estimator min_score mean_score (R²) max_score std_score\n",
              "5      RandomForestRegressor  0.997664        0.997743  0.997813  0.000052\n",
              "7               XGBRegressor  0.997578        0.997652  0.997732  0.000059\n",
              "2        ExtraTreesRegressor   0.99751        0.997609  0.997669   0.00006\n",
              "1      DecisionTreeRegressor  0.997327        0.997464  0.997516  0.000069\n",
              "3  GradientBoostingRegressor  0.982152        0.983226  0.984276  0.000744\n",
              "0          AdaBoostRegressor  0.908245          0.9126  0.915833  0.002687\n",
              "4           LinearRegression  0.745012        0.746857  0.750444  0.002034\n",
              "6               SGDRegressor  0.745002        0.746738  0.750485  0.002029"
            ]
          },
          "execution_count": 14,
          "metadata": {},
          "output_type": "execute_result"
        }
      ],
      "source": [
        "# import matplotlib.pyplot as plt\n",
        "\n",
        "grid_search_summary, grid_search_pipelines = search.score_summary(sort_by='mean_score (R²)')\n",
        "results = grid_search_summary['mean_score (R²)']\n",
        "results.plot(kind=\"bar\",title=\"Mean Scores (R²)\")\n",
        "\n",
        "axes = plt.gca()\n",
        "axes.set_ylim([0.0,1.05])\n",
        "plt.xticks(rotation=0, fontsize=8)\n",
        "\n",
        "plt.title(\"Mean Score (R²) of various Regression Model's\\n(using all variables)\")\n",
        "plt.ylabel('Mean Score (R²)\\n')\n",
        "plt.xlabel('\\nModel Index No.')\n",
        "plt.show()\n",
        "grid_search_summary"
      ]
    },
    {
      "attachments": {},
      "cell_type": "markdown",
      "metadata": {},
      "source": [
        "---"
      ]
    },
    {
      "attachments": {},
      "cell_type": "markdown",
      "metadata": {
        "id": "LD6B3CuhiDMT"
      },
      "source": [
        "## Exclude Calculated Requirements\n",
        "These are naturally be cross correlated to the base requirement they are calculated and may unduly skew the model."
      ]
    },
    {
      "cell_type": "code",
      "execution_count": 15,
      "metadata": {},
      "outputs": [
        {
          "data": {
            "text/html": [
              "<div>\n",
              "<style scoped>\n",
              "    .dataframe tbody tr th:only-of-type {\n",
              "        vertical-align: middle;\n",
              "    }\n",
              "\n",
              "    .dataframe tbody tr th {\n",
              "        vertical-align: top;\n",
              "    }\n",
              "\n",
              "    .dataframe thead th {\n",
              "        text-align: right;\n",
              "    }\n",
              "</style>\n",
              "<table border=\"1\" class=\"dataframe\">\n",
              "  <thead>\n",
              "    <tr style=\"text-align: right;\">\n",
              "      <th></th>\n",
              "      <th>Data_No</th>\n",
              "      <th>Differential_pressure</th>\n",
              "      <th>4point_EWM</th>\n",
              "      <th>log_EWM</th>\n",
              "      <th>Flow_rate</th>\n",
              "      <th>Time</th>\n",
              "      <th>Dust_feed</th>\n",
              "      <th>Dust</th>\n",
              "      <th>RUL</th>\n",
              "      <th>change_DP</th>\n",
              "      <th>change_EWM</th>\n",
              "      <th>mass_g</th>\n",
              "      <th>cumulative_mass_g</th>\n",
              "      <th>Tt</th>\n",
              "      <th>filter_balance</th>\n",
              "    </tr>\n",
              "  </thead>\n",
              "  <tbody>\n",
              "    <tr>\n",
              "      <th>0</th>\n",
              "      <td>51</td>\n",
              "      <td>2.622251</td>\n",
              "      <td>1.159577</td>\n",
              "      <td>0.148056</td>\n",
              "      <td>55.524146</td>\n",
              "      <td>0.4</td>\n",
              "      <td>236.428943</td>\n",
              "      <td>1.025</td>\n",
              "      <td>58.6</td>\n",
              "      <td>2.622251</td>\n",
              "      <td>0.975116</td>\n",
              "      <td>0.24234</td>\n",
              "      <td>0.969359</td>\n",
              "      <td>36.6</td>\n",
              "      <td>99.56</td>\n",
              "    </tr>\n",
              "    <tr>\n",
              "      <th>1</th>\n",
              "      <td>51</td>\n",
              "      <td>3.888165</td>\n",
              "      <td>2.251012</td>\n",
              "      <td>0.811380</td>\n",
              "      <td>55.852018</td>\n",
              "      <td>0.5</td>\n",
              "      <td>236.428943</td>\n",
              "      <td>1.025</td>\n",
              "      <td>58.5</td>\n",
              "      <td>1.265914</td>\n",
              "      <td>1.091435</td>\n",
              "      <td>0.24234</td>\n",
              "      <td>1.211698</td>\n",
              "      <td>36.6</td>\n",
              "      <td>99.35</td>\n",
              "    </tr>\n",
              "    <tr>\n",
              "      <th>2</th>\n",
              "      <td>51</td>\n",
              "      <td>4.521122</td>\n",
              "      <td>3.159056</td>\n",
              "      <td>1.150273</td>\n",
              "      <td>56.130203</td>\n",
              "      <td>0.6</td>\n",
              "      <td>236.428943</td>\n",
              "      <td>1.025</td>\n",
              "      <td>58.4</td>\n",
              "      <td>0.632957</td>\n",
              "      <td>0.908044</td>\n",
              "      <td>0.24234</td>\n",
              "      <td>1.454038</td>\n",
              "      <td>36.6</td>\n",
              "      <td>99.25</td>\n",
              "    </tr>\n",
              "  </tbody>\n",
              "</table>\n",
              "</div>"
            ],
            "text/plain": [
              "   Data_No  Differential_pressure  4point_EWM   log_EWM  Flow_rate  Time  \\\n",
              "0       51               2.622251    1.159577  0.148056  55.524146   0.4   \n",
              "1       51               3.888165    2.251012  0.811380  55.852018   0.5   \n",
              "2       51               4.521122    3.159056  1.150273  56.130203   0.6   \n",
              "\n",
              "    Dust_feed   Dust   RUL  change_DP  change_EWM   mass_g  cumulative_mass_g  \\\n",
              "0  236.428943  1.025  58.6   2.622251    0.975116  0.24234           0.969359   \n",
              "1  236.428943  1.025  58.5   1.265914    1.091435  0.24234           1.211698   \n",
              "2  236.428943  1.025  58.4   0.632957    0.908044  0.24234           1.454038   \n",
              "\n",
              "     Tt  filter_balance  \n",
              "0  36.6           99.56  \n",
              "1  36.6           99.35  \n",
              "2  36.6           99.25  "
            ]
          },
          "execution_count": 15,
          "metadata": {},
          "output_type": "execute_result"
        }
      ],
      "source": [
        "df.head(3)"
      ]
    },
    {
      "attachments": {},
      "cell_type": "markdown",
      "metadata": {},
      "source": [
        "Re-Define the Pipeline"
      ]
    },
    {
      "cell_type": "code",
      "execution_count": 16,
      "metadata": {},
      "outputs": [],
      "source": [
        "def PipelineOptimization(model):\n",
        "    pipeline_base = Pipeline([\n",
        "        (\"SmartCorrelatedSelection\", SmartCorrelatedSelection(\n",
        "                                                        variables=['Data_No', 'Differential_pressure',\n",
        "                                                                'Flow_rate', 'Time', 'Dust_feed', 'Dust'],\n",
        "                                                        method=\"spearman\",\n",
        "                                                        threshold=0.6,\n",
        "                                                        selection_method=\"variance\")),\n",
        "        (\"feat_scaling\", StandardScaler()),\n",
        "        (\"feat_selection\",  SelectFromModel(model)),\n",
        "        (\"model\", model),\n",
        "    ])\n",
        "\n",
        "    return pipeline_base"
      ]
    },
    {
      "attachments": {},
      "cell_type": "markdown",
      "metadata": {},
      "source": [
        "Re-Run hyperparameter optimization search using default hyperparameters **on less variables**."
      ]
    },
    {
      "cell_type": "code",
      "execution_count": 17,
      "metadata": {},
      "outputs": [
        {
          "name": "stdout",
          "output_type": "stream",
          "text": [
            "\n",
            "Running GridSearchCV for AdaBoostRegressor \n",
            "\n",
            "Fitting 5 folds for each of 1 candidates, totalling 5 fits\n",
            "\n",
            "Running GridSearchCV for DecisionTreeRegressor \n",
            "\n",
            "Fitting 5 folds for each of 1 candidates, totalling 5 fits\n",
            "\n",
            "Running GridSearchCV for ExtraTreesRegressor \n",
            "\n",
            "Fitting 5 folds for each of 1 candidates, totalling 5 fits\n",
            "\n",
            "Running GridSearchCV for GradientBoostingRegressor \n",
            "\n",
            "Fitting 5 folds for each of 1 candidates, totalling 5 fits\n",
            "\n",
            "Running GridSearchCV for LinearRegression \n",
            "\n",
            "Fitting 5 folds for each of 1 candidates, totalling 5 fits\n",
            "\n",
            "Running GridSearchCV for RandomForestRegressor \n",
            "\n",
            "Fitting 5 folds for each of 1 candidates, totalling 5 fits\n",
            "\n",
            "Running GridSearchCV for SGDRegressor \n",
            "\n",
            "Fitting 5 folds for each of 1 candidates, totalling 5 fits\n",
            "\n",
            "Running GridSearchCV for XGBRegressor \n",
            "\n",
            "Fitting 5 folds for each of 1 candidates, totalling 5 fits\n"
          ]
        }
      ],
      "source": [
        "search = HyperparameterOptimizationSearch(models=models_quick_search, params=params_quick_search)\n",
        "search.fit(X_train, y_train, scoring='r2', n_jobs=-1, cv=5)"
      ]
    },
    {
      "attachments": {},
      "cell_type": "markdown",
      "metadata": {},
      "source": [
        "Check Results"
      ]
    },
    {
      "cell_type": "code",
      "execution_count": 18,
      "metadata": {},
      "outputs": [
        {
          "data": {
            "image/png": "[encoded data removed]",
            "text/plain": [
              "<Figure size 640x480 with 1 Axes>"
            ]
          },
          "metadata": {},
          "output_type": "display_data"
        },
        {
          "data": {
            "text/html": [
              "<div>\n",
              "<style scoped>\n",
              "    .dataframe tbody tr th:only-of-type {\n",
              "        vertical-align: middle;\n",
              "    }\n",
              "\n",
              "    .dataframe tbody tr th {\n",
              "        vertical-align: top;\n",
              "    }\n",
              "\n",
              "    .dataframe thead th {\n",
              "        text-align: right;\n",
              "    }\n",
              "</style>\n",
              "<table border=\"1\" class=\"dataframe\">\n",
              "  <thead>\n",
              "    <tr style=\"text-align: right;\">\n",
              "      <th></th>\n",
              "      <th>estimator</th>\n",
              "      <th>min_score</th>\n",
              "      <th>mean_score (R²)</th>\n",
              "      <th>max_score</th>\n",
              "      <th>std_score</th>\n",
              "    </tr>\n",
              "  </thead>\n",
              "  <tbody>\n",
              "    <tr>\n",
              "      <th>2</th>\n",
              "      <td>ExtraTreesRegressor</td>\n",
              "      <td>0.998384</td>\n",
              "      <td>0.998527</td>\n",
              "      <td>0.998684</td>\n",
              "      <td>0.000097</td>\n",
              "    </tr>\n",
              "    <tr>\n",
              "      <th>5</th>\n",
              "      <td>RandomForestRegressor</td>\n",
              "      <td>0.998297</td>\n",
              "      <td>0.99841</td>\n",
              "      <td>0.998642</td>\n",
              "      <td>0.000126</td>\n",
              "    </tr>\n",
              "    <tr>\n",
              "      <th>1</th>\n",
              "      <td>DecisionTreeRegressor</td>\n",
              "      <td>0.997035</td>\n",
              "      <td>0.997842</td>\n",
              "      <td>0.998236</td>\n",
              "      <td>0.000425</td>\n",
              "    </tr>\n",
              "    <tr>\n",
              "      <th>3</th>\n",
              "      <td>GradientBoostingRegressor</td>\n",
              "      <td>0.987818</td>\n",
              "      <td>0.98932</td>\n",
              "      <td>0.990673</td>\n",
              "      <td>0.001033</td>\n",
              "    </tr>\n",
              "    <tr>\n",
              "      <th>7</th>\n",
              "      <td>XGBRegressor</td>\n",
              "      <td>0.947637</td>\n",
              "      <td>0.950102</td>\n",
              "      <td>0.951595</td>\n",
              "      <td>0.00167</td>\n",
              "    </tr>\n",
              "    <tr>\n",
              "      <th>0</th>\n",
              "      <td>AdaBoostRegressor</td>\n",
              "      <td>0.927983</td>\n",
              "      <td>0.931651</td>\n",
              "      <td>0.934335</td>\n",
              "      <td>0.002063</td>\n",
              "    </tr>\n",
              "    <tr>\n",
              "      <th>6</th>\n",
              "      <td>SGDRegressor</td>\n",
              "      <td>0.818188</td>\n",
              "      <td>0.821327</td>\n",
              "      <td>0.824427</td>\n",
              "      <td>0.00199</td>\n",
              "    </tr>\n",
              "    <tr>\n",
              "      <th>4</th>\n",
              "      <td>LinearRegression</td>\n",
              "      <td>0.256007</td>\n",
              "      <td>0.266865</td>\n",
              "      <td>0.277075</td>\n",
              "      <td>0.006768</td>\n",
              "    </tr>\n",
              "  </tbody>\n",
              "</table>\n",
              "</div>"
            ],
            "text/plain": [
              "                   estimator min_score mean_score (R²) max_score std_score\n",
              "2        ExtraTreesRegressor  0.998384        0.998527  0.998684  0.000097\n",
              "5      RandomForestRegressor  0.998297         0.99841  0.998642  0.000126\n",
              "1      DecisionTreeRegressor  0.997035        0.997842  0.998236  0.000425\n",
              "3  GradientBoostingRegressor  0.987818         0.98932  0.990673  0.001033\n",
              "7               XGBRegressor  0.947637        0.950102  0.951595   0.00167\n",
              "0          AdaBoostRegressor  0.927983        0.931651  0.934335  0.002063\n",
              "6               SGDRegressor  0.818188        0.821327  0.824427   0.00199\n",
              "4           LinearRegression  0.256007        0.266865  0.277075  0.006768"
            ]
          },
          "execution_count": 18,
          "metadata": {},
          "output_type": "execute_result"
        }
      ],
      "source": [
        "grid_search_summary, grid_search_pipelines = search.score_summary(sort_by='mean_score (R²)')\n",
        "results = grid_search_summary['mean_score (R²)']\n",
        "results.plot(kind=\"bar\",title=\"Mean Scores (R²)\")\n",
        "\n",
        "axes = plt.gca()\n",
        "axes.set_ylim([0,1.1])\n",
        "plt.xticks(rotation=0, fontsize=8)\n",
        "\n",
        "plt.title(\"Mean Score (R²) of various Regression Model's\\n\")\n",
        "plt.ylabel('Mean Score (R²)\\n')\n",
        "plt.xlabel('\\nModel Index No.')\n",
        "plt.show()\n",
        "grid_search_summary"
      ]
    },
    {
      "attachments": {},
      "cell_type": "markdown",
      "metadata": {},
      "source": [
        "### Observations\n",
        "* The average **R² score** (mean_score) indicates how well a model of the data fits the actual data. It ranges from **0.45** to **0.95**, which is exceptional, as value of R² score = 1 represents a perfect fit.\n",
        "* The R² score of most estimators is much higher than the **0.7** tolerance we decided in the business case.\n",
        "    * We could use this information to feedback to the business team to review the business model.\n",
        "    * A tolerance level between **0.85** to **0.95** may be suitable for this dataset / business case.\n",
        "\n",
        "\n",
        "* From this quick review, we have a range of choices between most regressors. The best result is the **RandomForestRegressor Regressor** however any of the ExtraTree, DecisionTree or GradientBoosting regressors perform above the current business requirement tolerance.\n",
        "\n",
        "* The GradientBoosting regressor under performs and would not be included for further consideration in this business case."
      ]
    },
    {
      "cell_type": "code",
      "execution_count": 19,
      "metadata": {},
      "outputs": [],
      "source": [
        "# stop"
      ]
    },
    {
      "attachments": {},
      "cell_type": "markdown",
      "metadata": {
        "id": "6pRUAeoG9lrZ"
      },
      "source": [
        "## Do an extensive search on the most suitable model to find the best hyperparameter configuration."
      ]
    },
    {
      "cell_type": "markdown",
      "metadata": {
        "id": "w2XCyOYkAYpZ"
      },
      "source": [
        "Define model and parameters, for Extensive Search"
      ]
    },
    {
      "attachments": {},
      "cell_type": "markdown",
      "metadata": {},
      "source": [
        "#### Random Forest Regressor (8min)"
      ]
    },
    {
      "cell_type": "code",
      "execution_count": 20,
      "metadata": {},
      "outputs": [],
      "source": [
        "# documentation to help on hyperparameter list: \n",
        "# https://scikit-learn.org/stable/modules/generated/sklearn.ensemble.RandomForestRegressor.html\n",
        "\n",
        "models_search = {\n",
        "    'RandomForestRegressor': RandomForestRegressor(),\n",
        "}\n",
        "\n",
        "params_search = {\n",
        "    'RandomForestRegressor':{\n",
        "        # 'model__criterion': ['squared_error', 'absolute_error', 'friedman_mse', 'poisson'],\n",
        "        # 'model__criterion': ['squared_error', 'friedman_mse', 'poisson'],\n",
        "        'model__criterion': ['poisson'],\n",
        "        # # 'model__max_depth': [None],\n",
        "        # 'model__max_depth': [3,10,None],\n",
        "        'model__max_features': [1.0, 'sqrt', 'log2'],\n",
        "        # 'model__n_estimators': [100,300,600,29089],\n",
        "        'model__n_estimators': [100,400,800],\n",
        "        # 'model__n_jobs': [None, 1],\n",
        "        # 'model__n_jobs': [None],\n",
        "    }\n",
        "}"
      ]
    },
    {
      "cell_type": "markdown",
      "metadata": {
        "id": "sBy8thxqAlrd"
      },
      "source": [
        "Extensive GridSearch CV"
      ]
    },
    {
      "cell_type": "code",
      "execution_count": 21,
      "metadata": {
        "id": "Y_4Ob7heAYM9"
      },
      "outputs": [
        {
          "name": "stdout",
          "output_type": "stream",
          "text": [
            "\n",
            "Running GridSearchCV for RandomForestRegressor \n",
            "\n",
            "Fitting 5 folds for each of 9 candidates, totalling 45 fits\n"
          ]
        },
        {
          "name": "stderr",
          "output_type": "stream",
          "text": [
            "/workspace/.pip-modules/lib/python3.8/site-packages/joblib/externals/loky/process_executor.py:700: UserWarning: A worker stopped while some jobs were given to the executor. This can be caused by a too short worker timeout or by a memory leak.\n",
            "  warnings.warn(\n"
          ]
        }
      ],
      "source": [
        "search_rfr = HyperparameterOptimizationSearch(models=models_search, params=params_search)\n",
        "search_rfr.fit(X_train, y_train, scoring='r2', n_jobs=-1, cv=5)"
      ]
    },
    {
      "cell_type": "markdown",
      "metadata": {
        "id": "wtNJJpLEAzdP"
      },
      "source": [
        "Check results"
      ]
    },
    {
      "cell_type": "code",
      "execution_count": 22,
      "metadata": {},
      "outputs": [
        {
          "data": {
            "text/html": [
              "<div>\n",
              "<style scoped>\n",
              "    .dataframe tbody tr th:only-of-type {\n",
              "        vertical-align: middle;\n",
              "    }\n",
              "\n",
              "    .dataframe tbody tr th {\n",
              "        vertical-align: top;\n",
              "    }\n",
              "\n",
              "    .dataframe thead th {\n",
              "        text-align: right;\n",
              "    }\n",
              "</style>\n",
              "<table border=\"1\" class=\"dataframe\">\n",
              "  <thead>\n",
              "    <tr style=\"text-align: right;\">\n",
              "      <th></th>\n",
              "      <th>estimator</th>\n",
              "      <th>min_score</th>\n",
              "      <th>mean_score (R²)</th>\n",
              "      <th>max_score</th>\n",
              "      <th>std_score</th>\n",
              "      <th>model__criterion</th>\n",
              "      <th>model__max_features</th>\n",
              "      <th>model__n_estimators</th>\n",
              "    </tr>\n",
              "  </thead>\n",
              "  <tbody>\n",
              "    <tr>\n",
              "      <th>1</th>\n",
              "      <td>RandomForestRegressor</td>\n",
              "      <td>0.998304</td>\n",
              "      <td>0.998476</td>\n",
              "      <td>0.99865</td>\n",
              "      <td>0.00013</td>\n",
              "      <td>poisson</td>\n",
              "      <td>1.0</td>\n",
              "      <td>400</td>\n",
              "    </tr>\n",
              "    <tr>\n",
              "      <th>2</th>\n",
              "      <td>RandomForestRegressor</td>\n",
              "      <td>0.998305</td>\n",
              "      <td>0.99842</td>\n",
              "      <td>0.998658</td>\n",
              "      <td>0.000128</td>\n",
              "      <td>poisson</td>\n",
              "      <td>1.0</td>\n",
              "      <td>800</td>\n",
              "    </tr>\n",
              "    <tr>\n",
              "      <th>0</th>\n",
              "      <td>RandomForestRegressor</td>\n",
              "      <td>0.998303</td>\n",
              "      <td>0.998412</td>\n",
              "      <td>0.998638</td>\n",
              "      <td>0.000122</td>\n",
              "      <td>poisson</td>\n",
              "      <td>1.0</td>\n",
              "      <td>100</td>\n",
              "    </tr>\n",
              "    <tr>\n",
              "      <th>6</th>\n",
              "      <td>RandomForestRegressor</td>\n",
              "      <td>0.998211</td>\n",
              "      <td>0.998278</td>\n",
              "      <td>0.998342</td>\n",
              "      <td>0.000054</td>\n",
              "      <td>poisson</td>\n",
              "      <td>log2</td>\n",
              "      <td>100</td>\n",
              "    </tr>\n",
              "    <tr>\n",
              "      <th>5</th>\n",
              "      <td>RandomForestRegressor</td>\n",
              "      <td>0.998015</td>\n",
              "      <td>0.998239</td>\n",
              "      <td>0.998359</td>\n",
              "      <td>0.000122</td>\n",
              "      <td>poisson</td>\n",
              "      <td>sqrt</td>\n",
              "      <td>800</td>\n",
              "    </tr>\n",
              "    <tr>\n",
              "      <th>8</th>\n",
              "      <td>RandomForestRegressor</td>\n",
              "      <td>0.998008</td>\n",
              "      <td>0.998235</td>\n",
              "      <td>0.99836</td>\n",
              "      <td>0.000124</td>\n",
              "      <td>poisson</td>\n",
              "      <td>log2</td>\n",
              "      <td>800</td>\n",
              "    </tr>\n",
              "    <tr>\n",
              "      <th>7</th>\n",
              "      <td>RandomForestRegressor</td>\n",
              "      <td>0.99799</td>\n",
              "      <td>0.998234</td>\n",
              "      <td>0.998364</td>\n",
              "      <td>0.000131</td>\n",
              "      <td>poisson</td>\n",
              "      <td>log2</td>\n",
              "      <td>400</td>\n",
              "    </tr>\n",
              "    <tr>\n",
              "      <th>4</th>\n",
              "      <td>RandomForestRegressor</td>\n",
              "      <td>0.997977</td>\n",
              "      <td>0.99823</td>\n",
              "      <td>0.998357</td>\n",
              "      <td>0.000136</td>\n",
              "      <td>poisson</td>\n",
              "      <td>sqrt</td>\n",
              "      <td>400</td>\n",
              "    </tr>\n",
              "    <tr>\n",
              "      <th>3</th>\n",
              "      <td>RandomForestRegressor</td>\n",
              "      <td>0.997902</td>\n",
              "      <td>0.998206</td>\n",
              "      <td>0.998343</td>\n",
              "      <td>0.000158</td>\n",
              "      <td>poisson</td>\n",
              "      <td>sqrt</td>\n",
              "      <td>100</td>\n",
              "    </tr>\n",
              "  </tbody>\n",
              "</table>\n",
              "</div>"
            ],
            "text/plain": [
              "               estimator min_score mean_score (R²) max_score std_score  \\\n",
              "1  RandomForestRegressor  0.998304        0.998476   0.99865   0.00013   \n",
              "2  RandomForestRegressor  0.998305         0.99842  0.998658  0.000128   \n",
              "0  RandomForestRegressor  0.998303        0.998412  0.998638  0.000122   \n",
              "6  RandomForestRegressor  0.998211        0.998278  0.998342  0.000054   \n",
              "5  RandomForestRegressor  0.998015        0.998239  0.998359  0.000122   \n",
              "8  RandomForestRegressor  0.998008        0.998235   0.99836  0.000124   \n",
              "7  RandomForestRegressor   0.99799        0.998234  0.998364  0.000131   \n",
              "4  RandomForestRegressor  0.997977         0.99823  0.998357  0.000136   \n",
              "3  RandomForestRegressor  0.997902        0.998206  0.998343  0.000158   \n",
              "\n",
              "  model__criterion model__max_features model__n_estimators  \n",
              "1          poisson                 1.0                 400  \n",
              "2          poisson                 1.0                 800  \n",
              "0          poisson                 1.0                 100  \n",
              "6          poisson                log2                 100  \n",
              "5          poisson                sqrt                 800  \n",
              "8          poisson                log2                 800  \n",
              "7          poisson                log2                 400  \n",
              "4          poisson                sqrt                 400  \n",
              "3          poisson                sqrt                 100  "
            ]
          },
          "execution_count": 22,
          "metadata": {},
          "output_type": "execute_result"
        }
      ],
      "source": [
        "grid_search_summary, grid_search_pipelines = search_rfr.score_summary(sort_by='mean_score (R²)')\n",
        "grid_search_summary"
      ]
    },
    {
      "attachments": {},
      "cell_type": "markdown",
      "metadata": {},
      "source": [
        "---"
      ]
    },
    {
      "attachments": {},
      "cell_type": "markdown",
      "metadata": {},
      "source": [
        "#### Extra Trees Regressor (48min)"
      ]
    },
    {
      "cell_type": "code",
      "execution_count": 23,
      "metadata": {},
      "outputs": [],
      "source": [
        "# documentation to help on hyperparameter list: \n",
        "# https://scikit-learn.org/stable/modules/generated/sklearn.ensemble.ExtraTreesRegressor.html\n",
        "\n",
        "models_search = {\n",
        "    'ExtraTreesRegressor': ExtraTreesRegressor(),\n",
        "}\n",
        "\n",
        "params_search = {\n",
        "    'ExtraTreesRegressor':{\n",
        "        'model__criterion': ['squared_error', 'absolute_error', 'friedman_mse', 'poisson'],\n",
        "        # # 'model__max_depth': [None],\n",
        "        # 'model__max_depth': [3,10,None],\n",
        "        # 'model__max_features': [1.0, 'sqrt', 'log2'],\n",
        "        # model__min_samples_split': [2,4,6],\n",
        "        # 'model__n_estimators': [100,200,300],\n",
        "        # 'model__n_jobs': [None, 1],\n",
        "    }\n",
        "}"
      ]
    },
    {
      "attachments": {},
      "cell_type": "markdown",
      "metadata": {},
      "source": [
        "Extensive GridSearch CV"
      ]
    },
    {
      "cell_type": "code",
      "execution_count": 24,
      "metadata": {},
      "outputs": [],
      "source": [
        "# search_et = HyperparameterOptimizationSearch(models=models_search, params=params_search)\n",
        "# search_et.fit(X_train, y_train, scoring='r2', n_jobs=-1, cv=2)"
      ]
    },
    {
      "attachments": {},
      "cell_type": "markdown",
      "metadata": {},
      "source": [
        "Check Results"
      ]
    },
    {
      "cell_type": "code",
      "execution_count": 25,
      "metadata": {},
      "outputs": [],
      "source": [
        "# grid_search_summary_ExtraTrees, grid_search_pipelines_ExtraTrees = search_et.score_summary(sort_by='mean_score (R²)')\n",
        "# grid_search_summary_ExtraTrees"
      ]
    },
    {
      "attachments": {},
      "cell_type": "markdown",
      "metadata": {},
      "source": [
        "Concatenation into a summary"
      ]
    },
    {
      "cell_type": "code",
      "execution_count": 26,
      "metadata": {},
      "outputs": [],
      "source": [
        "# grid_search_summary = pd.concat([grid_search_summary_RForest, grid_search_summary_ExtraTrees], ignore_index=True)\n",
        "# grid_search_pipelines = dict(grid_search_summary_RForest); grid_search_pipelines.update(grid_search_summary_ExtraTrees)"
      ]
    },
    {
      "attachments": {},
      "cell_type": "markdown",
      "metadata": {},
      "source": [
        "---"
      ]
    },
    {
      "attachments": {},
      "cell_type": "markdown",
      "metadata": {
        "id": "DWryh7BlA2df"
      },
      "source": [
        "#### Check the best model"
      ]
    },
    {
      "cell_type": "code",
      "execution_count": 27,
      "metadata": {
        "id": "QVWEmpSuA4C7"
      },
      "outputs": [
        {
          "data": {
            "text/plain": [
              "'RandomForestRegressor'"
            ]
          },
          "execution_count": 27,
          "metadata": {},
          "output_type": "execute_result"
        }
      ],
      "source": [
        "best_model = grid_search_summary.iloc[0, 0]\n",
        "best_model"
      ]
    },
    {
      "attachments": {},
      "cell_type": "markdown",
      "metadata": {
        "id": "7_jvnR4sZ8km"
      },
      "source": [
        "Hyperparameters for best model"
      ]
    },
    {
      "cell_type": "code",
      "execution_count": 28,
      "metadata": {
        "id": "2my-LZFzZ-YD"
      },
      "outputs": [
        {
          "data": {
            "text/plain": [
              "{'model__criterion': 'poisson',\n",
              " 'model__max_features': 1.0,\n",
              " 'model__n_estimators': 400}"
            ]
          },
          "execution_count": 28,
          "metadata": {},
          "output_type": "execute_result"
        }
      ],
      "source": [
        "best_parameters = grid_search_pipelines[best_model].best_params_\n",
        "best_parameters"
      ]
    },
    {
      "cell_type": "markdown",
      "metadata": {
        "id": "DgWXlprwaAW-"
      },
      "source": [
        "Define the best regressor, based on search"
      ]
    },
    {
      "cell_type": "code",
      "execution_count": 29,
      "metadata": {
        "id": "0OZ24jS0aAfP"
      },
      "outputs": [
        {
          "data": {
            "text/html": [
              "<style>#sk-container-id-1 {color: black;background-color: white;}#sk-container-id-1 pre{padding: 0;}#sk-container-id-1 div.sk-toggleable {background-color: white;}#sk-container-id-1 label.sk-toggleable__label {cursor: pointer;display: block;width: 100%;margin-bottom: 0;padding: 0.3em;box-sizing: border-box;text-align: center;}#sk-container-id-1 label.sk-toggleable__label-arrow:before {content: \"▸\";float: left;margin-right: 0.25em;color: #696969;}#sk-container-id-1 label.sk-toggleable__label-arrow:hover:before {color: black;}#sk-container-id-1 div.sk-estimator:hover label.sk-toggleable__label-arrow:before {color: black;}#sk-container-id-1 div.sk-toggleable__content {max-height: 0;max-width: 0;overflow: hidden;text-align: left;background-color: #f0f8ff;}#sk-container-id-1 div.sk-toggleable__content pre {margin: 0.2em;color: black;border-radius: 0.25em;background-color: #f0f8ff;}#sk-container-id-1 input.sk-toggleable__control:checked~div.sk-toggleable__content {max-height: 200px;max-width: 100%;overflow: auto;}#sk-container-id-1 input.sk-toggleable__control:checked~label.sk-toggleable__label-arrow:before {content: \"▾\";}#sk-container-id-1 div.sk-estimator input.sk-toggleable__control:checked~label.sk-toggleable__label {background-color: #d4ebff;}#sk-container-id-1 div.sk-label input.sk-toggleable__control:checked~label.sk-toggleable__label {background-color: #d4ebff;}#sk-container-id-1 input.sk-hidden--visually {border: 0;clip: rect(1px 1px 1px 1px);clip: rect(1px, 1px, 1px, 1px);height: 1px;margin: -1px;overflow: hidden;padding: 0;position: absolute;width: 1px;}#sk-container-id-1 div.sk-estimator {font-family: monospace;background-color: #f0f8ff;border: 1px dotted black;border-radius: 0.25em;box-sizing: border-box;margin-bottom: 0.5em;}#sk-container-id-1 div.sk-estimator:hover {background-color: #d4ebff;}#sk-container-id-1 div.sk-parallel-item::after {content: \"\";width: 100%;border-bottom: 1px solid gray;flex-grow: 1;}#sk-container-id-1 div.sk-label:hover label.sk-toggleable__label {background-color: #d4ebff;}#sk-container-id-1 div.sk-serial::before {content: \"\";position: absolute;border-left: 1px solid gray;box-sizing: border-box;top: 0;bottom: 0;left: 50%;z-index: 0;}#sk-container-id-1 div.sk-serial {display: flex;flex-direction: column;align-items: center;background-color: white;padding-right: 0.2em;padding-left: 0.2em;position: relative;}#sk-container-id-1 div.sk-item {position: relative;z-index: 1;}#sk-container-id-1 div.sk-parallel {display: flex;align-items: stretch;justify-content: center;background-color: white;position: relative;}#sk-container-id-1 div.sk-item::before, #sk-container-id-1 div.sk-parallel-item::before {content: \"\";position: absolute;border-left: 1px solid gray;box-sizing: border-box;top: 0;bottom: 0;left: 50%;z-index: -1;}#sk-container-id-1 div.sk-parallel-item {display: flex;flex-direction: column;z-index: 1;position: relative;background-color: white;}#sk-container-id-1 div.sk-parallel-item:first-child::after {align-self: flex-end;width: 50%;}#sk-container-id-1 div.sk-parallel-item:last-child::after {align-self: flex-start;width: 50%;}#sk-container-id-1 div.sk-parallel-item:only-child::after {width: 0;}#sk-container-id-1 div.sk-dashed-wrapped {border: 1px dashed gray;margin: 0 0.4em 0.5em 0.4em;box-sizing: border-box;padding-bottom: 0.4em;background-color: white;}#sk-container-id-1 div.sk-label label {font-family: monospace;font-weight: bold;display: inline-block;line-height: 1.2em;}#sk-container-id-1 div.sk-label-container {text-align: center;}#sk-container-id-1 div.sk-container {/* jupyter's `normalize.less` sets `[hidden] { display: none; }` but bootstrap.min.css set `[hidden] { display: none !important; }` so we also need the `!important` here to be able to override the default hidden behavior on the sphinx rendered scikit-learn.org. See: https://github.com/scikit-learn/scikit-learn/issues/21755 */display: inline-block !important;position: relative;}#sk-container-id-1 div.sk-text-repr-fallback {display: none;}</style><div id=\"sk-container-id-1\" class=\"sk-top-container\"><div class=\"sk-text-repr-fallback\"><pre>Pipeline(steps=[(&#x27;SmartCorrelatedSelection&#x27;,\n",
              "                 SmartCorrelatedSelection(method=&#x27;spearman&#x27;,\n",
              "                                          selection_method=&#x27;variance&#x27;,\n",
              "                                          threshold=0.6,\n",
              "                                          variables=[&#x27;Data_No&#x27;,\n",
              "                                                     &#x27;Differential_pressure&#x27;,\n",
              "                                                     &#x27;Flow_rate&#x27;, &#x27;Time&#x27;,\n",
              "                                                     &#x27;Dust_feed&#x27;, &#x27;Dust&#x27;])),\n",
              "                (&#x27;feat_scaling&#x27;, StandardScaler()),\n",
              "                (&#x27;feat_selection&#x27;,\n",
              "                 SelectFromModel(estimator=RandomForestRegressor())),\n",
              "                (&#x27;model&#x27;,\n",
              "                 RandomForestRegressor(criterion=&#x27;poisson&#x27;, n_estimators=400))])</pre><b>In a Jupyter environment, please rerun this cell to show the HTML representation or trust the notebook. <br />On GitHub, the HTML representation is unable to render, please try loading this page with nbviewer.org.</b></div><div class=\"sk-container\" hidden><div class=\"sk-item sk-dashed-wrapped\"><div class=\"sk-label-container\"><div class=\"sk-label sk-toggleable\"><input class=\"sk-toggleable__control sk-hidden--visually\" id=\"sk-estimator-id-1\" type=\"checkbox\" ><label for=\"sk-estimator-id-1\" class=\"sk-toggleable__label sk-toggleable__label-arrow\">Pipeline</label><div class=\"sk-toggleable__content\"><pre>Pipeline(steps=[(&#x27;SmartCorrelatedSelection&#x27;,\n",
              "                 SmartCorrelatedSelection(method=&#x27;spearman&#x27;,\n",
              "                                          selection_method=&#x27;variance&#x27;,\n",
              "                                          threshold=0.6,\n",
              "                                          variables=[&#x27;Data_No&#x27;,\n",
              "                                                     &#x27;Differential_pressure&#x27;,\n",
              "                                                     &#x27;Flow_rate&#x27;, &#x27;Time&#x27;,\n",
              "                                                     &#x27;Dust_feed&#x27;, &#x27;Dust&#x27;])),\n",
              "                (&#x27;feat_scaling&#x27;, StandardScaler()),\n",
              "                (&#x27;feat_selection&#x27;,\n",
              "                 SelectFromModel(estimator=RandomForestRegressor())),\n",
              "                (&#x27;model&#x27;,\n",
              "                 RandomForestRegressor(criterion=&#x27;poisson&#x27;, n_estimators=400))])</pre></div></div></div><div class=\"sk-serial\"><div class=\"sk-item\"><div class=\"sk-estimator sk-toggleable\"><input class=\"sk-toggleable__control sk-hidden--visually\" id=\"sk-estimator-id-2\" type=\"checkbox\" ><label for=\"sk-estimator-id-2\" class=\"sk-toggleable__label sk-toggleable__label-arrow\">SmartCorrelatedSelection</label><div class=\"sk-toggleable__content\"><pre>SmartCorrelatedSelection(method=&#x27;spearman&#x27;, selection_method=&#x27;variance&#x27;,\n",
              "                         threshold=0.6,\n",
              "                         variables=[&#x27;Data_No&#x27;, &#x27;Differential_pressure&#x27;,\n",
              "                                    &#x27;Flow_rate&#x27;, &#x27;Time&#x27;, &#x27;Dust_feed&#x27;, &#x27;Dust&#x27;])</pre></div></div></div><div class=\"sk-item\"><div class=\"sk-estimator sk-toggleable\"><input class=\"sk-toggleable__control sk-hidden--visually\" id=\"sk-estimator-id-3\" type=\"checkbox\" ><label for=\"sk-estimator-id-3\" class=\"sk-toggleable__label sk-toggleable__label-arrow\">StandardScaler</label><div class=\"sk-toggleable__content\"><pre>StandardScaler()</pre></div></div></div><div class=\"sk-item sk-dashed-wrapped\"><div class=\"sk-label-container\"><div class=\"sk-label sk-toggleable\"><input class=\"sk-toggleable__control sk-hidden--visually\" id=\"sk-estimator-id-4\" type=\"checkbox\" ><label for=\"sk-estimator-id-4\" class=\"sk-toggleable__label sk-toggleable__label-arrow\">feat_selection: SelectFromModel</label><div class=\"sk-toggleable__content\"><pre>SelectFromModel(estimator=RandomForestRegressor())</pre></div></div></div><div class=\"sk-parallel\"><div class=\"sk-parallel-item\"><div class=\"sk-item\"><div class=\"sk-label-container\"><div class=\"sk-label sk-toggleable\"><input class=\"sk-toggleable__control sk-hidden--visually\" id=\"sk-estimator-id-5\" type=\"checkbox\" ><label for=\"sk-estimator-id-5\" class=\"sk-toggleable__label sk-toggleable__label-arrow\">estimator: RandomForestRegressor</label><div class=\"sk-toggleable__content\"><pre>RandomForestRegressor()</pre></div></div></div><div class=\"sk-serial\"><div class=\"sk-item\"><div class=\"sk-estimator sk-toggleable\"><input class=\"sk-toggleable__control sk-hidden--visually\" id=\"sk-estimator-id-6\" type=\"checkbox\" ><label for=\"sk-estimator-id-6\" class=\"sk-toggleable__label sk-toggleable__label-arrow\">RandomForestRegressor</label><div class=\"sk-toggleable__content\"><pre>RandomForestRegressor()</pre></div></div></div></div></div></div></div></div><div class=\"sk-item\"><div class=\"sk-estimator sk-toggleable\"><input class=\"sk-toggleable__control sk-hidden--visually\" id=\"sk-estimator-id-7\" type=\"checkbox\" ><label for=\"sk-estimator-id-7\" class=\"sk-toggleable__label sk-toggleable__label-arrow\">RandomForestRegressor</label><div class=\"sk-toggleable__content\"><pre>RandomForestRegressor(criterion=&#x27;poisson&#x27;, n_estimators=400)</pre></div></div></div></div></div></div></div>"
            ],
            "text/plain": [
              "Pipeline(steps=[('SmartCorrelatedSelection',\n",
              "                 SmartCorrelatedSelection(method='spearman',\n",
              "                                          selection_method='variance',\n",
              "                                          threshold=0.6,\n",
              "                                          variables=['Data_No',\n",
              "                                                     'Differential_pressure',\n",
              "                                                     'Flow_rate', 'Time',\n",
              "                                                     'Dust_feed', 'Dust'])),\n",
              "                ('feat_scaling', StandardScaler()),\n",
              "                ('feat_selection',\n",
              "                 SelectFromModel(estimator=RandomForestRegressor())),\n",
              "                ('model',\n",
              "                 RandomForestRegressor(criterion='poisson', n_estimators=400))])"
            ]
          },
          "execution_count": 29,
          "metadata": {},
          "output_type": "execute_result"
        }
      ],
      "source": [
        "best_regressor_pipeline = grid_search_pipelines[best_model].best_estimator_\n",
        "best_regressor_pipeline"
      ]
    },
    {
      "cell_type": "code",
      "execution_count": 30,
      "metadata": {},
      "outputs": [
        {
          "data": {
            "text/plain": [
              "pandas.core.frame.DataFrame"
            ]
          },
          "execution_count": 30,
          "metadata": {},
          "output_type": "execute_result"
        }
      ],
      "source": [
        "type(X_train)"
      ]
    },
    {
      "cell_type": "markdown",
      "metadata": {
        "id": "I9uT2XmaKISR"
      },
      "source": [
        "## Assess feature importance"
      ]
    },
    {
      "attachments": {},
      "cell_type": "markdown",
      "metadata": {},
      "source": [
        "Recall best Parameters"
      ]
    },
    {
      "cell_type": "code",
      "execution_count": 31,
      "metadata": {},
      "outputs": [
        {
          "data": {
            "text/plain": [
              "{'model__criterion': 'poisson',\n",
              " 'model__max_features': 1.0,\n",
              " 'model__n_estimators': 400}"
            ]
          },
          "execution_count": 31,
          "metadata": {},
          "output_type": "execute_result"
        }
      ],
      "source": [
        "best_parameters"
      ]
    },
    {
      "attachments": {},
      "cell_type": "markdown",
      "metadata": {},
      "source": [
        "Manually define these into the best model"
      ]
    },
    {
      "cell_type": "code",
      "execution_count": 32,
      "metadata": {},
      "outputs": [
        {
          "data": {
            "text/html": [
              "<style>#sk-container-id-2 {color: black;background-color: white;}#sk-container-id-2 pre{padding: 0;}#sk-container-id-2 div.sk-toggleable {background-color: white;}#sk-container-id-2 label.sk-toggleable__label {cursor: pointer;display: block;width: 100%;margin-bottom: 0;padding: 0.3em;box-sizing: border-box;text-align: center;}#sk-container-id-2 label.sk-toggleable__label-arrow:before {content: \"▸\";float: left;margin-right: 0.25em;color: #696969;}#sk-container-id-2 label.sk-toggleable__label-arrow:hover:before {color: black;}#sk-container-id-2 div.sk-estimator:hover label.sk-toggleable__label-arrow:before {color: black;}#sk-container-id-2 div.sk-toggleable__content {max-height: 0;max-width: 0;overflow: hidden;text-align: left;background-color: #f0f8ff;}#sk-container-id-2 div.sk-toggleable__content pre {margin: 0.2em;color: black;border-radius: 0.25em;background-color: #f0f8ff;}#sk-container-id-2 input.sk-toggleable__control:checked~div.sk-toggleable__content {max-height: 200px;max-width: 100%;overflow: auto;}#sk-container-id-2 input.sk-toggleable__control:checked~label.sk-toggleable__label-arrow:before {content: \"▾\";}#sk-container-id-2 div.sk-estimator input.sk-toggleable__control:checked~label.sk-toggleable__label {background-color: #d4ebff;}#sk-container-id-2 div.sk-label input.sk-toggleable__control:checked~label.sk-toggleable__label {background-color: #d4ebff;}#sk-container-id-2 input.sk-hidden--visually {border: 0;clip: rect(1px 1px 1px 1px);clip: rect(1px, 1px, 1px, 1px);height: 1px;margin: -1px;overflow: hidden;padding: 0;position: absolute;width: 1px;}#sk-container-id-2 div.sk-estimator {font-family: monospace;background-color: #f0f8ff;border: 1px dotted black;border-radius: 0.25em;box-sizing: border-box;margin-bottom: 0.5em;}#sk-container-id-2 div.sk-estimator:hover {background-color: #d4ebff;}#sk-container-id-2 div.sk-parallel-item::after {content: \"\";width: 100%;border-bottom: 1px solid gray;flex-grow: 1;}#sk-container-id-2 div.sk-label:hover label.sk-toggleable__label {background-color: #d4ebff;}#sk-container-id-2 div.sk-serial::before {content: \"\";position: absolute;border-left: 1px solid gray;box-sizing: border-box;top: 0;bottom: 0;left: 50%;z-index: 0;}#sk-container-id-2 div.sk-serial {display: flex;flex-direction: column;align-items: center;background-color: white;padding-right: 0.2em;padding-left: 0.2em;position: relative;}#sk-container-id-2 div.sk-item {position: relative;z-index: 1;}#sk-container-id-2 div.sk-parallel {display: flex;align-items: stretch;justify-content: center;background-color: white;position: relative;}#sk-container-id-2 div.sk-item::before, #sk-container-id-2 div.sk-parallel-item::before {content: \"\";position: absolute;border-left: 1px solid gray;box-sizing: border-box;top: 0;bottom: 0;left: 50%;z-index: -1;}#sk-container-id-2 div.sk-parallel-item {display: flex;flex-direction: column;z-index: 1;position: relative;background-color: white;}#sk-container-id-2 div.sk-parallel-item:first-child::after {align-self: flex-end;width: 50%;}#sk-container-id-2 div.sk-parallel-item:last-child::after {align-self: flex-start;width: 50%;}#sk-container-id-2 div.sk-parallel-item:only-child::after {width: 0;}#sk-container-id-2 div.sk-dashed-wrapped {border: 1px dashed gray;margin: 0 0.4em 0.5em 0.4em;box-sizing: border-box;padding-bottom: 0.4em;background-color: white;}#sk-container-id-2 div.sk-label label {font-family: monospace;font-weight: bold;display: inline-block;line-height: 1.2em;}#sk-container-id-2 div.sk-label-container {text-align: center;}#sk-container-id-2 div.sk-container {/* jupyter's `normalize.less` sets `[hidden] { display: none; }` but bootstrap.min.css set `[hidden] { display: none !important; }` so we also need the `!important` here to be able to override the default hidden behavior on the sphinx rendered scikit-learn.org. See: https://github.com/scikit-learn/scikit-learn/issues/21755 */display: inline-block !important;position: relative;}#sk-container-id-2 div.sk-text-repr-fallback {display: none;}</style><div id=\"sk-container-id-2\" class=\"sk-top-container\"><div class=\"sk-text-repr-fallback\"><pre>RandomForestRegressor(criterion=&#x27;poisson&#x27;, max_features=&#x27;log2&#x27;,\n",
              "                      n_estimators=800)</pre><b>In a Jupyter environment, please rerun this cell to show the HTML representation or trust the notebook. <br />On GitHub, the HTML representation is unable to render, please try loading this page with nbviewer.org.</b></div><div class=\"sk-container\" hidden><div class=\"sk-item\"><div class=\"sk-estimator sk-toggleable\"><input class=\"sk-toggleable__control sk-hidden--visually\" id=\"sk-estimator-id-8\" type=\"checkbox\" checked><label for=\"sk-estimator-id-8\" class=\"sk-toggleable__label sk-toggleable__label-arrow\">RandomForestRegressor</label><div class=\"sk-toggleable__content\"><pre>RandomForestRegressor(criterion=&#x27;poisson&#x27;, max_features=&#x27;log2&#x27;,\n",
              "                      n_estimators=800)</pre></div></div></div></div></div>"
            ],
            "text/plain": [
              "RandomForestRegressor(criterion='poisson', max_features='log2',\n",
              "                      n_estimators=800)"
            ]
          },
          "execution_count": 32,
          "metadata": {},
          "output_type": "execute_result"
        }
      ],
      "source": [
        "rfr_model = RandomForestRegressor(\n",
        "    criterion='poisson',\n",
        "    max_features='log2',\n",
        "    n_estimators=800,\n",
        "    )\n",
        "rfr_model.fit(X_train, y_train)"
      ]
    },
    {
      "attachments": {},
      "cell_type": "markdown",
      "metadata": {},
      "source": [
        "Visualize results"
      ]
    },
    {
      "cell_type": "code",
      "execution_count": 33,
      "metadata": {},
      "outputs": [
        {
          "data": {
            "image/png": "[encoded data removed]",
            "text/plain": [
              "<Figure size 640x480 with 1 Axes>"
            ]
          },
          "metadata": {},
          "output_type": "display_data"
        }
      ],
      "source": [
        "feat_importances = (pd.Series(rfr_model.feature_importances_, index=X_train.columns)\n",
        "                    .nlargest(6)\n",
        "                    .plot(kind='bar'))\n",
        "plt.xticks(fontsize=8)\n",
        "plt.title(\"Measure of the model's accuracy on the dataset\\n\")\n",
        "plt.ylabel(\"F-Score\\n\")\n",
        "plt.xlabel('\\nFeature')\n",
        "plt.show()"
      ]
    },
    {
      "attachments": {},
      "cell_type": "markdown",
      "metadata": {},
      "source": [
        "#### Observations\n",
        "dasfds..."
      ]
    },
    {
      "attachments": {},
      "cell_type": "markdown",
      "metadata": {},
      "source": [
        "---"
      ]
    },
    {
      "attachments": {},
      "cell_type": "markdown",
      "metadata": {
        "id": "QzNyQirSKJj6"
      },
      "source": [
        "## Evaluate Regressor Performance on Train and Test Sets\n",
        "\n",
        "Compute a performance metric on the data held out for testing, **df_test**\n",
        "* [R² score](https://scikit-learn.org/stable/modules/generated/sklearn.metrics.r2_score.html) (also called Coefficient of Determination)\n",
        "* [Mean Absolute Error](https://scikit-learn.org/stable/modules/generated/sklearn.metrics.mean_absolute_error.html) (MAE)\n",
        "* [Median Absolute Error](https://scikit-learn.org/stable/modules/generated/sklearn.metrics.median_absolute_error.html) (MdAE)\n",
        "* [Mean Squared Error](https://scikit-learn.org/stable/modules/generated/sklearn.metrics.mean_squared_error.html) (MSE)\n",
        "* Root Mean Squared Error (RMSE).\n",
        "\n",
        "We could also consider:\n",
        "* Almost Correct Predictions Error Rate (ACPER)\n",
        "* Mean Absolute Percentage Error (MAPE) and \n",
        "* Adjusted R² Score \n",
        "    * _((1 - R²) * (sample_size - 1)) * -1 / (sample_size - no_independent_features - 1))_"
      ]
    },
    {
      "attachments": {},
      "cell_type": "markdown",
      "metadata": {},
      "source": [
        "Define Evaluation Functions"
      ]
    },
    {
      "cell_type": "code",
      "execution_count": 34,
      "metadata": {
        "id": "5pBm_vx8BO9s"
      },
      "outputs": [],
      "source": [
        "# from sklearn.metrics import (\n",
        "#     r2_score, mean_squared_error, mean_absolute_error,\n",
        "#     median_absolute_error\n",
        "#     )\n",
        "# import numpy as np\n",
        "# import seaborn as sns\n",
        "\n",
        "def regression_performance(X_train, y_train, X_test, y_test, pipeline):\n",
        "    print(\"Model Evaluation \\n\")\n",
        "    print(\"* Train Set\")\n",
        "    regression_evaluation(X_train, y_train, pipeline)\n",
        "    print(\"* Test Set\")\n",
        "    regression_evaluation(X_test, y_test, pipeline)\n",
        "\n",
        "\n",
        "def regression_evaluation(X, y, pipeline):\n",
        "    prediction = pipeline.predict(X)\n",
        "    print('R2 Score:', r2_score(y, prediction).round(3))\n",
        "    print('Mean Absolute Error:', mean_absolute_error(y, prediction).round(3))\n",
        "    print('Median Absolute Error:', median_absolute_error(y, prediction).round(3))\n",
        "    print('Mean Squared Error:', mean_squared_error(y, prediction).round(3))\n",
        "    print('Root Mean Squared Error:', np.sqrt(\n",
        "        mean_squared_error(y, prediction)).round(3))\n",
        "    print(\"\\n\")\n",
        "\n",
        "\n",
        "def regression_evaluation_plots(X_train, y_train, X_test, y_test, pipeline, alpha_scatter=0.5):\n",
        "    pred_train = pipeline.predict(X_train)\n",
        "    pred_test = pipeline.predict(X_test)\n",
        "\n",
        "    fig, axes = plt.subplots(nrows=1, ncols=2, figsize=(12, 6))\n",
        "    sns.scatterplot(x=y_train, y=pred_train, alpha=alpha_scatter, ax=axes[0])\n",
        "    sns.lineplot(x=y_train, y=y_train, color='red', ax=axes[0])\n",
        "    axes[0].set_xlabel(\"Actual\")\n",
        "    axes[0].set_ylabel(\"Predictions\")\n",
        "    axes[0].set_title(\"Train Set\")\n",
        "\n",
        "    sns.scatterplot(x=y_test, y=pred_test, alpha=alpha_scatter, ax=axes[1])\n",
        "    sns.lineplot(x=y_test, y=y_test, color='red', ax=axes[1])\n",
        "    axes[1].set_xlabel(\"Actual\")\n",
        "    axes[1].set_ylabel(\"Predictions\")\n",
        "    axes[1].set_title(\"Test Set\")\n",
        "\n",
        "    plt.show()\n"
      ]
    },
    {
      "attachments": {},
      "cell_type": "markdown",
      "metadata": {
        "id": "tV-W5nYyBPdk"
      },
      "source": [
        "Run Performance Evaluation"
      ]
    },
    {
      "cell_type": "code",
      "execution_count": 37,
      "metadata": {
        "id": "EgBgrKJ5KFcX"
      },
      "outputs": [
        {
          "name": "stdout",
          "output_type": "stream",
          "text": [
            "Model Evaluation \n",
            "\n",
            "* Train Set\n",
            "R2 Score: 0.999\n",
            "Mean Absolute Error: 1.136\n",
            "Median Absolute Error: 0.504\n",
            "Mean Squared Error: 4.475\n",
            "Root Mean Squared Error: 2.115\n",
            "\n",
            "\n",
            "* Test Set\n",
            "R2 Score: 0.998\n",
            "Mean Absolute Error: 1.628\n",
            "Median Absolute Error: 0.881\n",
            "Mean Squared Error: 7.737\n",
            "Root Mean Squared Error: 2.782\n",
            "\n",
            "\n"
          ]
        },
        {
          "data": {
            "image/png": "[encoded data removed]",
            "text/plain": [
              "<Figure size 1200x600 with 2 Axes>"
            ]
          },
          "metadata": {},
          "output_type": "display_data"
        }
      ],
      "source": [
        "regression_performance(X_train, y_train, X_test, y_test, best_regressor_pipeline)\n",
        "regression_evaluation_plots(X_train, y_train, X_test, y_test, best_regressor_pipeline)"
      ]
    },
    {
      "attachments": {},
      "cell_type": "markdown",
      "metadata": {},
      "source": [
        "#### Observations\n",
        "dasfds...\n"
      ]
    },
    {
      "cell_type": "code",
      "execution_count": null,
      "metadata": {},
      "outputs": [],
      "source": [
        "stop"
      ]
    },
    {
      "attachments": {},
      "cell_type": "markdown",
      "metadata": {},
      "source": [
        "---"
      ]
    },
    {
      "cell_type": "markdown",
      "metadata": {
        "id": "HZ9tjLxEIn3h"
      },
      "source": [
        "# Regressor with PCA"
      ]
    },
    {
      "cell_type": "markdown",
      "metadata": {},
      "source": [
        "Let's explore potential values for PCA n_components."
      ]
    },
    {
      "cell_type": "code",
      "execution_count": 39,
      "metadata": {},
      "outputs": [
        {
          "name": "stdout",
          "output_type": "stream",
          "text": [
            "RFR: 0.9998971254163361\n"
          ]
        }
      ],
      "source": [
        "from sklearn.preprocessing import MinMaxScaler\n",
        "\n",
        "pipeline = Pipeline([('scaler', MinMaxScaler()), ('regressor', RandomForestRegressor())])\n",
        "pipeline.fit(X_train, y_train)\n",
        "\n",
        "r2 = pipeline.score(X_test, y_test)\n",
        "print(f\"RFR: {r2}\") # RFR: 0.9998971254163361"
      ]
    },
    {
      "cell_type": "code",
      "execution_count": null,
      "metadata": {},
      "outputs": [],
      "source": [
        "pipeline = PipelineOptimization(model=RandomForestRegressor(random_state=0))\n",
        "pipeline_pca = Pipeline(pipeline.steps[:4])\n",
        "# df_pca = pipeline_pca.fit_transform(df.drop(['Data_No'], axis=1))\n",
        "df_pca = pipeline_pca.fit_transform(df))"
      ]
    },
    {
      "cell_type": "code",
      "execution_count": 40,
      "metadata": {},
      "outputs": [
        {
          "name": "stdout",
          "output_type": "stream",
          "text": [
            "RFR: 0.7289386100972868\n"
          ]
        }
      ],
      "source": [
        "# pipeline = Pipeline([('scaler', MinMaxScaler()), ('regressor', RandomForestRegressor(\n",
        "#     criterion='poisson',\n",
        "#     max_features='log2',\n",
        "#     n_estimators=800,\n",
        "#     max_depth=2,\n",
        "#     random_state=0,\n",
        "# ))])\n",
        "# pipeline.fit(X_train, y_train)\n",
        "\n",
        "# r2 = pipeline.score(X_test, y_test)\n",
        "# print(f\"RFR: {r2}\") # 0.7289386100972868"
      ]
    },
    {
      "cell_type": "markdown",
      "metadata": {},
      "source": [
        "Apply PCA separately to the scaled data"
      ]
    },
    {
      "cell_type": "code",
      "execution_count": 41,
      "metadata": {},
      "outputs": [
        {
          "ename": "NameError",
          "evalue": "name 'df_pca' is not defined",
          "output_type": "error",
          "traceback": [
            "\u001b[0;31m---------------------------------------------------------------------------\u001b[0m",
            "\u001b[0;31mNameError\u001b[0m                                 Traceback (most recent call last)",
            "Cell \u001b[0;32mIn[41], line 33\u001b[0m\n\u001b[1;32m     29\u001b[0m     plt\u001b[39m.\u001b[39myticks(np\u001b[39m.\u001b[39marange(\u001b[39m0\u001b[39m, \u001b[39m110\u001b[39m, \u001b[39m10\u001b[39m))\n\u001b[1;32m     30\u001b[0m     plt\u001b[39m.\u001b[39mshow()\n\u001b[0;32m---> 33\u001b[0m pca_components_analysis(df_pca\u001b[39m=\u001b[39mdf_pca, n_components\u001b[39m=\u001b[39mn_components)\n",
            "\u001b[0;31mNameError\u001b[0m: name 'df_pca' is not defined"
          ]
        }
      ],
      "source": [
        "# import numpy as np\n",
        "# import seaborn as sns\n",
        "# from sklearn.decomposition import PCA\n",
        "\n",
        "n_components = 17\n",
        "\n",
        "def pca_components_analysis(df_pca, n_components):\n",
        "    pca = PCA(n_components=n_components).fit(df_pca)\n",
        "    x_PCA = pca.transform(df_pca)  # array with transformed PCA\n",
        "\n",
        "    ComponentsList = [\"Component \" + str(number)\n",
        "                      for number in range(n_components)]\n",
        "    dfExplVarRatio = pd.DataFrame(\n",
        "        data=np.round(100 * pca.explained_variance_ratio_, 3),\n",
        "        index=ComponentsList,\n",
        "        columns=['Explained Variance Ratio (%)'])\n",
        "\n",
        "    dfExplVarRatio['Accumulated Variance'] = dfExplVarRatio['Explained Variance Ratio (%)'].cumsum(\n",
        "    )\n",
        "\n",
        "    PercentageOfDataExplained = dfExplVarRatio['Explained Variance Ratio (%)'].sum(\n",
        "    )\n",
        "\n",
        "    print(\n",
        "        f\"* The {n_components} components explain {round(PercentageOfDataExplained,2)}% of the data \\n\")\n",
        "    plt.figure(figsize=(12, 5))\n",
        "    sns.lineplot(data=dfExplVarRatio,  marker=\"o\")\n",
        "    plt.xticks(rotation=90)\n",
        "    plt.yticks(np.arange(0, 110, 10))\n",
        "    plt.show()\n",
        "\n",
        "\n",
        "pca_components_analysis(df_pca=df_pca, n_components=n_components)\n"
      ]
    },
    {
      "cell_type": "code",
      "execution_count": null,
      "metadata": {},
      "outputs": [],
      "source": [
        "n_components = 5\n",
        "pca_components_analysis(df_pca=df_pca, n_components=n_components)"
      ]
    },
    {
      "cell_type": "markdown",
      "metadata": {
        "id": "5eaMf41ZBhBk"
      },
      "source": [
        "## Rewrite ML Pipeline for Modelling"
      ]
    },
    {
      "cell_type": "code",
      "execution_count": null,
      "metadata": {
        "id": "XfU562GBIsB1"
      },
      "outputs": [],
      "source": [
        "# PCA\n",
        "from sklearn.decomposition import PCA\n",
        "\n",
        "\n",
        "def PipelineOptimization(model):\n",
        "    pipeline_base = Pipeline([\n",
        "\n",
        "        (\"OrdinalCategoricalEncoder\", OrdinalEncoder(encoding_method='arbitrary',\n",
        "                                                     variables=['gender', 'Partner', 'Dependents', 'PhoneService',\n",
        "                                                                'MultipleLines', 'InternetService', 'OnlineSecurity',\n",
        "                                                                'OnlineBackup', 'DeviceProtection', 'TechSupport',\n",
        "                                                                'StreamingTV', 'StreamingMovies', 'Contract',\n",
        "                                                                'PaperlessBilling', 'PaymentMethod'])),\n",
        "\n",
        "\n",
        "        (\"SmartCorrelatedSelection\", SmartCorrelatedSelection(variables=None,\n",
        "         method=\"spearman\", threshold=0.6, selection_method=\"variance\")),\n",
        "\n",
        "\n",
        "        (\"feat_scaling\", StandardScaler()),\n",
        "\n",
        "        # PCA replace Feature Selection\n",
        "        (\"PCA\", PCA(n_components=7, random_state=0)),\n",
        "\n",
        "        (\"model\", model),\n",
        "\n",
        "    ])\n",
        "\n",
        "    return pipeline_base\n"
      ]
    },
    {
      "cell_type": "markdown",
      "metadata": {
        "id": "irUsq475Bn7N"
      },
      "source": [
        "## Grid Search CV – Sklearn"
      ]
    },
    {
      "cell_type": "code",
      "execution_count": null,
      "metadata": {},
      "outputs": [],
      "source": [
        "print(\"* Train set:\", X_train.shape, y_train.shape, \"\\n* Test set:\",  X_test.shape, y_test.shape)"
      ]
    },
    {
      "cell_type": "markdown",
      "metadata": {
        "id": "2LVF-KR_Bqum"
      },
      "source": [
        "### Use standard hyperparameters to find the most suitable model."
      ]
    },
    {
      "cell_type": "code",
      "execution_count": null,
      "metadata": {
        "id": "2XmJNoUcJkKX"
      },
      "outputs": [],
      "source": [
        "models_quick_search = {\n",
        "    'LinearRegression': LinearRegression(),\n",
        "    \"DecisionTreeRegressor\": DecisionTreeRegressor(random_state=0),\n",
        "    \"RandomForestRegressor\": RandomForestRegressor(random_state=0),\n",
        "    \"ExtraTreesRegressor\": ExtraTreesRegressor(random_state=0),\n",
        "    \"AdaBoostRegressor\": AdaBoostRegressor(random_state=0),\n",
        "    \"GradientBoostingRegressor\": GradientBoostingRegressor(random_state=0),\n",
        "    \"XGBRegressor\": XGBRegressor(random_state=0),\n",
        "}\n",
        "\n",
        "params_quick_search = {\n",
        "    'LinearRegression': {},\n",
        "    \"DecisionTreeRegressor\": {},\n",
        "    \"RandomForestRegressor\": {},\n",
        "    \"ExtraTreesRegressor\": {},\n",
        "    \"AdaBoostRegressor\": {},\n",
        "    \"GradientBoostingRegressor\": {},\n",
        "    \"XGBRegressor\": {},\n",
        "}\n"
      ]
    },
    {
      "cell_type": "markdown",
      "metadata": {
        "id": "Jq8td65fJkKY"
      },
      "source": [
        "Do a quick optimisation search "
      ]
    },
    {
      "cell_type": "code",
      "execution_count": null,
      "metadata": {
        "id": "s1BdqEB6JkKZ"
      },
      "outputs": [],
      "source": [
        "quick_search = HyperparameterOptimizationSearch(models=models_quick_search, params=params_quick_search)\n",
        "quick_search.fit(X_train, y_train, scoring='r2', n_jobs=-1, cv=5)"
      ]
    },
    {
      "cell_type": "markdown",
      "metadata": {
        "id": "zQ_Xj5oGJkKZ"
      },
      "source": [
        "Check results"
      ]
    },
    {
      "cell_type": "code",
      "execution_count": null,
      "metadata": {
        "id": "vIC2csxKJkKZ"
      },
      "outputs": [],
      "source": [
        "grid_search_summary, grid_search_pipelines = quick_search.score_summary(sort_by='mean_score')\n",
        "grid_search_summary"
      ]
    },
    {
      "cell_type": "markdown",
      "metadata": {
        "id": "383vOhJZBwza"
      },
      "source": [
        "### Do an extensive search on the most suitable model to find the best hyperparameter configuration."
      ]
    },
    {
      "cell_type": "markdown",
      "metadata": {
        "id": "PrcbiQHlB9QT"
      },
      "source": [
        "Define model and parameters for extensive search"
      ]
    },
    {
      "cell_type": "code",
      "execution_count": null,
      "metadata": {
        "id": "S7t-fum6B9QU"
      },
      "outputs": [],
      "source": [
        "models_search = {\n",
        "    \"GradientBoostingRegressor\":GradientBoostingRegressor(random_state=0),\n",
        "}\n",
        "\n",
        "# documentation to help on hyperparameter list: \n",
        "# https://scikit-learn.org/stable/modules/generated/sklearn.ensemble.GradientBoostingRegressor.html\n",
        "\n",
        "# We will not conduct an extensive search, since the focus\n",
        "# is on how to combine all knowledge in an applied project.\n",
        "# In a workplace project, you may spend more time in this step\n",
        "params_search = {\n",
        "    \"GradientBoostingRegressor\":{\n",
        "        'model__n_estimators': [100,300],\n",
        "        'model__learning_rate': [1e-1,1e-2,1e-3], \n",
        "        'model__max_depth': [3,10, None],\n",
        "    }\n",
        "}"
      ]
    },
    {
      "cell_type": "markdown",
      "metadata": {
        "id": "Jvt-IOmHB9QU"
      },
      "source": [
        "Extensive GridSearch CV"
      ]
    },
    {
      "cell_type": "code",
      "execution_count": null,
      "metadata": {
        "id": "eXbTwW1UB9QV"
      },
      "outputs": [],
      "source": [
        "search = HyperparameterOptimizationSearch(models=models_search, params=params_search)\n",
        "search.fit(X_train, y_train, scoring = 'r2', n_jobs=-1, cv=5)"
      ]
    },
    {
      "cell_type": "markdown",
      "metadata": {
        "id": "TVUDzRSGB9QV"
      },
      "source": [
        "Check results"
      ]
    },
    {
      "cell_type": "code",
      "execution_count": null,
      "metadata": {
        "id": "5ZfOdh5kB9QW"
      },
      "outputs": [],
      "source": [
        "grid_search_summary, grid_search_pipelines = search.score_summary(sort_by='mean_score')\n",
        "grid_search_summary"
      ]
    },
    {
      "cell_type": "markdown",
      "metadata": {
        "id": "CgoLo5C8B9QW"
      },
      "source": [
        "Check the best model"
      ]
    },
    {
      "cell_type": "code",
      "execution_count": null,
      "metadata": {
        "id": "C3UGYjpcB9QW"
      },
      "outputs": [],
      "source": [
        "best_model = grid_search_summary.iloc[0,0]\n",
        "best_model"
      ]
    },
    {
      "cell_type": "markdown",
      "metadata": {
        "id": "bjY2MdBNB9QX"
      },
      "source": [
        "Parameters for best model"
      ]
    },
    {
      "cell_type": "code",
      "execution_count": null,
      "metadata": {
        "id": "Uspihv71B9QX"
      },
      "outputs": [],
      "source": [
        "grid_search_pipelines[best_model].best_params_"
      ]
    },
    {
      "cell_type": "markdown",
      "metadata": {
        "id": "-8HonhniB9QX"
      },
      "source": [
        "Define the best regressor"
      ]
    },
    {
      "cell_type": "code",
      "execution_count": null,
      "metadata": {
        "id": "DC8U4skKB9QY"
      },
      "outputs": [],
      "source": [
        "best_regressor_pipeline = grid_search_pipelines[best_model].best_estimator_\n",
        "best_regressor_pipeline"
      ]
    },
    {
      "cell_type": "markdown",
      "metadata": {
        "id": "rKGmSgINCQwj"
      },
      "source": [
        "## Evaluate Regressor on Train and Tests Sets"
      ]
    },
    {
      "cell_type": "code",
      "execution_count": null,
      "metadata": {
        "id": "78tt_ZkiJRdE"
      },
      "outputs": [],
      "source": [
        "regression_performance(X_train, y_train, X_test, y_test,best_regressor_pipeline)\n",
        "regression_evaluation_plots(X_train, y_train, X_test, y_test,\n",
        "                            best_regressor_pipeline)"
      ]
    },
    {
      "cell_type": "markdown",
      "metadata": {
        "id": "qpKz9qjRUOR0"
      },
      "source": [
        "# Convert Regression to Classification"
      ]
    },
    {
      "cell_type": "markdown",
      "metadata": {
        "id": "g0yf7s9LVZFH"
      },
      "source": [
        "### Convert numerical target to bins, and check if it is balanced"
      ]
    },
    {
      "cell_type": "code",
      "execution_count": null,
      "metadata": {
        "id": "dzXQjVf-Uoay"
      },
      "outputs": [],
      "source": [
        "from feature_engine.discretisation import EqualFrequencyDiscretiser\n",
        "disc = EqualFrequencyDiscretiser(q=3, variables=['tenure'])  # we will try q as 2, and 3\n",
        "df_clf = disc.fit_transform(df)\n",
        "\n",
        "print(f\"* The classes represent the following ranges: \\n{disc.binner_dict_} \\n\")\n",
        "sns.countplot(data=df_clf, x='tenure')\n",
        "plt.show()"
      ]
    },
    {
      "cell_type": "code",
      "execution_count": null,
      "metadata": {},
      "outputs": [],
      "source": [
        "df_clf.head(3)"
      ]
    },
    {
      "cell_type": "markdown",
      "metadata": {
        "id": "lkPaGZfiXexn"
      },
      "source": [
        "## Rewrite ML Pipeline for Modelling"
      ]
    },
    {
      "cell_type": "code",
      "execution_count": null,
      "metadata": {
        "id": "I53mlfqRUSzn"
      },
      "outputs": [],
      "source": [
        "def PipelineOptimization(model):\n",
        "    pipeline_base = Pipeline([\n",
        "\n",
        "        (\"OrdinalCategoricalEncoder\", OrdinalEncoder(encoding_method='arbitrary',\n",
        "                                                     variables=['gender', 'Partner', 'Dependents', 'PhoneService',\n",
        "                                                                'MultipleLines', 'InternetService', 'OnlineSecurity',\n",
        "                                                                'OnlineBackup', 'DeviceProtection', 'TechSupport',\n",
        "                                                                'StreamingTV', 'StreamingMovies', 'Contract',\n",
        "                                                                'PaperlessBilling', 'PaymentMethod'])),\n",
        "\n",
        "\n",
        "        (\"SmartCorrelatedSelection\", SmartCorrelatedSelection(variables=None,\n",
        "         method=\"spearman\", threshold=0.6, selection_method=\"variance\")),\n",
        "\n",
        "        (\"feat_scaling\", StandardScaler()),\n",
        "\n",
        "        (\"feat_selection\",  SelectFromModel(model)),\n",
        "\n",
        "        (\"model\", model),\n",
        "\n",
        "    ])\n",
        "\n",
        "    return pipeline_base\n"
      ]
    },
    {
      "cell_type": "markdown",
      "metadata": {
        "id": "fW2lu54NCgOC"
      },
      "source": [
        "## Load algorithms for classification"
      ]
    },
    {
      "cell_type": "code",
      "execution_count": null,
      "metadata": {
        "id": "MvkMORvOft14"
      },
      "outputs": [],
      "source": [
        "from sklearn.tree import DecisionTreeClassifier \n",
        "from sklearn.ensemble import RandomForestClassifier\n",
        "from sklearn.ensemble import GradientBoostingClassifier \n",
        "from sklearn.ensemble import ExtraTreesClassifier\n",
        "from sklearn.ensemble import AdaBoostClassifier\n",
        "from xgboost import XGBClassifier"
      ]
    },
    {
      "cell_type": "markdown",
      "metadata": {
        "id": "mVnTzZZBC73_"
      },
      "source": [
        "## Split Train Test Sets"
      ]
    },
    {
      "cell_type": "code",
      "execution_count": null,
      "metadata": {
        "id": "ev5Rb80fC-dP"
      },
      "outputs": [],
      "source": [
        "X_train, X_test, y_train, y_test = train_test_split(\n",
        "    df_clf.drop(['tenure'], axis=1),\n",
        "    df_clf['tenure'],\n",
        "    test_size=0.2,\n",
        "    random_state=0\n",
        ")\n",
        "\n",
        "print(\"* Train set:\", X_train.shape, y_train.shape,\n",
        "      \"\\n* Test set:\",  X_test.shape, y_test.shape)\n"
      ]
    },
    {
      "cell_type": "markdown",
      "metadata": {
        "id": "aTEEhpvRDF0a"
      },
      "source": [
        "## Grid Seach CV – Sklearn"
      ]
    },
    {
      "cell_type": "markdown",
      "metadata": {
        "id": "PPNNBP-QDIkv"
      },
      "source": [
        "### Use standard hyper parameters to find most suitable model"
      ]
    },
    {
      "cell_type": "code",
      "execution_count": null,
      "metadata": {
        "id": "IfW5jSmSe7Gl"
      },
      "outputs": [],
      "source": [
        "models_quick_search = {\n",
        "    \"XGBClassifier\": XGBClassifier(random_state=0),\n",
        "    \"DecisionTreeClassifier\": DecisionTreeClassifier(random_state=0),\n",
        "    \"RandomForestClassifier\": RandomForestClassifier(random_state=0),\n",
        "    \"GradientBoostingClassifier\": GradientBoostingClassifier(random_state=0),\n",
        "    \"ExtraTreesClassifier\": ExtraTreesClassifier(random_state=0),\n",
        "    \"AdaBoostClassifier\": AdaBoostClassifier(random_state=0),\n",
        "}\n",
        "\n",
        "params_quick_search = {\n",
        "    \"XGBClassifier\":{},\n",
        "    \"DecisionTreeClassifier\":{},\n",
        "    \"RandomForestClassifier\":{},\n",
        "    \"GradientBoostingClassifier\":{},\n",
        "    \"ExtraTreesClassifier\":{},\n",
        "    \"AdaBoostClassifier\":{},\n",
        "}"
      ]
    },
    {
      "cell_type": "markdown",
      "metadata": {
        "id": "YDYHs3I1D89F"
      },
      "source": [
        "GridSearch CV"
      ]
    },
    {
      "cell_type": "code",
      "execution_count": null,
      "metadata": {
        "id": "dh-nd-JCfX7M"
      },
      "outputs": [],
      "source": [
        "from sklearn.metrics import make_scorer, recall_score\n",
        "quick_search = HyperparameterOptimizationSearch(models=models_quick_search, params=params_quick_search)\n",
        "quick_search.fit(X_train, y_train,\n",
        "                 scoring = make_scorer(recall_score, labels=[0], average=None),\n",
        "                 n_jobs=-1,\n",
        "                 cv=5)"
      ]
    },
    {
      "cell_type": "markdown",
      "metadata": {
        "id": "uqQfPBxfEQgf"
      },
      "source": [
        "Check results"
      ]
    },
    {
      "cell_type": "code",
      "execution_count": null,
      "metadata": {
        "id": "yXUbzctLfXd2"
      },
      "outputs": [],
      "source": [
        "grid_search_summary, grid_search_pipelines = quick_search.score_summary(sort_by='mean_score')\n",
        "grid_search_summary"
      ]
    },
    {
      "cell_type": "markdown",
      "metadata": {
        "id": "uQWhAJtcDoSI"
      },
      "source": [
        "### Do an extensive search on the most suitable model to find the best hyperparameter configuration."
      ]
    },
    {
      "cell_type": "markdown",
      "metadata": {
        "id": "yyeaZbCFDxf4"
      },
      "source": [
        "Define models and parameters"
      ]
    },
    {
      "cell_type": "code",
      "execution_count": null,
      "metadata": {
        "id": "FxEXnjBWDzOr"
      },
      "outputs": [],
      "source": [
        "models_search = {\n",
        "    \"AdaBoostClassifier\": AdaBoostClassifier(random_state=0),\n",
        "}\n",
        "\n",
        "# documentation to help on hyperparameter list:\n",
        "# https://scikit-learn.org/stable/modules/generated/sklearn.ensemble.AdaBoostClassifier.html\n",
        "params_search = {\n",
        "    \"AdaBoostClassifier\": {\n",
        "        'model__n_estimators': [50, 100, 300],\n",
        "        'model__learning_rate': [1e-1, 1e-2, 1e-3],\n",
        "    }\n",
        "}\n"
      ]
    },
    {
      "cell_type": "markdown",
      "metadata": {
        "id": "ZcqabQPpD_vX"
      },
      "source": [
        "Extensive GridSearch CV"
      ]
    },
    {
      "cell_type": "code",
      "execution_count": null,
      "metadata": {
        "id": "CC2xgdgkECox"
      },
      "outputs": [],
      "source": [
        "from sklearn.metrics import make_scorer,  recall_score\n",
        "search = HyperparameterOptimizationSearch(\n",
        "    models=models_search, params=params_search)\n",
        "search.fit(X_train, y_train,\n",
        "           scoring=make_scorer(recall_score, labels=[0], average=None),\n",
        "           n_jobs=-1, cv=5)\n"
      ]
    },
    {
      "cell_type": "markdown",
      "metadata": {
        "id": "RDne0BgoEaDz"
      },
      "source": [
        "Check results"
      ]
    },
    {
      "cell_type": "code",
      "execution_count": null,
      "metadata": {
        "id": "KsNiNwdGECra"
      },
      "outputs": [],
      "source": [
        "grid_search_summary, grid_search_pipelines = search.score_summary(sort_by='mean_score')\n",
        "grid_search_summary"
      ]
    },
    {
      "cell_type": "markdown",
      "metadata": {
        "id": "-bZ2Qu5JEhrp"
      },
      "source": [
        "\n",
        "Check the best model"
      ]
    },
    {
      "cell_type": "code",
      "execution_count": null,
      "metadata": {
        "id": "aAbJosK8ECt-"
      },
      "outputs": [],
      "source": [
        "best_model = grid_search_summary.iloc[0,0]\n",
        "best_model"
      ]
    },
    {
      "cell_type": "markdown",
      "metadata": {
        "id": "qUyqeVjkEjn7"
      },
      "source": [
        "Parameters for best model\n",
        "* We are saving this content for later"
      ]
    },
    {
      "cell_type": "code",
      "execution_count": null,
      "metadata": {
        "id": "BXPyDbbxYbv6"
      },
      "outputs": [],
      "source": [
        "best_parameters = grid_search_pipelines[best_model].best_params_\n",
        "best_parameters"
      ]
    },
    {
      "cell_type": "markdown",
      "metadata": {
        "id": "_YUeAvIsEo5v"
      },
      "source": [
        "Define the best clf pipeline"
      ]
    },
    {
      "cell_type": "code",
      "execution_count": null,
      "metadata": {
        "id": "LTrUEOcBYby4"
      },
      "outputs": [],
      "source": [
        "pipeline_clf = grid_search_pipelines[best_model].best_estimator_\n",
        "pipeline_clf"
      ]
    },
    {
      "cell_type": "markdown",
      "metadata": {
        "id": "aGc1W7wEM2GP"
      },
      "source": [
        "## Assess feature importance"
      ]
    },
    {
      "cell_type": "markdown",
      "metadata": {
        "id": "fHN_VRwZarUp"
      },
      "source": [
        "We can assess feature importance for this model with `.feature_importances_`"
      ]
    },
    {
      "cell_type": "code",
      "execution_count": null,
      "metadata": {
        "id": "kfckT_bFxFaE"
      },
      "outputs": [],
      "source": [
        "# after data cleaning and feat engine, the feature may space changes\n",
        "# how much data cleaning and feature engineering does your pipeline have?\n",
        "data_cleaning_feat_eng_steps = 2\n",
        "columns_after_data_cleaning_feat_eng = (Pipeline(pipeline_clf.steps[:data_cleaning_feat_eng_steps])\n",
        "                                        .transform(X_train)\n",
        "                                        .columns)\n",
        "\n",
        "# best_features = columns_after_data_cleaning_feat_eng\n",
        "best_features = columns_after_data_cleaning_feat_eng[pipeline_clf['feat_selection'].get_support(\n",
        ")].to_list()\n",
        "\n",
        "# create DataFrame to display feature importance\n",
        "df_feature_importance = (pd.DataFrame(data={\n",
        "    'Feature': columns_after_data_cleaning_feat_eng[pipeline_clf['feat_selection'].get_support()],\n",
        "    'Importance': pipeline_clf['model'].feature_importances_})\n",
        "    .sort_values(by='Importance', ascending=False)\n",
        ")\n",
        "\n",
        "# reassign best features in order\n",
        "best_features = df_feature_importance['Feature'].to_list()\n",
        "\n",
        "# Most important features statement and plot\n",
        "print(f\"* These are the {len(best_features)} most important features in descending order. \"\n",
        "      f\"The model was trained on them: \\n{best_features}\")\n",
        "\n",
        "df_feature_importance.plot(kind='bar', x='Feature', y='Importance')\n",
        "plt.show()\n"
      ]
    },
    {
      "cell_type": "markdown",
      "metadata": {
        "id": "jiwI6U28UV4C"
      },
      "source": [
        "## Evaluate Classifier on Train and Test Sets"
      ]
    },
    {
      "cell_type": "markdown",
      "metadata": {
        "id": "6sL9XamIDTG3"
      },
      "source": [
        "Custom Function"
      ]
    },
    {
      "cell_type": "code",
      "execution_count": null,
      "metadata": {
        "id": "yMcvrPmdXbmP"
      },
      "outputs": [],
      "source": [
        "from sklearn.metrics import classification_report, confusion_matrix\n",
        "\n",
        "\n",
        "def confusion_matrix_and_report(X, y, pipeline, label_map):\n",
        "\n",
        "    prediction = pipeline.predict(X)\n",
        "\n",
        "    print('---  Confusion Matrix  ---')\n",
        "    print(pd.DataFrame(confusion_matrix(y_true=prediction, y_pred=y),\n",
        "          columns=[[\"Actual \" + sub for sub in label_map]],\n",
        "          index=[[\"Prediction \" + sub for sub in label_map]]\n",
        "          ))\n",
        "    print(\"\\n\")\n",
        "\n",
        "    print('---  Classification Report  ---')\n",
        "    print(classification_report(y, prediction, target_names=label_map), \"\\n\")\n",
        "\n",
        "\n",
        "def clf_performance(X_train, y_train, X_test, y_test, pipeline, label_map):\n",
        "    print(\"#### Train Set #### \\n\")\n",
        "    confusion_matrix_and_report(X_train, y_train, pipeline, label_map)\n",
        "\n",
        "    print(\"#### Test Set ####\\n\")\n",
        "    confusion_matrix_and_report(X_test, y_test, pipeline, label_map)\n"
      ]
    },
    {
      "cell_type": "markdown",
      "metadata": {
        "id": "PyX8PsH-0z8z"
      },
      "source": [
        "List that relates the classes and tenure interval"
      ]
    },
    {
      "cell_type": "code",
      "execution_count": null,
      "metadata": {},
      "outputs": [],
      "source": [
        "disc.binner_dict_['tenure']"
      ]
    },
    {
      "cell_type": "markdown",
      "metadata": {},
      "source": [
        "We can create manually"
      ]
    },
    {
      "cell_type": "code",
      "execution_count": null,
      "metadata": {},
      "outputs": [],
      "source": [
        "label_map = ['<4.0', '4.0 to 20.0','+20.0']\n",
        "label_map"
      ]
    },
    {
      "cell_type": "code",
      "execution_count": null,
      "metadata": {
        "id": "no7flbMcYbsz"
      },
      "outputs": [],
      "source": [
        "clf_performance(X_train=X_train, y_train=y_train,\n",
        "                        X_test=X_test, y_test=y_test,\n",
        "                        pipeline=pipeline_clf,\n",
        "                        label_map= label_map )"
      ]
    },
    {
      "cell_type": "markdown",
      "metadata": {
        "id": "mQ3u0TodDdOZ"
      },
      "source": [
        "# Which pipeline to choose?"
      ]
    },
    {
      "cell_type": "markdown",
      "metadata": {
        "id": "FE5va8Cr-CCy"
      },
      "source": [
        "We fitted 3 pipelines:\n",
        "* Regression\n",
        "* Regression with PCA\n",
        "* Classifier"
      ]
    },
    {
      "cell_type": "markdown",
      "metadata": {
        "id": "sQR54xeCbIAH"
      },
      "source": [
        "The regressor pipelines didn't reach the expected performance threshold (0.7 R2 score) for the train and test set.\n",
        "\n",
        "The classifier was tuned on Recall for class 0 (tenure <4 months), since we are interested to detect prospects that may churn soon. \n",
        "* It has reasonable performance for class 0 (<4 months) and class 2 (+20 months)\n",
        "* Class 1 (4 to 20 months) has weak performance."
      ]
    },
    {
      "cell_type": "code",
      "execution_count": null,
      "metadata": {},
      "outputs": [],
      "source": [
        "pipeline_clf"
      ]
    },
    {
      "cell_type": "markdown",
      "metadata": {
        "id": "1BqT1Kne54Fq"
      },
      "source": [
        "# Refit pipeline with best features"
      ]
    },
    {
      "cell_type": "markdown",
      "metadata": {},
      "source": [
        "## Rewrite Pipeline"
      ]
    },
    {
      "cell_type": "code",
      "execution_count": null,
      "metadata": {},
      "outputs": [],
      "source": [
        "def PipelineOptimization(model):\n",
        "    pipeline_base = Pipeline([\n",
        "\n",
        "        (\"OrdinalCategoricalEncoder\", OrdinalEncoder(encoding_method='arbitrary',\n",
        "                                                     variables=['Contract', 'PaymentMethod'])),\n",
        "\n",
        "        (\"feat_scaling\", StandardScaler()),\n",
        "\n",
        "        # feature selection is not needed\n",
        "\n",
        "        (\"model\", model),\n",
        "\n",
        "    ])\n",
        "\n",
        "    return pipeline_base\n"
      ]
    },
    {
      "cell_type": "markdown",
      "metadata": {
        "id": "GpgS-AgU6IWx"
      },
      "source": [
        "## Split Train Test Set, only with best features"
      ]
    },
    {
      "cell_type": "code",
      "execution_count": null,
      "metadata": {
        "id": "_31XFcrg6IWy"
      },
      "outputs": [],
      "source": [
        "X_train, X_test, y_train, y_test = train_test_split(\n",
        "    df_clf.drop(['tenure'], axis=1),\n",
        "    df_clf['tenure'],\n",
        "    test_size=0.2,\n",
        "    random_state=0\n",
        ")\n",
        "\n",
        "print(\"* Train set:\", X_train.shape, y_train.shape,\n",
        "      \"\\n* Test set:\",  X_test.shape, y_test.shape)\n"
      ]
    },
    {
      "cell_type": "markdown",
      "metadata": {
        "id": "ohPWfCs2E_3G"
      },
      "source": [
        "Subset Best Features"
      ]
    },
    {
      "cell_type": "code",
      "execution_count": null,
      "metadata": {
        "id": "UUEIfyLU6IWz"
      },
      "outputs": [],
      "source": [
        "X_train = X_train.filter(best_features)\n",
        "X_test = X_test.filter(best_features)\n",
        "\n",
        "print(\"* Train set:\", X_train.shape, y_train.shape, \"\\n* Test set:\",  X_test.shape, y_test.shape)\n",
        "X_train.head(3)"
      ]
    },
    {
      "cell_type": "markdown",
      "metadata": {
        "id": "2fT_mdLWFJFz"
      },
      "source": [
        "## Grid Search CV – Sklearn"
      ]
    },
    {
      "cell_type": "markdown",
      "metadata": {
        "id": "RfKEBTyLeDtj"
      },
      "source": [
        "We are using the same model from the previous GridCV search"
      ]
    },
    {
      "cell_type": "code",
      "execution_count": null,
      "metadata": {
        "id": "_1qcZktreHH5"
      },
      "outputs": [],
      "source": [
        "models_search"
      ]
    },
    {
      "cell_type": "markdown",
      "metadata": {
        "id": "9WaSA9jcecXr"
      },
      "source": [
        "And the best parameters from the previous GridCV search"
      ]
    },
    {
      "cell_type": "code",
      "execution_count": null,
      "metadata": {
        "id": "XXi0L025eKA6"
      },
      "outputs": [],
      "source": [
        "best_parameters"
      ]
    },
    {
      "cell_type": "markdown",
      "metadata": {
        "id": "_7jAkvlBeeQl"
      },
      "source": [
        "You will need to type in manually since the hyperparameter values have to be a list. The previous dictionary is not in this format."
      ]
    },
    {
      "cell_type": "code",
      "execution_count": null,
      "metadata": {
        "id": "u9HBXI2E58_5"
      },
      "outputs": [],
      "source": [
        "params_search = {'AdaBoostClassifier':  {\n",
        "    'model__learning_rate': [0.001],   # the value should be in []\n",
        "    'model__n_estimators': [50]       # the value should be in []\n",
        "}\n",
        "}\n",
        "params_search"
      ]
    },
    {
      "cell_type": "code",
      "execution_count": null,
      "metadata": {},
      "outputs": [],
      "source": [
        "# params_search = {f'{models_search}': best_parameters}\n",
        "# params_search"
      ]
    },
    {
      "cell_type": "markdown",
      "metadata": {
        "id": "zEZYXLRQfvTL"
      },
      "source": [
        "GridSearch CV"
      ]
    },
    {
      "cell_type": "code",
      "execution_count": null,
      "metadata": {
        "id": "msJPkpo8fFAI"
      },
      "outputs": [],
      "source": [
        "from sklearn.metrics import make_scorer, recall_score\n",
        "search = HyperparameterOptimizationSearch(models=models_search, params=params_search)\n",
        "search.fit(X_train, y_train,\n",
        "           scoring = make_scorer(recall_score, labels=[0], average=None),\n",
        "           n_jobs=-1,cv=5)"
      ]
    },
    {
      "cell_type": "markdown",
      "metadata": {
        "id": "OcgDvuLRfwsE"
      },
      "source": [
        "\n",
        "Check results"
      ]
    },
    {
      "cell_type": "code",
      "execution_count": null,
      "metadata": {
        "id": "loZEVp8g6q9O"
      },
      "outputs": [],
      "source": [
        "grid_search_summary, grid_search_pipelines = search.score_summary(sort_by='mean_score')\n",
        "grid_search_summary"
      ]
    },
    {
      "cell_type": "markdown",
      "metadata": {
        "id": "3TE6Xgvif1ek"
      },
      "source": [
        "Check the best model"
      ]
    },
    {
      "cell_type": "code",
      "execution_count": null,
      "metadata": {
        "id": "sf6qYXV06q9O"
      },
      "outputs": [],
      "source": [
        "best_model = grid_search_summary.iloc[0,0]\n",
        "best_model"
      ]
    },
    {
      "cell_type": "markdown",
      "metadata": {
        "id": "oeB08Md3f60p"
      },
      "source": [
        "Define the best clf pipeline"
      ]
    },
    {
      "cell_type": "code",
      "execution_count": null,
      "metadata": {
        "id": "YuA9mpyk6q9P"
      },
      "outputs": [],
      "source": [
        "pipeline_clf = grid_search_pipelines[best_model].best_estimator_\n",
        "pipeline_clf"
      ]
    },
    {
      "cell_type": "markdown",
      "metadata": {
        "id": "IN0aj0iv6q9P"
      },
      "source": [
        "## Assess feature importance"
      ]
    },
    {
      "cell_type": "code",
      "execution_count": null,
      "metadata": {
        "id": "dN-blGZb6q9P"
      },
      "outputs": [],
      "source": [
        "# how many data cleaning and feature engineering does your pipeline have?\n",
        "data_cleaning_feat_eng_steps = 1\n",
        "columns_after_data_cleaning_feat_eng = (Pipeline(pipeline_clf.steps[:data_cleaning_feat_eng_steps])\n",
        "                                        .transform(X_train)\n",
        "                                        .columns)\n",
        "\n",
        "best_features = columns_after_data_cleaning_feat_eng\n",
        "\n",
        "# create DataFrame to display feature importance\n",
        "df_feature_importance = (pd.DataFrame(data={\n",
        "    'Feature': columns_after_data_cleaning_feat_eng,\n",
        "    'Importance': pipeline_clf['model'].feature_importances_})\n",
        "    .sort_values(by='Importance', ascending=False)\n",
        ")\n",
        "\n",
        "# Most important features statement and plot\n",
        "print(f\"* These are the {len(best_features)} most important features in descending order. \"\n",
        "      f\"The model was trained on them: \\n{df_feature_importance['Feature'].to_list()}\")\n",
        "\n",
        "df_feature_importance.plot(kind='bar', x='Feature', y='Importance')\n",
        "plt.show()\n"
      ]
    },
    {
      "cell_type": "markdown",
      "metadata": {
        "id": "h7fjgzReFYeM"
      },
      "source": [
        "## Evaluate Classifier on Train and Test Sets"
      ]
    },
    {
      "cell_type": "code",
      "execution_count": null,
      "metadata": {
        "id": "aPeKtw3A59C3"
      },
      "outputs": [],
      "source": [
        "clf_performance(X_train=X_train, y_train=y_train,\n",
        "                        X_test=X_test, y_test=y_test,\n",
        "                        pipeline=pipeline_clf,\n",
        "                        label_map= label_map )"
      ]
    },
    {
      "cell_type": "markdown",
      "metadata": {
        "id": "GBtppR73G1Yx"
      },
      "source": [
        "# Push files to the repo"
      ]
    },
    {
      "cell_type": "markdown",
      "metadata": {
        "id": "ShuJ5tYUC06o"
      },
      "source": [
        "We will generate the following files\n",
        "\n",
        "* Train set\n",
        "* Test set\n",
        "* Modeling pipeline\n",
        "* label map\n",
        "* features importance plot"
      ]
    },
    {
      "cell_type": "code",
      "execution_count": null,
      "metadata": {
        "id": "8vBpPvnaG5Mb"
      },
      "outputs": [],
      "source": [
        "import joblib\n",
        "import os\n",
        "\n",
        "version = 'v1'\n",
        "file_path = f'outputs/ml_pipeline/predict_tenure/{version}'\n",
        "\n",
        "try:\n",
        "  os.makedirs(name=file_path)\n",
        "except Exception as e:\n",
        "  print(e)"
      ]
    },
    {
      "cell_type": "markdown",
      "metadata": {
        "id": "4TvoMsi3DNw1"
      },
      "source": [
        "## Train Set: features and target"
      ]
    },
    {
      "cell_type": "code",
      "execution_count": null,
      "metadata": {
        "id": "yJHmwyqgDOr1"
      },
      "outputs": [],
      "source": [
        "X_train.head()"
      ]
    },
    {
      "cell_type": "code",
      "execution_count": null,
      "metadata": {
        "id": "yh6w6R7tDOvM"
      },
      "outputs": [],
      "source": [
        "X_train.to_csv(f\"{file_path}/X_train.csv\", index=False)"
      ]
    },
    {
      "cell_type": "code",
      "execution_count": null,
      "metadata": {
        "id": "pB6pjmAcDOym"
      },
      "outputs": [],
      "source": [
        "y_train"
      ]
    },
    {
      "cell_type": "code",
      "execution_count": null,
      "metadata": {
        "id": "ZZ93HN6cDPBN"
      },
      "outputs": [],
      "source": [
        "y_train.to_csv(f\"{file_path}/y_train.csv\", index=False)"
      ]
    },
    {
      "cell_type": "markdown",
      "metadata": {
        "id": "aVbS3OnRDYtJ"
      },
      "source": [
        "## Test Set: features and target"
      ]
    },
    {
      "cell_type": "code",
      "execution_count": null,
      "metadata": {
        "id": "XbgF38n1DaPp"
      },
      "outputs": [],
      "source": [
        "X_test.head()"
      ]
    },
    {
      "cell_type": "code",
      "execution_count": null,
      "metadata": {
        "id": "x9lM0xDvDaVZ"
      },
      "outputs": [],
      "source": [
        "X_test.to_csv(f\"{file_path}/X_test.csv\", index=False)"
      ]
    },
    {
      "cell_type": "code",
      "execution_count": null,
      "metadata": {
        "id": "5Jz66iMaDacI"
      },
      "outputs": [],
      "source": [
        "y_test"
      ]
    },
    {
      "cell_type": "code",
      "execution_count": null,
      "metadata": {
        "id": "weYaJ4UxDake"
      },
      "outputs": [],
      "source": [
        "y_test.to_csv(f\"{file_path}/y_test.csv\", index=False)"
      ]
    },
    {
      "cell_type": "markdown",
      "metadata": {
        "id": "U-XpkYAPFncu"
      },
      "source": [
        "## Modelling pipeline"
      ]
    },
    {
      "cell_type": "markdown",
      "metadata": {
        "id": "xLmFFWF6RGo6"
      },
      "source": [
        "ML pipeline for predicting tenure"
      ]
    },
    {
      "cell_type": "code",
      "execution_count": null,
      "metadata": {
        "id": "vQkr4rcrHDnn"
      },
      "outputs": [],
      "source": [
        "pipeline_clf"
      ]
    },
    {
      "cell_type": "code",
      "execution_count": null,
      "metadata": {
        "id": "YrZPif2aHdyO"
      },
      "outputs": [],
      "source": [
        "joblib.dump(value=pipeline_clf, filename=f\"{file_path}/clf_pipeline.pkl\")"
      ]
    },
    {
      "cell_type": "markdown",
      "metadata": {
        "id": "LUCrXGvUFpeB"
      },
      "source": [
        "## List  mapping target levels to ranges"
      ]
    },
    {
      "cell_type": "markdown",
      "metadata": {
        "id": "TFkAKp0eRMYM"
      },
      "source": [
        "Map for converting numerical variable to categorical variable"
      ]
    },
    {
      "cell_type": "code",
      "execution_count": null,
      "metadata": {
        "id": "V6HfkzarHHbW"
      },
      "outputs": [],
      "source": [
        "label_map"
      ]
    },
    {
      "cell_type": "code",
      "execution_count": null,
      "metadata": {
        "id": "TPEpdAgPHQaL"
      },
      "outputs": [],
      "source": [
        "joblib.dump(value=label_map, filename=f\"{file_path}/label_map.pkl\")"
      ]
    },
    {
      "cell_type": "markdown",
      "metadata": {
        "id": "tTJlYRC5Q2wJ"
      },
      "source": [
        "## Feature importance plot"
      ]
    },
    {
      "cell_type": "code",
      "execution_count": null,
      "metadata": {
        "id": "0SfLH05-Q2D8"
      },
      "outputs": [],
      "source": [
        "df_feature_importance.plot(kind='bar', x='Feature', y='Importance')\n",
        "plt.show()"
      ]
    },
    {
      "cell_type": "code",
      "execution_count": null,
      "metadata": {
        "id": "R-Hc2H3dQ74Z"
      },
      "outputs": [],
      "source": [
        "df_feature_importance.plot(kind='bar',x='Feature',y='Importance')\n",
        "plt.savefig(f'{file_path}/features_importance.png', bbox_inches='tight')"
      ]
    },
    {
      "cell_type": "markdown",
      "metadata": {
        "id": "Sh0SKfv_s-3V"
      },
      "source": [
        "Good job! Clear cell's outputs, push to the repo using git commands and move on to the next notebook"
      ]
    },
    {
      "cell_type": "markdown",
      "metadata": {},
      "source": [
        "---"
      ]
    }
  ],
  "metadata": {
    "accelerator": "GPU",
    "colab": {
      "name": "Modeling and Evaluation - Predict Tenure.ipynb",
      "provenance": []
    },
    "kernelspec": {
      "display_name": "Python 3",
      "language": "python",
      "name": "python3"
    },
    "language_info": {
      "codemirror_mode": {
        "name": "ipython",
        "version": 3
      },
      "file_extension": ".py",
      "mimetype": "text/x-python",
      "name": "python",
      "nbconvert_exporter": "python",
      "pygments_lexer": "ipython3",
      "version": "3.8.12"
    },
    "orig_nbformat": 2,
    "vscode": {
      "interpreter": {
        "hash": "8b8334dab9339717f727a1deaf837b322d7a41c20d15cc86be99a8e69ceec8ce"
      }
    }
  },
  "nbformat": 4,
  "nbformat_minor": 2
}
