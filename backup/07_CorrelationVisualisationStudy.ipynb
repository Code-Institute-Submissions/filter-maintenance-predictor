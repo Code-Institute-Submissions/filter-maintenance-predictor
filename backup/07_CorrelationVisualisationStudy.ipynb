{
 "cells": [
  {
   "cell_type": "markdown",
   "metadata": {},
   "source": [
    "# CI Portfolio Project 5 - Filter Maintenance Predictor 2022\n",
    "## **Correlation Study and Visualization**"
   ]
  },
  {
   "cell_type": "markdown",
   "metadata": {},
   "source": [
    "## Objectives\n",
    "\n",
    "Answer [Business Requirement 4](https://github.com/roeszler/filter-maintenance-predictor/blob/main/README.md#business-requirements) : \n",
    "* The client is interested to understand the patterns from the filter degradation process to reveal the most relevant factors that influence the time that a replacement part will fail and which factors could extend its lifespan?.\n",
    "\n",
    "## Inputs\n",
    "\n",
    "Data cleaning and feature engineering from their respective notebooks:\n",
    "* inputs/datasets/cleaned/df_combined.csv\n",
    "* Dropping ['RUL'] variable from the combined dataset\n",
    "\n",
    "## Outputs\n",
    "\n",
    "* Generate code that answers business requirement 4 and can be used to build the Streamlit App"
   ]
  },
  {
   "cell_type": "markdown",
   "metadata": {},
   "source": [
    "---"
   ]
  },
  {
   "cell_type": "code",
   "execution_count": null,
   "metadata": {},
   "outputs": [],
   "source": []
  }
 ],
 "metadata": {
  "kernelspec": {
   "display_name": "Python 3",
   "language": "python",
   "name": "python3"
  },
  "language_info": {
   "name": "python",
   "version": "3.8.12 (default, Dec  2 2022, 16:09:02) \n[GCC 9.4.0]"
  },
  "orig_nbformat": 4,
  "vscode": {
   "interpreter": {
    "hash": "8b8334dab9339717f727a1deaf837b322d7a41c20d15cc86be99a8e69ceec8ce"
   }
  }
 },
 "nbformat": 4,
 "nbformat_minor": 2
}
